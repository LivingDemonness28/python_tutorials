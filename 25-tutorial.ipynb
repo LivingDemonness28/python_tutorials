{
 "cells": [
  {
   "cell_type": "markdown",
   "id": "b1897e39",
   "metadata": {},
   "source": [
    "# Simplified Version"
   ]
  },
  {
   "cell_type": "code",
   "execution_count": 1,
   "id": "44aa0557",
   "metadata": {},
   "outputs": [],
   "source": [
    "def name_len():\n",
    "    first_name = str(input(\"Please enter you name: \"))\n",
    "    length = len(first_name)\n",
    "    print(\"The length of your name is {}.\".format(length))"
   ]
  },
  {
   "cell_type": "code",
   "execution_count": 2,
   "id": "fde109a3",
   "metadata": {},
   "outputs": [
    {
     "name": "stdout",
     "output_type": "stream",
     "text": [
      "Please enter you name: LivingDemoness28\n",
      "The length of your name is 16.\n"
     ]
    }
   ],
   "source": [
    "name_len()"
   ]
  },
  {
   "cell_type": "code",
   "execution_count": 3,
   "id": "40a1ead7",
   "metadata": {},
   "outputs": [
    {
     "name": "stdout",
     "output_type": "stream",
     "text": [
      "Please enter you name: Choc\n",
      "The length of your name is 4.\n"
     ]
    }
   ],
   "source": [
    "name_len()"
   ]
  },
  {
   "cell_type": "code",
   "execution_count": 4,
   "id": "13b7365b",
   "metadata": {},
   "outputs": [
    {
     "name": "stdout",
     "output_type": "stream",
     "text": [
      "Please enter you name: Chocolate\n",
      "The length of your name is 9.\n"
     ]
    }
   ],
   "source": [
    "name_len()"
   ]
  }
 ],
 "metadata": {
  "kernelspec": {
   "display_name": "Python 3 (ipykernel)",
   "language": "python",
   "name": "python3"
  },
  "language_info": {
   "codemirror_mode": {
    "name": "ipython",
    "version": 3
   },
   "file_extension": ".py",
   "mimetype": "text/x-python",
   "name": "python",
   "nbconvert_exporter": "python",
   "pygments_lexer": "ipython3",
   "version": "3.8.16"
  }
 },
 "nbformat": 4,
 "nbformat_minor": 5
}
