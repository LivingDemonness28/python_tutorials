{
 "cells": [
  {
   "cell_type": "markdown",
   "id": "b1897e39",
   "metadata": {},
   "source": [
    "# Simplified Version"
   ]
  },
  {
   "cell_type": "code",
   "execution_count": 1,
   "id": "44aa0557",
   "metadata": {},
   "outputs": [],
   "source": [
    "def name_len():\n",
    "    name = str(input(\"Please enter you name: \"))\n",
    "    name = name.replace(\" \", \"\")\n",
    "    length = len(name)\n",
    "    print(\"The length of your name is {}.\".format(length))"
   ]
  },
  {
   "cell_type": "code",
   "execution_count": 2,
   "id": "fde109a3",
   "metadata": {},
   "outputs": [
    {
     "name": "stdout",
     "output_type": "stream",
     "text": [
      "Please enter you name: Living Demoness28\n",
      "The length of your name is 16.\n"
     ]
    }
   ],
   "source": [
    "name_len()"
   ]
  },
  {
   "cell_type": "code",
   "execution_count": 3,
   "id": "40a1ead7",
   "metadata": {},
   "outputs": [
    {
     "name": "stdout",
     "output_type": "stream",
     "text": [
      "Please enter you name: LivingDemoness28\n",
      "The length of your name is 16.\n"
     ]
    }
   ],
   "source": [
    "name_len()"
   ]
  },
  {
   "cell_type": "code",
   "execution_count": 4,
   "id": "13b7365b",
   "metadata": {},
   "outputs": [
    {
     "name": "stdout",
     "output_type": "stream",
     "text": [
      "Please enter you name: choc\n",
      "The length of your name is 4.\n"
     ]
    }
   ],
   "source": [
    "name_len()"
   ]
  },
  {
   "cell_type": "markdown",
   "id": "c240e920",
   "metadata": {},
   "source": [
    "# More Modified Version"
   ]
  },
  {
   "cell_type": "code",
   "execution_count": 5,
   "id": "3b96d4d7",
   "metadata": {},
   "outputs": [],
   "source": [
    "import string\n",
    "\n",
    "def name_len_1():\n",
    "    name = str(input(\"Please enter you name: \"))\n",
    "    punct = str.maketrans(\"\", \"\", string.punctuation)\n",
    "    name = name.replace(\" \", \"\")\n",
    "    name = name.translate(punct)\n",
    "    length = len(name)\n",
    "    print(\"The length of your name is {}.\".format(length))"
   ]
  },
  {
   "cell_type": "code",
   "execution_count": 6,
   "id": "4b06b196",
   "metadata": {},
   "outputs": [
    {
     "name": "stdout",
     "output_type": "stream",
     "text": [
      "Please enter you name: Living-Demoness 28\n",
      "The length of your name is 16.\n"
     ]
    }
   ],
   "source": [
    "name_len_1()"
   ]
  },
  {
   "cell_type": "code",
   "execution_count": 7,
   "id": "be2d808f",
   "metadata": {},
   "outputs": [
    {
     "name": "stdout",
     "output_type": "stream",
     "text": [
      "Please enter you name: Olivia-Ruby\n",
      "The length of your name is 10.\n"
     ]
    }
   ],
   "source": [
    "name_len_1()"
   ]
  },
  {
   "cell_type": "code",
   "execution_count": 8,
   "id": "ef1c81f5",
   "metadata": {},
   "outputs": [
    {
     "name": "stdout",
     "output_type": "stream",
     "text": [
      "Please enter you name: Olivia Ruby\n",
      "The length of your name is 10.\n"
     ]
    }
   ],
   "source": [
    "name_len_1()"
   ]
  }
 ],
 "metadata": {
  "kernelspec": {
   "display_name": "Python 3 (ipykernel)",
   "language": "python",
   "name": "python3"
  },
  "language_info": {
   "codemirror_mode": {
    "name": "ipython",
    "version": 3
   },
   "file_extension": ".py",
   "mimetype": "text/x-python",
   "name": "python",
   "nbconvert_exporter": "python",
   "pygments_lexer": "ipython3",
   "version": "3.8.16"
  }
 },
 "nbformat": 4,
 "nbformat_minor": 5
}
