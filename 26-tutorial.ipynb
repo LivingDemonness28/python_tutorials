{
 "cells": [
  {
   "cell_type": "code",
   "execution_count": 1,
   "id": "10dbb2dd",
   "metadata": {},
   "outputs": [],
   "source": [
    "def fns_length():\n",
    "    first_name = str(input(\"Please enter your first name: \"))\n",
    "    surname = str(input(\"Please enter your surname: \"))\n",
    "    fns = \"\\033[1m\" + first_name + \" \" + surname + \"\\033[0m\"\n",
    "    print(' ')\n",
    "    print(fns)\n",
    "    print(' ')\n",
    "    FNS = first_name + surname\n",
    "    length = len(FNS)\n",
    "    print(\"The length of your name is {}.\".format(length))"
   ]
  },
  {
   "cell_type": "code",
   "execution_count": 2,
   "id": "da021f8e",
   "metadata": {},
   "outputs": [
    {
     "name": "stdout",
     "output_type": "stream",
     "text": [
      "Please enter your first name: Living\n",
      "Please enter your surname: Demoness28\n",
      " \n",
      "\u001b[1mLiving Demoness28\u001b[0m\n",
      " \n",
      "The length of your name is 16.\n"
     ]
    }
   ],
   "source": [
    "fns_length()"
   ]
  },
  {
   "cell_type": "code",
   "execution_count": 3,
   "id": "6aa2d79a",
   "metadata": {},
   "outputs": [
    {
     "name": "stdout",
     "output_type": "stream",
     "text": [
      "Please enter your first name: Choco\n",
      "Please enter your surname: late\n",
      " \n",
      "\u001b[1mChoco late\u001b[0m\n",
      " \n",
      "The length of your name is 9.\n"
     ]
    }
   ],
   "source": [
    "fns_length()"
   ]
  }
 ],
 "metadata": {
  "kernelspec": {
   "display_name": "Python 3 (ipykernel)",
   "language": "python",
   "name": "python3"
  },
  "language_info": {
   "codemirror_mode": {
    "name": "ipython",
    "version": 3
   },
   "file_extension": ".py",
   "mimetype": "text/x-python",
   "name": "python",
   "nbconvert_exporter": "python",
   "pygments_lexer": "ipython3",
   "version": "3.8.16"
  }
 },
 "nbformat": 4,
 "nbformat_minor": 5
}
