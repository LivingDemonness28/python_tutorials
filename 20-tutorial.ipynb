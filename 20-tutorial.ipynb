{
 "cells": [
  {
   "cell_type": "markdown",
   "id": "f272608e",
   "metadata": {},
   "source": [
    "# <center>While Loop</center>"
   ]
  },
  {
   "cell_type": "markdown",
   "id": "5f8eddc6",
   "metadata": {},
   "source": [
    "### Simplified version"
   ]
  },
  {
   "cell_type": "code",
   "execution_count": 1,
   "id": "53337131",
   "metadata": {},
   "outputs": [],
   "source": [
    "def count():\n",
    "    num = int(input(\"Please enter an integer below 50: \"))\n",
    "    print(' ')\n",
    "    if (num < 50):\n",
    "        i = 50\n",
    "        while (i >= num):\n",
    "            print(i)\n",
    "            i -= 1\n",
    "    else:\n",
    "        print(\"Error: Number should be less than 50\")"
   ]
  },
  {
   "cell_type": "code",
   "execution_count": 2,
   "id": "f8cac170",
   "metadata": {
    "scrolled": false
   },
   "outputs": [
    {
     "name": "stdout",
     "output_type": "stream",
     "text": [
      "Please enter an integer below 50: 35\n",
      " \n",
      "50\n",
      "49\n",
      "48\n",
      "47\n",
      "46\n",
      "45\n",
      "44\n",
      "43\n",
      "42\n",
      "41\n",
      "40\n",
      "39\n",
      "38\n",
      "37\n",
      "36\n",
      "35\n"
     ]
    }
   ],
   "source": [
    "count()"
   ]
  },
  {
   "cell_type": "code",
   "execution_count": 3,
   "id": "6c861d7a",
   "metadata": {},
   "outputs": [
    {
     "name": "stdout",
     "output_type": "stream",
     "text": [
      "Please enter an integer below 50: 50\n",
      " \n",
      "Error: Number should be less than 50\n"
     ]
    }
   ],
   "source": [
    "count()"
   ]
  },
  {
   "cell_type": "markdown",
   "id": "3e382b8c",
   "metadata": {},
   "source": [
    "### Version on loop until the number required is entered"
   ]
  },
  {
   "cell_type": "code",
   "execution_count": 4,
   "id": "52afefc0",
   "metadata": {},
   "outputs": [],
   "source": [
    "def count_loop():\n",
    "    # initialize the variable num\n",
    "    #this prompts us to enter the first while loop\n",
    "    num = 50\n",
    "\n",
    "    while num >= 50:\n",
    "        integer = input(\"Please enter an integer below 50: \")\n",
    "        print(' ')\n",
    "        try:\n",
    "            num = int(integer)\n",
    "        except ValueError:\n",
    "            print(\"Invalid input, please enter an integer\")\n",
    "            print(' ')\n",
    "            continue\n",
    "        if num >= 50:\n",
    "            print(\"Integer must be below 50\")\n",
    "            print(' ')\n",
    "\n",
    "    i = 50\n",
    "    while i >= num:\n",
    "        print(i)\n",
    "        i -= 1"
   ]
  },
  {
   "cell_type": "code",
   "execution_count": 5,
   "id": "a1dd3b92",
   "metadata": {
    "scrolled": false
   },
   "outputs": [
    {
     "name": "stdout",
     "output_type": "stream",
     "text": [
      "Please enter an integer below 50: 50\n",
      " \n",
      "Integer must be below 50\n",
      " \n",
      "Please enter an integer below 50: 35\n",
      " \n",
      "50\n",
      "49\n",
      "48\n",
      "47\n",
      "46\n",
      "45\n",
      "44\n",
      "43\n",
      "42\n",
      "41\n",
      "40\n",
      "39\n",
      "38\n",
      "37\n",
      "36\n",
      "35\n"
     ]
    }
   ],
   "source": [
    "count_loop()"
   ]
  },
  {
   "cell_type": "markdown",
   "id": "e0008b3b",
   "metadata": {},
   "source": [
    "# <center>For Loop</center>"
   ]
  },
  {
   "cell_type": "markdown",
   "id": "98cf487c",
   "metadata": {},
   "source": [
    "### Simplified version"
   ]
  },
  {
   "cell_type": "code",
   "execution_count": 6,
   "id": "ef00d881",
   "metadata": {},
   "outputs": [],
   "source": [
    "def count_1():\n",
    "    num = int(input(\"Please enter an integer below 50: \"))\n",
    "    print(' ')\n",
    "    if (num < 50):\n",
    "        num1 = num - 1\n",
    "        for i in range(50, num1, -1):\n",
    "            print(i)\n",
    "    else:\n",
    "        print(\"Error: Number should be less than 50\")"
   ]
  },
  {
   "cell_type": "code",
   "execution_count": 7,
   "id": "deb185ab",
   "metadata": {
    "scrolled": false
   },
   "outputs": [
    {
     "name": "stdout",
     "output_type": "stream",
     "text": [
      "Please enter an integer below 50: 35\n",
      " \n",
      "50\n",
      "49\n",
      "48\n",
      "47\n",
      "46\n",
      "45\n",
      "44\n",
      "43\n",
      "42\n",
      "41\n",
      "40\n",
      "39\n",
      "38\n",
      "37\n",
      "36\n",
      "35\n"
     ]
    }
   ],
   "source": [
    "count_1()"
   ]
  },
  {
   "cell_type": "code",
   "execution_count": 8,
   "id": "584269ca",
   "metadata": {},
   "outputs": [
    {
     "name": "stdout",
     "output_type": "stream",
     "text": [
      "Please enter an integer below 50: 50\n",
      " \n",
      "Error: Number should be less than 50\n"
     ]
    }
   ],
   "source": [
    "count()"
   ]
  },
  {
   "cell_type": "markdown",
   "id": "704f39f3",
   "metadata": {},
   "source": [
    "### Version on loop until the number required is entered"
   ]
  },
  {
   "cell_type": "code",
   "execution_count": 9,
   "id": "2c4e4dc7",
   "metadata": {},
   "outputs": [],
   "source": [
    "def count_loop_1():\n",
    "    # initialize the variable num\n",
    "    #this prompts us to enter the first while loop\n",
    "    num = 50\n",
    "\n",
    "    while num >= 50:\n",
    "        integer = input(\"Please enter an integer below 50: \")\n",
    "        print(' ')\n",
    "        try:\n",
    "            num = int(integer)\n",
    "        except ValueError:\n",
    "            print(\"Invalid input, please enter an integer\")\n",
    "            print(' ')\n",
    "            continue\n",
    "        if num >= 50:\n",
    "            print(\"Integer must be below 50\")\n",
    "            print(' ')\n",
    "\n",
    "    num1 = num - 1\n",
    "    for i in range(50, num1, -1):\n",
    "        print(i)"
   ]
  },
  {
   "cell_type": "code",
   "execution_count": 10,
   "id": "c47d0dd8",
   "metadata": {
    "scrolled": false
   },
   "outputs": [
    {
     "name": "stdout",
     "output_type": "stream",
     "text": [
      "Please enter an integer below 50: 50\n",
      " \n",
      "Integer must be below 50\n",
      " \n",
      "Please enter an integer below 50: 35\n",
      " \n",
      "50\n",
      "49\n",
      "48\n",
      "47\n",
      "46\n",
      "45\n",
      "44\n",
      "43\n",
      "42\n",
      "41\n",
      "40\n",
      "39\n",
      "38\n",
      "37\n",
      "36\n",
      "35\n"
     ]
    }
   ],
   "source": [
    "count_loop()"
   ]
  }
 ],
 "metadata": {
  "kernelspec": {
   "display_name": "Python 3 (ipykernel)",
   "language": "python",
   "name": "python3"
  },
  "language_info": {
   "codemirror_mode": {
    "name": "ipython",
    "version": 3
   },
   "file_extension": ".py",
   "mimetype": "text/x-python",
   "name": "python",
   "nbconvert_exporter": "python",
   "pygments_lexer": "ipython3",
   "version": "3.8.16"
  }
 },
 "nbformat": 4,
 "nbformat_minor": 5
}
