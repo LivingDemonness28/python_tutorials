{
 "cells": [
  {
   "cell_type": "code",
   "execution_count": 1,
   "id": "2da9a93f",
   "metadata": {},
   "outputs": [],
   "source": [
    "def count_string():\n",
    "    string = str(input(\"Please enter a string: \"))\n",
    "    print(' ')\n",
    "    \n",
    "    char = str(input(\"Please enter the substring to be counted: \"))\n",
    "    print(' ')\n",
    "    \n",
    "    count = (string.lower()).count((char.lower()))\n",
    "    \n",
    "    return (\"The \\\"\" + char + \"\\\" occur {} times in \\\"\".format(count) + string + \"\\\"\")"
   ]
  },
  {
   "cell_type": "code",
   "execution_count": 2,
   "id": "792ad462",
   "metadata": {},
   "outputs": [
    {
     "name": "stdout",
     "output_type": "stream",
     "text": [
      "Please enter a string: Humpty Dumpty sat on a wall, Humpty Dumpty had a great fall. All the king's horses and all the king's men couldn't put Humpty together again.\n",
      " \n",
      "Please enter the substring to be counted: humpty\n",
      " \n"
     ]
    },
    {
     "data": {
      "text/plain": [
       "'The \"humpty\" occur 3 times in \"Humpty Dumpty sat on a wall, Humpty Dumpty had a great fall. All the king\\'s horses and all the king\\'s men couldn\\'t put Humpty together again.\"'"
      ]
     },
     "execution_count": 2,
     "metadata": {},
     "output_type": "execute_result"
    }
   ],
   "source": [
    "count_string()"
   ]
  },
  {
   "cell_type": "code",
   "execution_count": 3,
   "id": "2b2b4152",
   "metadata": {},
   "outputs": [
    {
     "name": "stdout",
     "output_type": "stream",
     "text": [
      "Please enter a string: Humpty Dumpty sat on a wall, Humpty Dumpty had a great fall. All the king's horses and all the king's men couldn't put Humpty together again.\n",
      " \n",
      "Please enter the substring to be counted: HUMPTY\n",
      " \n"
     ]
    },
    {
     "data": {
      "text/plain": [
       "'The \"HUMPTY\" occur 3 times in \"Humpty Dumpty sat on a wall, Humpty Dumpty had a great fall. All the king\\'s horses and all the king\\'s men couldn\\'t put Humpty together again.\"'"
      ]
     },
     "execution_count": 3,
     "metadata": {},
     "output_type": "execute_result"
    }
   ],
   "source": [
    "count_string()"
   ]
  },
  {
   "cell_type": "code",
   "execution_count": 4,
   "id": "3cef27a2",
   "metadata": {},
   "outputs": [
    {
     "name": "stdout",
     "output_type": "stream",
     "text": [
      "Please enter a string: Humpty Dumpty sat on a wall, Humpty Dumpty had a great fall. All the king's horses and all the king's men couldn't put Humpty together again.\n",
      " \n",
      "Please enter the substring to be counted: Humpty\n",
      " \n"
     ]
    },
    {
     "data": {
      "text/plain": [
       "'The \"Humpty\" occur 3 times in \"Humpty Dumpty sat on a wall, Humpty Dumpty had a great fall. All the king\\'s horses and all the king\\'s men couldn\\'t put Humpty together again.\"'"
      ]
     },
     "execution_count": 4,
     "metadata": {},
     "output_type": "execute_result"
    }
   ],
   "source": [
    "count_string()"
   ]
  }
 ],
 "metadata": {
  "kernelspec": {
   "display_name": "Python 3 (ipykernel)",
   "language": "python",
   "name": "python3"
  },
  "language_info": {
   "codemirror_mode": {
    "name": "ipython",
    "version": 3
   },
   "file_extension": ".py",
   "mimetype": "text/x-python",
   "name": "python",
   "nbconvert_exporter": "python",
   "pygments_lexer": "ipython3",
   "version": "3.8.16"
  }
 },
 "nbformat": 4,
 "nbformat_minor": 5
}
