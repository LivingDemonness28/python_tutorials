{
 "cells": [
  {
   "cell_type": "code",
   "execution_count": 1,
   "id": "6b77376f",
   "metadata": {},
   "outputs": [],
   "source": [
    "def pig_latin():\n",
    "    word = str(input(\"Please enter a word: \"))\n",
    "    print(' ')\n",
    "    word = word.lower()\n",
    "    length = len(word)\n",
    "    \n",
    "    consonant = \"bcdfghjklmnopqrstvwxyz\"\n",
    "    \n",
    "    word_first = word[0]\n",
    "    \n",
    "    if word_first in consonant:\n",
    "        word_1 = \"\"\n",
    "        i = 1\n",
    "        while i < length:\n",
    "            word_1 = word_1 + word[i]\n",
    "            i += 1\n",
    "        \n",
    "        word_1 = word_1 + word_first + \"ay\"\n",
    "        word_1 = \"\\033[1m\" + word_1 + \"\\033[0m\"\n",
    "        print(\"The pig latin is: \" + word_1)\n",
    "    else:\n",
    "        word_2 = word + \"way\"\n",
    "        word_2 = \"\\033[1m\" + word_2 + \"\\033[0m\"\n",
    "        print(\"The pig latin is: \" + word_2)"
   ]
  },
  {
   "cell_type": "code",
   "execution_count": 2,
   "id": "7b00e76b",
   "metadata": {},
   "outputs": [
    {
     "name": "stdout",
     "output_type": "stream",
     "text": [
      "Please enter a word: pig\n",
      " \n",
      "The pig latin is: \u001b[1migpay\u001b[0m\n"
     ]
    }
   ],
   "source": [
    "pig_latin()"
   ]
  },
  {
   "cell_type": "code",
   "execution_count": 3,
   "id": "15f4c6cd",
   "metadata": {},
   "outputs": [
    {
     "name": "stdout",
     "output_type": "stream",
     "text": [
      "Please enter a word: banana\n",
      " \n",
      "The pig latin is: \u001b[1mananabay\u001b[0m\n"
     ]
    }
   ],
   "source": [
    "pig_latin()"
   ]
  },
  {
   "cell_type": "code",
   "execution_count": 4,
   "id": "461b6ef5",
   "metadata": {},
   "outputs": [
    {
     "name": "stdout",
     "output_type": "stream",
     "text": [
      "Please enter a word: aadvark\n",
      " \n",
      "The pig latin is: \u001b[1maadvarkway\u001b[0m\n"
     ]
    }
   ],
   "source": [
    "pig_latin()"
   ]
  },
  {
   "cell_type": "code",
   "execution_count": 5,
   "id": "ca6e9c5d",
   "metadata": {},
   "outputs": [
    {
     "name": "stdout",
     "output_type": "stream",
     "text": [
      "Please enter a word: apple\n",
      " \n",
      "The pig latin is: \u001b[1mappleway\u001b[0m\n"
     ]
    }
   ],
   "source": [
    "pig_latin()"
   ]
  },
  {
   "cell_type": "code",
   "execution_count": 6,
   "id": "43b30563",
   "metadata": {},
   "outputs": [
    {
     "name": "stdout",
     "output_type": "stream",
     "text": [
      "Please enter a word: strawberry\n",
      " \n",
      "The pig latin is: \u001b[1mtrawberrysay\u001b[0m\n"
     ]
    }
   ],
   "source": [
    "pig_latin()"
   ]
  },
  {
   "cell_type": "code",
   "execution_count": 7,
   "id": "c58f27cf",
   "metadata": {},
   "outputs": [
    {
     "name": "stdout",
     "output_type": "stream",
     "text": [
      "Please enter a word: pineapple\n",
      " \n",
      "The pig latin is: \u001b[1mineapplepay\u001b[0m\n"
     ]
    }
   ],
   "source": [
    "pig_latin()"
   ]
  },
  {
   "cell_type": "code",
   "execution_count": 8,
   "id": "2c456add",
   "metadata": {},
   "outputs": [
    {
     "name": "stdout",
     "output_type": "stream",
     "text": [
      "Please enter a word: pear\n",
      " \n",
      "The pig latin is: \u001b[1mearpay\u001b[0m\n"
     ]
    }
   ],
   "source": [
    "pig_latin()"
   ]
  },
  {
   "cell_type": "code",
   "execution_count": 9,
   "id": "09c14cea",
   "metadata": {},
   "outputs": [
    {
     "name": "stdout",
     "output_type": "stream",
     "text": [
      "Please enter a word: peaches\n",
      " \n",
      "The pig latin is: \u001b[1meachespay\u001b[0m\n"
     ]
    }
   ],
   "source": [
    "pig_latin()"
   ]
  },
  {
   "cell_type": "code",
   "execution_count": 10,
   "id": "a4a53fe7",
   "metadata": {},
   "outputs": [
    {
     "name": "stdout",
     "output_type": "stream",
     "text": [
      "Please enter a word: LivingDemoness28\n",
      " \n",
      "The pig latin is: \u001b[1mivingdemoness28lay\u001b[0m\n"
     ]
    }
   ],
   "source": [
    "pig_latin()"
   ]
  },
  {
   "cell_type": "code",
   "execution_count": 11,
   "id": "8b0cff74",
   "metadata": {},
   "outputs": [
    {
     "name": "stdout",
     "output_type": "stream",
     "text": [
      "Please enter a word: tomato\n",
      " \n",
      "The pig latin is: \u001b[1momatotay\u001b[0m\n"
     ]
    }
   ],
   "source": [
    "pig_latin()"
   ]
  }
 ],
 "metadata": {
  "kernelspec": {
   "display_name": "Python 3 (ipykernel)",
   "language": "python",
   "name": "python3"
  },
  "language_info": {
   "codemirror_mode": {
    "name": "ipython",
    "version": 3
   },
   "file_extension": ".py",
   "mimetype": "text/x-python",
   "name": "python",
   "nbconvert_exporter": "python",
   "pygments_lexer": "ipython3",
   "version": "3.8.16"
  }
 },
 "nbformat": 4,
 "nbformat_minor": 5
}
