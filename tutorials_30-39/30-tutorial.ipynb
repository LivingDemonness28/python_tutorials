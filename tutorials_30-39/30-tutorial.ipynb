{
 "cells": [
  {
   "cell_type": "code",
   "execution_count": 1,
   "id": "529ea0b3",
   "metadata": {},
   "outputs": [],
   "source": [
    "def first_name():\n",
    "    first_name = str(input(\"Please enter your first name: \"))\n",
    "    print(' ')\n",
    "    length = len(first_name)\n",
    "    \n",
    "    if length < 5:\n",
    "        surname = str(input(\"Please enter your surname: \"))\n",
    "        print(' ')\n",
    "        fns = first_name + surname\n",
    "        fns = fns.upper()\n",
    "        print(fns)\n",
    "    else:\n",
    "        first_name = first_name.lower()\n",
    "        print(first_name)"
   ]
  },
  {
   "cell_type": "code",
   "execution_count": 2,
   "id": "3e612777",
   "metadata": {},
   "outputs": [
    {
     "name": "stdout",
     "output_type": "stream",
     "text": [
      "Please enter your first name: Livi\n",
      " \n",
      "Please enter your surname: ngDemoness28\n",
      " \n",
      "LIVINGDEMONESS28\n"
     ]
    }
   ],
   "source": [
    "first_name()"
   ]
  },
  {
   "cell_type": "code",
   "execution_count": 3,
   "id": "506256d2",
   "metadata": {},
   "outputs": [
    {
     "name": "stdout",
     "output_type": "stream",
     "text": [
      "Please enter your first name: LivingDemoness28\n",
      " \n",
      "livingdemoness28\n"
     ]
    }
   ],
   "source": [
    "first_name()"
   ]
  }
 ],
 "metadata": {
  "kernelspec": {
   "display_name": "Python 3 (ipykernel)",
   "language": "python",
   "name": "python3"
  },
  "language_info": {
   "codemirror_mode": {
    "name": "ipython",
    "version": 3
   },
   "file_extension": ".py",
   "mimetype": "text/x-python",
   "name": "python",
   "nbconvert_exporter": "python",
   "pygments_lexer": "ipython3",
   "version": "3.8.16"
  }
 },
 "nbformat": 4,
 "nbformat_minor": 5
}
