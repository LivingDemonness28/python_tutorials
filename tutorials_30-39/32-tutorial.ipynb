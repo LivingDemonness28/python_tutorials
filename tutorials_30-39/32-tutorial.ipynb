{
 "cells": [
  {
   "cell_type": "markdown",
   "id": "495eef11",
   "metadata": {},
   "source": [
    "# Simplified Version"
   ]
  },
  {
   "cell_type": "code",
   "execution_count": 1,
   "id": "7659e8ae",
   "metadata": {},
   "outputs": [],
   "source": [
    "def date():\n",
    "    date = input(\"Enter a date (dd/mm/yyyy): \")\n",
    "    date_parts = date.split(\"/\")\n",
    "    formatted_date = \"-\".join(date_parts)\n",
    "    print(\"Formatted date:\", formatted_date)"
   ]
  },
  {
   "cell_type": "code",
   "execution_count": 2,
   "id": "243848b6",
   "metadata": {},
   "outputs": [
    {
     "name": "stdout",
     "output_type": "stream",
     "text": [
      "Enter a date (dd/mm/yyyy): 09/05/2023\n",
      "Formatted date: 09-05-2023\n"
     ]
    }
   ],
   "source": [
    "date()"
   ]
  },
  {
   "cell_type": "markdown",
   "id": "fc9ff46e",
   "metadata": {},
   "source": [
    " "
   ]
  },
  {
   "cell_type": "markdown",
   "id": "4886d2ff",
   "metadata": {},
   "source": [
    "# Modified Version"
   ]
  },
  {
   "cell_type": "code",
   "execution_count": 3,
   "id": "36fed328",
   "metadata": {},
   "outputs": [],
   "source": [
    "def date_1():\n",
    "    while True:\n",
    "        date = date = input(\"Enter a date (dd/mm/yyyy): \")\n",
    "        length = len(date)\n",
    "        print(' ')\n",
    "        if date[2] != \"/\":\n",
    "            print(\"Invalid input. Enter a date in format dd/mm/yyyy\")\n",
    "            print(' ')\n",
    "        elif date[5] != \"/\":\n",
    "            print(\"Invalid input. Enter a date in format dd/mm/yyyy\")\n",
    "            print(' ')\n",
    "        elif length != 10:\n",
    "            print(\"Invalid input. The length has to be 10\")\n",
    "            print(' ')\n",
    "        elif int(date[0:2]) < 1 or int(date[0:2]) > 31:\n",
    "            print(\"Invalid input. Days have to between 1(inc) and 31(inc)\")\n",
    "            print(' ')\n",
    "        elif int(date[3:5]) < 1 or 12 < int(date[3:5]):\n",
    "            print(\"Invalid input. Months have to between 1(inc) and 12(inc)\")\n",
    "            print(' ')\n",
    "        else:\n",
    "            break\n",
    "    date_parts = date.split(\"/\")\n",
    "    formatted_date = \"-\".join(date_parts)\n",
    "    formatted_date = \"\\033[1m\" + formatted_date + \"\\033[0m\"\n",
    "    print(\"Formatted date:\", formatted_date)"
   ]
  },
  {
   "cell_type": "code",
   "execution_count": 4,
   "id": "8ee574fc",
   "metadata": {},
   "outputs": [
    {
     "name": "stdout",
     "output_type": "stream",
     "text": [
      "Enter a date (dd/mm/yyyy): 09-05-2023\n",
      " \n",
      "Invalid input. Enter a date in format dd/mm/yyyy\n",
      " \n",
      "Enter a date (dd/mm/yyyy): 09-05/2023\n",
      " \n",
      "Invalid input. Enter a date in format dd/mm/yyyy\n",
      " \n",
      "Enter a date (dd/mm/yyyy): 09/05-2023\n",
      " \n",
      "Invalid input. Enter a date in format dd/mm/yyyy\n",
      " \n",
      "Enter a date (dd/mm/yyyy): 09/05/20233\n",
      " \n",
      "Invalid input. The length has to be 10\n",
      " \n",
      "Enter a date (dd/mm/yyyy): 32/05/2023\n",
      " \n",
      "Invalid input. Days have to between 1(inc) and 31(inc)\n",
      " \n",
      "Enter a date (dd/mm/yyyy): 00/05/2023\n",
      " \n",
      "Invalid input. Days have to between 1(inc) and 31(inc)\n",
      " \n",
      "Enter a date (dd/mm/yyyy): -05/05/2023\n",
      " \n",
      "Invalid input. Enter a date in format dd/mm/yyyy\n",
      " \n",
      "Enter a date (dd/mm/yyyy): 09/05/2023\n",
      " \n",
      "Formatted date: \u001b[1m09-05-2023\u001b[0m\n"
     ]
    }
   ],
   "source": [
    "date_1()"
   ]
  },
  {
   "cell_type": "code",
   "execution_count": 5,
   "id": "e1be79d7",
   "metadata": {},
   "outputs": [
    {
     "name": "stdout",
     "output_type": "stream",
     "text": [
      "Enter a date (dd/mm/yyyy): 09/05/2023\n",
      " \n",
      "Formatted date: \u001b[1m09-05-2023\u001b[0m\n"
     ]
    }
   ],
   "source": [
    "date_1()"
   ]
  }
 ],
 "metadata": {
  "kernelspec": {
   "display_name": "Python 3 (ipykernel)",
   "language": "python",
   "name": "python3"
  },
  "language_info": {
   "codemirror_mode": {
    "name": "ipython",
    "version": 3
   },
   "file_extension": ".py",
   "mimetype": "text/x-python",
   "name": "python",
   "nbconvert_exporter": "python",
   "pygments_lexer": "ipython3",
   "version": "3.8.16"
  }
 },
 "nbformat": 4,
 "nbformat_minor": 5
}
