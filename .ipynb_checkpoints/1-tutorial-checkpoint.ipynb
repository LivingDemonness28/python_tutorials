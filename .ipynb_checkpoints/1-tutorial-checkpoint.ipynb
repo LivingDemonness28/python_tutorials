{
 "cells": [
  {
   "cell_type": "code",
   "execution_count": 4,
   "id": "029b0dbb",
   "metadata": {},
   "outputs": [
    {
     "name": "stdout",
     "output_type": "stream",
     "text": [
      "Please enter your name: User\n",
      "Welcome User\n"
     ]
    }
   ],
   "source": [
    "name = str(input(\"Please enter your name: \"))\n",
    "print(\"Welcome \" + name)"
   ]
  }
 ],
 "metadata": {
  "kernelspec": {
   "display_name": "Python 3 (ipykernel)",
   "language": "python",
   "name": "python3"
  },
  "language_info": {
   "codemirror_mode": {
    "name": "ipython",
    "version": 3
   },
   "file_extension": ".py",
   "mimetype": "text/x-python",
   "name": "python",
   "nbconvert_exporter": "python",
   "pygments_lexer": "ipython3",
   "version": "3.8.16"
  }
 },
 "nbformat": 4,
 "nbformat_minor": 5
}
