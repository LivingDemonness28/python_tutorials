{
 "cells": [
  {
   "cell_type": "code",
   "execution_count": 1,
   "id": "60b0c287",
   "metadata": {},
   "outputs": [],
   "source": [
    "def first_chars():\n",
    "    string = input(\"Please input a string: \")\n",
    "    print(\" \")\n",
    "    num = int(input(\"Please enter a number: \"))\n",
    "    print(\" \")\n",
    "    \n",
    "    length = len(string) - 1\n",
    "    \n",
    "    if 0 <= num <= length:\n",
    "        extract = string[:num]\n",
    "        print(extract)\n",
    "    else:\n",
    "        print(\"Incorrect input, number has to between 0 and {}\".format(length))"
   ]
  },
  {
   "cell_type": "code",
   "execution_count": 2,
   "id": "59aed785",
   "metadata": {},
   "outputs": [
    {
     "name": "stdout",
     "output_type": "stream",
     "text": [
      "Please input a string: LivingDemoness28\n",
      " \n",
      "Please enter a number: 6\n",
      " \n",
      "Living\n"
     ]
    }
   ],
   "source": [
    "first_chars()"
   ]
  },
  {
   "cell_type": "code",
   "execution_count": 3,
   "id": "4bab7f50",
   "metadata": {},
   "outputs": [
    {
     "name": "stdout",
     "output_type": "stream",
     "text": [
      "Please input a string: LivingDemoness28\n",
      " \n",
      "Please enter a number: 50\n",
      " \n",
      "Incorrect input, number has to between 0 and 15\n"
     ]
    }
   ],
   "source": [
    "first_chars()"
   ]
  }
 ],
 "metadata": {
  "kernelspec": {
   "display_name": "Python 3 (ipykernel)",
   "language": "python",
   "name": "python3"
  },
  "language_info": {
   "codemirror_mode": {
    "name": "ipython",
    "version": 3
   },
   "file_extension": ".py",
   "mimetype": "text/x-python",
   "name": "python",
   "nbconvert_exporter": "python",
   "pygments_lexer": "ipython3",
   "version": "3.8.16"
  }
 },
 "nbformat": 4,
 "nbformat_minor": 5
}
