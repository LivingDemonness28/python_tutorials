{
 "cells": [
  {
   "cell_type": "markdown",
   "id": "6d15bf32",
   "metadata": {},
   "source": [
    "# Using a while loop"
   ]
  },
  {
   "cell_type": "code",
   "execution_count": 2,
   "id": "e668f334",
   "metadata": {},
   "outputs": [],
   "source": [
    "def name():\n",
    "    name = str(input(\"Please enter your name: \"))\n",
    "    \n",
    "    i = 1\n",
    "    while (i <= 3):\n",
    "        i += 1\n",
    "        print(name)"
   ]
  },
  {
   "cell_type": "code",
   "execution_count": 3,
   "id": "d2f9682b",
   "metadata": {},
   "outputs": [
    {
     "name": "stdout",
     "output_type": "stream",
     "text": [
      "Please enter your name: choc\n",
      "choc\n",
      "choc\n",
      "choc\n"
     ]
    }
   ],
   "source": [
    "name()"
   ]
  },
  {
   "cell_type": "code",
   "execution_count": 4,
   "id": "8b268b08",
   "metadata": {},
   "outputs": [
    {
     "name": "stdout",
     "output_type": "stream",
     "text": [
      "Please enter your name: LivingDemonness28\n",
      "LivingDemonness28\n",
      "LivingDemonness28\n",
      "LivingDemonness28\n"
     ]
    }
   ],
   "source": [
    "name()"
   ]
  },
  {
   "cell_type": "markdown",
   "id": "e50cf3f4",
   "metadata": {},
   "source": [
    "# Using a for loop"
   ]
  },
  {
   "cell_type": "code",
   "execution_count": 5,
   "id": "4dbee610",
   "metadata": {},
   "outputs": [],
   "source": [
    "def name_1():\n",
    "    name = str(input(\"Please enter your name: \"))\n",
    "    \n",
    "    #Create a range of numbers from 1 to 3, range function \n",
    "    #does not include the last number which is 4 here\n",
    "    for i in range(1, 4):\n",
    "        print(name)"
   ]
  },
  {
   "cell_type": "code",
   "execution_count": 6,
   "id": "bc069bc1",
   "metadata": {},
   "outputs": [
    {
     "name": "stdout",
     "output_type": "stream",
     "text": [
      "Please enter your name: choc\n",
      "choc\n",
      "choc\n",
      "choc\n"
     ]
    }
   ],
   "source": [
    "name_1()"
   ]
  },
  {
   "cell_type": "code",
   "execution_count": 7,
   "id": "902e704f",
   "metadata": {
    "scrolled": true
   },
   "outputs": [
    {
     "name": "stdout",
     "output_type": "stream",
     "text": [
      "Please enter your name: LivingDemonness28\n",
      "LivingDemonness28\n",
      "LivingDemonness28\n",
      "LivingDemonness28\n"
     ]
    }
   ],
   "source": [
    "name_1()"
   ]
  },
  {
   "cell_type": "markdown",
   "id": "358bab66",
   "metadata": {},
   "source": [
    "# Or you do it like this using a for loop"
   ]
  },
  {
   "cell_type": "code",
   "execution_count": 8,
   "id": "5d74dc36",
   "metadata": {},
   "outputs": [],
   "source": [
    "def name_2():\n",
    "    name = input(\"Please enter your name: \")\n",
    "    \n",
    "    for i in range(3):\n",
    "        print(name)"
   ]
  },
  {
   "cell_type": "code",
   "execution_count": 9,
   "id": "2ba07e1f",
   "metadata": {},
   "outputs": [
    {
     "name": "stdout",
     "output_type": "stream",
     "text": [
      "Please enter your name: choc\n",
      "choc\n",
      "choc\n",
      "choc\n"
     ]
    }
   ],
   "source": [
    "name_2()"
   ]
  },
  {
   "cell_type": "code",
   "execution_count": 11,
   "id": "baba37f4",
   "metadata": {},
   "outputs": [
    {
     "name": "stdout",
     "output_type": "stream",
     "text": [
      "Please enter your name: LivingDemonness28\n",
      "LivingDemonness28\n",
      "LivingDemonness28\n",
      "LivingDemonness28\n"
     ]
    }
   ],
   "source": [
    "name_2()"
   ]
  }
 ],
 "metadata": {
  "kernelspec": {
   "display_name": "Python 3 (ipykernel)",
   "language": "python",
   "name": "python3"
  },
  "language_info": {
   "codemirror_mode": {
    "name": "ipython",
    "version": 3
   },
   "file_extension": ".py",
   "mimetype": "text/x-python",
   "name": "python",
   "nbconvert_exporter": "python",
   "pygments_lexer": "ipython3",
   "version": "3.8.16"
  }
 },
 "nbformat": 4,
 "nbformat_minor": 5
}
