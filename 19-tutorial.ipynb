{
 "cells": [
  {
   "cell_type": "markdown",
   "id": "7bd16aee",
   "metadata": {},
   "source": [
    "# <center>While Loop</center>"
   ]
  },
  {
   "cell_type": "markdown",
   "id": "1cc8a0a6",
   "metadata": {},
   "source": [
    "### Simplified version"
   ]
  },
  {
   "cell_type": "code",
   "execution_count": 1,
   "id": "87086d63",
   "metadata": {},
   "outputs": [],
   "source": [
    "def times():\n",
    "    num = int(input(\"Please enter an integer between 1(inclusive) and 12(inclusive): \"))\n",
    "    print(' ')\n",
    "    if (1 <= num <= 12):\n",
    "        i = 0\n",
    "        while(i <= 12):\n",
    "            num1 = num * i\n",
    "            print(\"{} x {} = {}\".format(num, i, num1))\n",
    "            i += 1\n",
    "    else:\n",
    "        print(\"Error, integer has to be between 1(inclusive) and 12(inclusive)\")"
   ]
  },
  {
   "cell_type": "code",
   "execution_count": 2,
   "id": "799559dd",
   "metadata": {},
   "outputs": [
    {
     "name": "stdout",
     "output_type": "stream",
     "text": [
      "Please enter an integer between 1(inclusive) and 12(inclusive): 0\n",
      " \n",
      "Error, integer has to be between 1(inclusive) and 12(inclusive)\n"
     ]
    }
   ],
   "source": [
    "times()"
   ]
  },
  {
   "cell_type": "code",
   "execution_count": 3,
   "id": "075dcfb7",
   "metadata": {},
   "outputs": [
    {
     "name": "stdout",
     "output_type": "stream",
     "text": [
      "Please enter an integer between 1(inclusive) and 12(inclusive): 1\n",
      " \n",
      "1 x 0 = 0\n",
      "1 x 1 = 1\n",
      "1 x 2 = 2\n",
      "1 x 3 = 3\n",
      "1 x 4 = 4\n",
      "1 x 5 = 5\n",
      "1 x 6 = 6\n",
      "1 x 7 = 7\n",
      "1 x 8 = 8\n",
      "1 x 9 = 9\n",
      "1 x 10 = 10\n",
      "1 x 11 = 11\n",
      "1 x 12 = 12\n"
     ]
    }
   ],
   "source": [
    "times()"
   ]
  },
  {
   "cell_type": "code",
   "execution_count": 4,
   "id": "05570b75",
   "metadata": {},
   "outputs": [
    {
     "name": "stdout",
     "output_type": "stream",
     "text": [
      "Please enter an integer between 1(inclusive) and 12(inclusive): 2\n",
      " \n",
      "2 x 0 = 0\n",
      "2 x 1 = 2\n",
      "2 x 2 = 4\n",
      "2 x 3 = 6\n",
      "2 x 4 = 8\n",
      "2 x 5 = 10\n",
      "2 x 6 = 12\n",
      "2 x 7 = 14\n",
      "2 x 8 = 16\n",
      "2 x 9 = 18\n",
      "2 x 10 = 20\n",
      "2 x 11 = 22\n",
      "2 x 12 = 24\n"
     ]
    }
   ],
   "source": [
    "times()"
   ]
  },
  {
   "cell_type": "code",
   "execution_count": 5,
   "id": "b3361576",
   "metadata": {},
   "outputs": [
    {
     "name": "stdout",
     "output_type": "stream",
     "text": [
      "Please enter an integer between 1(inclusive) and 12(inclusive): 3\n",
      " \n",
      "3 x 0 = 0\n",
      "3 x 1 = 3\n",
      "3 x 2 = 6\n",
      "3 x 3 = 9\n",
      "3 x 4 = 12\n",
      "3 x 5 = 15\n",
      "3 x 6 = 18\n",
      "3 x 7 = 21\n",
      "3 x 8 = 24\n",
      "3 x 9 = 27\n",
      "3 x 10 = 30\n",
      "3 x 11 = 33\n",
      "3 x 12 = 36\n"
     ]
    }
   ],
   "source": [
    "times()"
   ]
  },
  {
   "cell_type": "code",
   "execution_count": 6,
   "id": "db28c903",
   "metadata": {},
   "outputs": [
    {
     "name": "stdout",
     "output_type": "stream",
     "text": [
      "Please enter an integer between 1(inclusive) and 12(inclusive): 4\n",
      " \n",
      "4 x 0 = 0\n",
      "4 x 1 = 4\n",
      "4 x 2 = 8\n",
      "4 x 3 = 12\n",
      "4 x 4 = 16\n",
      "4 x 5 = 20\n",
      "4 x 6 = 24\n",
      "4 x 7 = 28\n",
      "4 x 8 = 32\n",
      "4 x 9 = 36\n",
      "4 x 10 = 40\n",
      "4 x 11 = 44\n",
      "4 x 12 = 48\n"
     ]
    }
   ],
   "source": [
    "times()"
   ]
  },
  {
   "cell_type": "code",
   "execution_count": 7,
   "id": "42f3404a",
   "metadata": {},
   "outputs": [
    {
     "name": "stdout",
     "output_type": "stream",
     "text": [
      "Please enter an integer between 1(inclusive) and 12(inclusive): 5\n",
      " \n",
      "5 x 0 = 0\n",
      "5 x 1 = 5\n",
      "5 x 2 = 10\n",
      "5 x 3 = 15\n",
      "5 x 4 = 20\n",
      "5 x 5 = 25\n",
      "5 x 6 = 30\n",
      "5 x 7 = 35\n",
      "5 x 8 = 40\n",
      "5 x 9 = 45\n",
      "5 x 10 = 50\n",
      "5 x 11 = 55\n",
      "5 x 12 = 60\n"
     ]
    }
   ],
   "source": [
    "times()"
   ]
  },
  {
   "cell_type": "code",
   "execution_count": 8,
   "id": "1a813579",
   "metadata": {},
   "outputs": [
    {
     "name": "stdout",
     "output_type": "stream",
     "text": [
      "Please enter an integer between 1(inclusive) and 12(inclusive): 6\n",
      " \n",
      "6 x 0 = 0\n",
      "6 x 1 = 6\n",
      "6 x 2 = 12\n",
      "6 x 3 = 18\n",
      "6 x 4 = 24\n",
      "6 x 5 = 30\n",
      "6 x 6 = 36\n",
      "6 x 7 = 42\n",
      "6 x 8 = 48\n",
      "6 x 9 = 54\n",
      "6 x 10 = 60\n",
      "6 x 11 = 66\n",
      "6 x 12 = 72\n"
     ]
    }
   ],
   "source": [
    "times()"
   ]
  },
  {
   "cell_type": "code",
   "execution_count": 9,
   "id": "1a374433",
   "metadata": {},
   "outputs": [
    {
     "name": "stdout",
     "output_type": "stream",
     "text": [
      "Please enter an integer between 1(inclusive) and 12(inclusive): 7\n",
      " \n",
      "7 x 0 = 0\n",
      "7 x 1 = 7\n",
      "7 x 2 = 14\n",
      "7 x 3 = 21\n",
      "7 x 4 = 28\n",
      "7 x 5 = 35\n",
      "7 x 6 = 42\n",
      "7 x 7 = 49\n",
      "7 x 8 = 56\n",
      "7 x 9 = 63\n",
      "7 x 10 = 70\n",
      "7 x 11 = 77\n",
      "7 x 12 = 84\n"
     ]
    }
   ],
   "source": [
    "times()"
   ]
  },
  {
   "cell_type": "code",
   "execution_count": 10,
   "id": "37cc2826",
   "metadata": {},
   "outputs": [
    {
     "name": "stdout",
     "output_type": "stream",
     "text": [
      "Please enter an integer between 1(inclusive) and 12(inclusive): 8\n",
      " \n",
      "8 x 0 = 0\n",
      "8 x 1 = 8\n",
      "8 x 2 = 16\n",
      "8 x 3 = 24\n",
      "8 x 4 = 32\n",
      "8 x 5 = 40\n",
      "8 x 6 = 48\n",
      "8 x 7 = 56\n",
      "8 x 8 = 64\n",
      "8 x 9 = 72\n",
      "8 x 10 = 80\n",
      "8 x 11 = 88\n",
      "8 x 12 = 96\n"
     ]
    }
   ],
   "source": [
    "times()"
   ]
  },
  {
   "cell_type": "code",
   "execution_count": 11,
   "id": "a5307d0e",
   "metadata": {},
   "outputs": [
    {
     "name": "stdout",
     "output_type": "stream",
     "text": [
      "Please enter an integer between 1(inclusive) and 12(inclusive): 9\n",
      " \n",
      "9 x 0 = 0\n",
      "9 x 1 = 9\n",
      "9 x 2 = 18\n",
      "9 x 3 = 27\n",
      "9 x 4 = 36\n",
      "9 x 5 = 45\n",
      "9 x 6 = 54\n",
      "9 x 7 = 63\n",
      "9 x 8 = 72\n",
      "9 x 9 = 81\n",
      "9 x 10 = 90\n",
      "9 x 11 = 99\n",
      "9 x 12 = 108\n"
     ]
    }
   ],
   "source": [
    "times()"
   ]
  },
  {
   "cell_type": "code",
   "execution_count": 12,
   "id": "415f9ad9",
   "metadata": {},
   "outputs": [
    {
     "name": "stdout",
     "output_type": "stream",
     "text": [
      "Please enter an integer between 1(inclusive) and 12(inclusive): 10\n",
      " \n",
      "10 x 0 = 0\n",
      "10 x 1 = 10\n",
      "10 x 2 = 20\n",
      "10 x 3 = 30\n",
      "10 x 4 = 40\n",
      "10 x 5 = 50\n",
      "10 x 6 = 60\n",
      "10 x 7 = 70\n",
      "10 x 8 = 80\n",
      "10 x 9 = 90\n",
      "10 x 10 = 100\n",
      "10 x 11 = 110\n",
      "10 x 12 = 120\n"
     ]
    }
   ],
   "source": [
    "times()"
   ]
  },
  {
   "cell_type": "code",
   "execution_count": 13,
   "id": "53a96892",
   "metadata": {},
   "outputs": [
    {
     "name": "stdout",
     "output_type": "stream",
     "text": [
      "Please enter an integer between 1(inclusive) and 12(inclusive): 11\n",
      " \n",
      "11 x 0 = 0\n",
      "11 x 1 = 11\n",
      "11 x 2 = 22\n",
      "11 x 3 = 33\n",
      "11 x 4 = 44\n",
      "11 x 5 = 55\n",
      "11 x 6 = 66\n",
      "11 x 7 = 77\n",
      "11 x 8 = 88\n",
      "11 x 9 = 99\n",
      "11 x 10 = 110\n",
      "11 x 11 = 121\n",
      "11 x 12 = 132\n"
     ]
    }
   ],
   "source": [
    "times()"
   ]
  },
  {
   "cell_type": "code",
   "execution_count": 14,
   "id": "a77a0066",
   "metadata": {},
   "outputs": [
    {
     "name": "stdout",
     "output_type": "stream",
     "text": [
      "Please enter an integer between 1(inclusive) and 12(inclusive): 12\n",
      " \n",
      "12 x 0 = 0\n",
      "12 x 1 = 12\n",
      "12 x 2 = 24\n",
      "12 x 3 = 36\n",
      "12 x 4 = 48\n",
      "12 x 5 = 60\n",
      "12 x 6 = 72\n",
      "12 x 7 = 84\n",
      "12 x 8 = 96\n",
      "12 x 9 = 108\n",
      "12 x 10 = 120\n",
      "12 x 11 = 132\n",
      "12 x 12 = 144\n"
     ]
    }
   ],
   "source": [
    "times()"
   ]
  },
  {
   "cell_type": "code",
   "execution_count": 15,
   "id": "c2eba62f",
   "metadata": {},
   "outputs": [
    {
     "name": "stdout",
     "output_type": "stream",
     "text": [
      "Please enter an integer between 1(inclusive) and 12(inclusive): 13\n",
      " \n",
      "Error, integer has to be between 1(inclusive) and 12(inclusive)\n"
     ]
    }
   ],
   "source": [
    "times()"
   ]
  },
  {
   "cell_type": "markdown",
   "id": "78777014",
   "metadata": {},
   "source": [
    " "
   ]
  },
  {
   "cell_type": "markdown",
   "id": "a2c0d9d7",
   "metadata": {},
   "source": [
    "### Version on loop until the number required is entered"
   ]
  },
  {
   "cell_type": "code",
   "execution_count": 16,
   "id": "d6ef9e68",
   "metadata": {},
   "outputs": [],
   "source": [
    "def times_loop():\n",
    "    #initialize the num variable\n",
    "    num = 0\n",
    "    \n",
    "    while num < 1 or num > 12:\n",
    "        integer = int(input(\"Please enter an integer between 1(inclusive) and 12(inclusive): \"))\n",
    "        print(' ')\n",
    "        try:\n",
    "            num = int(integer)\n",
    "        except ValueError:\n",
    "            print(\"Invalid input, please enter an integer\")\n",
    "            print(' ')\n",
    "            continue\n",
    "        if num < 1 or num > 12:\n",
    "            print(\"Integer must be between 1(inclusive) and 12(inclusive)\")\n",
    "            print(' ')\n",
    "\n",
    "    i = 0\n",
    "    \n",
    "    while(i <= 12):\n",
    "            num1 = num * i\n",
    "            print(\"{} x {} = {}\".format(num, i, num1))\n",
    "            i += 1"
   ]
  },
  {
   "cell_type": "code",
   "execution_count": 17,
   "id": "74876c84",
   "metadata": {},
   "outputs": [
    {
     "name": "stdout",
     "output_type": "stream",
     "text": [
      "Please enter an integer between 1(inclusive) and 12(inclusive): -1\n",
      " \n",
      "Integer must be between 1(inclusive) and 12(inclusive)\n",
      " \n",
      "Please enter an integer between 1(inclusive) and 12(inclusive): 0\n",
      " \n",
      "Integer must be between 1(inclusive) and 12(inclusive)\n",
      " \n",
      "Please enter an integer between 1(inclusive) and 12(inclusive): 1\n",
      " \n",
      "1 x 0 = 0\n",
      "1 x 1 = 1\n",
      "1 x 2 = 2\n",
      "1 x 3 = 3\n",
      "1 x 4 = 4\n",
      "1 x 5 = 5\n",
      "1 x 6 = 6\n",
      "1 x 7 = 7\n",
      "1 x 8 = 8\n",
      "1 x 9 = 9\n",
      "1 x 10 = 10\n",
      "1 x 11 = 11\n",
      "1 x 12 = 12\n"
     ]
    }
   ],
   "source": [
    "times_loop()"
   ]
  },
  {
   "cell_type": "code",
   "execution_count": 18,
   "id": "fd23c338",
   "metadata": {},
   "outputs": [
    {
     "name": "stdout",
     "output_type": "stream",
     "text": [
      "Please enter an integer between 1(inclusive) and 12(inclusive): 2\n",
      " \n",
      "2 x 0 = 0\n",
      "2 x 1 = 2\n",
      "2 x 2 = 4\n",
      "2 x 3 = 6\n",
      "2 x 4 = 8\n",
      "2 x 5 = 10\n",
      "2 x 6 = 12\n",
      "2 x 7 = 14\n",
      "2 x 8 = 16\n",
      "2 x 9 = 18\n",
      "2 x 10 = 20\n",
      "2 x 11 = 22\n",
      "2 x 12 = 24\n"
     ]
    }
   ],
   "source": [
    "times_loop()"
   ]
  },
  {
   "cell_type": "code",
   "execution_count": 19,
   "id": "cc8ef795",
   "metadata": {},
   "outputs": [
    {
     "name": "stdout",
     "output_type": "stream",
     "text": [
      "Please enter an integer between 1(inclusive) and 12(inclusive): 3\n",
      " \n",
      "3 x 0 = 0\n",
      "3 x 1 = 3\n",
      "3 x 2 = 6\n",
      "3 x 3 = 9\n",
      "3 x 4 = 12\n",
      "3 x 5 = 15\n",
      "3 x 6 = 18\n",
      "3 x 7 = 21\n",
      "3 x 8 = 24\n",
      "3 x 9 = 27\n",
      "3 x 10 = 30\n",
      "3 x 11 = 33\n",
      "3 x 12 = 36\n"
     ]
    }
   ],
   "source": [
    "times_loop()"
   ]
  },
  {
   "cell_type": "code",
   "execution_count": 20,
   "id": "92b45fe4",
   "metadata": {},
   "outputs": [
    {
     "name": "stdout",
     "output_type": "stream",
     "text": [
      "Please enter an integer between 1(inclusive) and 12(inclusive): 4\n",
      " \n",
      "4 x 0 = 0\n",
      "4 x 1 = 4\n",
      "4 x 2 = 8\n",
      "4 x 3 = 12\n",
      "4 x 4 = 16\n",
      "4 x 5 = 20\n",
      "4 x 6 = 24\n",
      "4 x 7 = 28\n",
      "4 x 8 = 32\n",
      "4 x 9 = 36\n",
      "4 x 10 = 40\n",
      "4 x 11 = 44\n",
      "4 x 12 = 48\n"
     ]
    }
   ],
   "source": [
    "times_loop()"
   ]
  },
  {
   "cell_type": "code",
   "execution_count": 21,
   "id": "69b15224",
   "metadata": {},
   "outputs": [
    {
     "name": "stdout",
     "output_type": "stream",
     "text": [
      "Please enter an integer between 1(inclusive) and 12(inclusive): 5\n",
      " \n",
      "5 x 0 = 0\n",
      "5 x 1 = 5\n",
      "5 x 2 = 10\n",
      "5 x 3 = 15\n",
      "5 x 4 = 20\n",
      "5 x 5 = 25\n",
      "5 x 6 = 30\n",
      "5 x 7 = 35\n",
      "5 x 8 = 40\n",
      "5 x 9 = 45\n",
      "5 x 10 = 50\n",
      "5 x 11 = 55\n",
      "5 x 12 = 60\n"
     ]
    }
   ],
   "source": [
    "times_loop()"
   ]
  },
  {
   "cell_type": "code",
   "execution_count": 22,
   "id": "52eed80e",
   "metadata": {},
   "outputs": [
    {
     "name": "stdout",
     "output_type": "stream",
     "text": [
      "Please enter an integer between 1(inclusive) and 12(inclusive): 6\n",
      " \n",
      "6 x 0 = 0\n",
      "6 x 1 = 6\n",
      "6 x 2 = 12\n",
      "6 x 3 = 18\n",
      "6 x 4 = 24\n",
      "6 x 5 = 30\n",
      "6 x 6 = 36\n",
      "6 x 7 = 42\n",
      "6 x 8 = 48\n",
      "6 x 9 = 54\n",
      "6 x 10 = 60\n",
      "6 x 11 = 66\n",
      "6 x 12 = 72\n"
     ]
    }
   ],
   "source": [
    "times_loop()"
   ]
  },
  {
   "cell_type": "code",
   "execution_count": 23,
   "id": "7fd6f99b",
   "metadata": {},
   "outputs": [
    {
     "name": "stdout",
     "output_type": "stream",
     "text": [
      "Please enter an integer between 1(inclusive) and 12(inclusive): 7\n",
      " \n",
      "7 x 0 = 0\n",
      "7 x 1 = 7\n",
      "7 x 2 = 14\n",
      "7 x 3 = 21\n",
      "7 x 4 = 28\n",
      "7 x 5 = 35\n",
      "7 x 6 = 42\n",
      "7 x 7 = 49\n",
      "7 x 8 = 56\n",
      "7 x 9 = 63\n",
      "7 x 10 = 70\n",
      "7 x 11 = 77\n",
      "7 x 12 = 84\n"
     ]
    }
   ],
   "source": [
    "times_loop()"
   ]
  },
  {
   "cell_type": "code",
   "execution_count": 24,
   "id": "35f36327",
   "metadata": {},
   "outputs": [
    {
     "name": "stdout",
     "output_type": "stream",
     "text": [
      "Please enter an integer between 1(inclusive) and 12(inclusive): 8\n",
      " \n",
      "8 x 0 = 0\n",
      "8 x 1 = 8\n",
      "8 x 2 = 16\n",
      "8 x 3 = 24\n",
      "8 x 4 = 32\n",
      "8 x 5 = 40\n",
      "8 x 6 = 48\n",
      "8 x 7 = 56\n",
      "8 x 8 = 64\n",
      "8 x 9 = 72\n",
      "8 x 10 = 80\n",
      "8 x 11 = 88\n",
      "8 x 12 = 96\n"
     ]
    }
   ],
   "source": [
    "times_loop()"
   ]
  },
  {
   "cell_type": "code",
   "execution_count": 25,
   "id": "a8310d1f",
   "metadata": {},
   "outputs": [
    {
     "name": "stdout",
     "output_type": "stream",
     "text": [
      "Please enter an integer between 1(inclusive) and 12(inclusive): 9\n",
      " \n",
      "9 x 0 = 0\n",
      "9 x 1 = 9\n",
      "9 x 2 = 18\n",
      "9 x 3 = 27\n",
      "9 x 4 = 36\n",
      "9 x 5 = 45\n",
      "9 x 6 = 54\n",
      "9 x 7 = 63\n",
      "9 x 8 = 72\n",
      "9 x 9 = 81\n",
      "9 x 10 = 90\n",
      "9 x 11 = 99\n",
      "9 x 12 = 108\n"
     ]
    }
   ],
   "source": [
    "times_loop()"
   ]
  },
  {
   "cell_type": "code",
   "execution_count": 26,
   "id": "879a48e4",
   "metadata": {},
   "outputs": [
    {
     "name": "stdout",
     "output_type": "stream",
     "text": [
      "Please enter an integer between 1(inclusive) and 12(inclusive): 10\n",
      " \n",
      "10 x 0 = 0\n",
      "10 x 1 = 10\n",
      "10 x 2 = 20\n",
      "10 x 3 = 30\n",
      "10 x 4 = 40\n",
      "10 x 5 = 50\n",
      "10 x 6 = 60\n",
      "10 x 7 = 70\n",
      "10 x 8 = 80\n",
      "10 x 9 = 90\n",
      "10 x 10 = 100\n",
      "10 x 11 = 110\n",
      "10 x 12 = 120\n"
     ]
    }
   ],
   "source": [
    "times_loop()"
   ]
  },
  {
   "cell_type": "code",
   "execution_count": 27,
   "id": "db6f6794",
   "metadata": {},
   "outputs": [
    {
     "name": "stdout",
     "output_type": "stream",
     "text": [
      "Please enter an integer between 1(inclusive) and 12(inclusive): 11\n",
      " \n",
      "11 x 0 = 0\n",
      "11 x 1 = 11\n",
      "11 x 2 = 22\n",
      "11 x 3 = 33\n",
      "11 x 4 = 44\n",
      "11 x 5 = 55\n",
      "11 x 6 = 66\n",
      "11 x 7 = 77\n",
      "11 x 8 = 88\n",
      "11 x 9 = 99\n",
      "11 x 10 = 110\n",
      "11 x 11 = 121\n",
      "11 x 12 = 132\n"
     ]
    }
   ],
   "source": [
    "times_loop()"
   ]
  },
  {
   "cell_type": "code",
   "execution_count": 28,
   "id": "9f2f4b89",
   "metadata": {},
   "outputs": [
    {
     "name": "stdout",
     "output_type": "stream",
     "text": [
      "Please enter an integer between 1(inclusive) and 12(inclusive): 13\n",
      " \n",
      "Integer must be between 1(inclusive) and 12(inclusive)\n",
      " \n",
      "Please enter an integer between 1(inclusive) and 12(inclusive): 14\n",
      " \n",
      "Integer must be between 1(inclusive) and 12(inclusive)\n",
      " \n",
      "Please enter an integer between 1(inclusive) and 12(inclusive): 12\n",
      " \n",
      "12 x 0 = 0\n",
      "12 x 1 = 12\n",
      "12 x 2 = 24\n",
      "12 x 3 = 36\n",
      "12 x 4 = 48\n",
      "12 x 5 = 60\n",
      "12 x 6 = 72\n",
      "12 x 7 = 84\n",
      "12 x 8 = 96\n",
      "12 x 9 = 108\n",
      "12 x 10 = 120\n",
      "12 x 11 = 132\n",
      "12 x 12 = 144\n"
     ]
    }
   ],
   "source": [
    "times_loop()"
   ]
  },
  {
   "cell_type": "markdown",
   "id": "ca4cdfd5",
   "metadata": {},
   "source": [
    "# <center>For Loop</center>"
   ]
  },
  {
   "cell_type": "markdown",
   "id": "cb82eeab",
   "metadata": {},
   "source": [
    "### Simplified version"
   ]
  },
  {
   "cell_type": "code",
   "execution_count": 30,
   "id": "3f232e1e",
   "metadata": {},
   "outputs": [],
   "source": [
    "def times_1():\n",
    "    num = int(input(\"Please enter an integer between 1(inclusive) and 12(inclusive): \"))\n",
    "    print(' ')\n",
    "    if (1 <= num <= 12):\n",
    "        for i in range(0, 13):\n",
    "            num1 = num * i\n",
    "            print(\"{} x {} = {}\".format(num, i, num1))\n",
    "    else:\n",
    "        print(\"Error, integer has to be between 1(inclusive) and 12(inclusive)\")"
   ]
  },
  {
   "cell_type": "code",
   "execution_count": 31,
   "id": "0b4bc324",
   "metadata": {},
   "outputs": [
    {
     "name": "stdout",
     "output_type": "stream",
     "text": [
      "Please enter an integer between 1(inclusive) and 12(inclusive): 0\n",
      " \n",
      "Error, integer has to be between 1(inclusive) and 12(inclusive)\n"
     ]
    }
   ],
   "source": [
    "times_1()"
   ]
  },
  {
   "cell_type": "code",
   "execution_count": 32,
   "id": "4492c5ac",
   "metadata": {},
   "outputs": [
    {
     "name": "stdout",
     "output_type": "stream",
     "text": [
      "Please enter an integer between 1(inclusive) and 12(inclusive): 1\n",
      " \n",
      "1 x 0 = 0\n",
      "1 x 1 = 1\n",
      "1 x 2 = 2\n",
      "1 x 3 = 3\n",
      "1 x 4 = 4\n",
      "1 x 5 = 5\n",
      "1 x 6 = 6\n",
      "1 x 7 = 7\n",
      "1 x 8 = 8\n",
      "1 x 9 = 9\n",
      "1 x 10 = 10\n",
      "1 x 11 = 11\n",
      "1 x 12 = 12\n"
     ]
    }
   ],
   "source": [
    "times_1()"
   ]
  },
  {
   "cell_type": "code",
   "execution_count": 33,
   "id": "4938a563",
   "metadata": {},
   "outputs": [
    {
     "name": "stdout",
     "output_type": "stream",
     "text": [
      "Please enter an integer between 1(inclusive) and 12(inclusive): 2\n",
      " \n",
      "2 x 0 = 0\n",
      "2 x 1 = 2\n",
      "2 x 2 = 4\n",
      "2 x 3 = 6\n",
      "2 x 4 = 8\n",
      "2 x 5 = 10\n",
      "2 x 6 = 12\n",
      "2 x 7 = 14\n",
      "2 x 8 = 16\n",
      "2 x 9 = 18\n",
      "2 x 10 = 20\n",
      "2 x 11 = 22\n",
      "2 x 12 = 24\n"
     ]
    }
   ],
   "source": [
    "times_1()"
   ]
  },
  {
   "cell_type": "code",
   "execution_count": 34,
   "id": "687380b4",
   "metadata": {},
   "outputs": [
    {
     "name": "stdout",
     "output_type": "stream",
     "text": [
      "Please enter an integer between 1(inclusive) and 12(inclusive): 3\n",
      " \n",
      "3 x 0 = 0\n",
      "3 x 1 = 3\n",
      "3 x 2 = 6\n",
      "3 x 3 = 9\n",
      "3 x 4 = 12\n",
      "3 x 5 = 15\n",
      "3 x 6 = 18\n",
      "3 x 7 = 21\n",
      "3 x 8 = 24\n",
      "3 x 9 = 27\n",
      "3 x 10 = 30\n",
      "3 x 11 = 33\n",
      "3 x 12 = 36\n"
     ]
    }
   ],
   "source": [
    "times_1()"
   ]
  },
  {
   "cell_type": "code",
   "execution_count": 35,
   "id": "149949a5",
   "metadata": {},
   "outputs": [
    {
     "name": "stdout",
     "output_type": "stream",
     "text": [
      "Please enter an integer between 1(inclusive) and 12(inclusive): 4\n",
      " \n",
      "4 x 0 = 0\n",
      "4 x 1 = 4\n",
      "4 x 2 = 8\n",
      "4 x 3 = 12\n",
      "4 x 4 = 16\n",
      "4 x 5 = 20\n",
      "4 x 6 = 24\n",
      "4 x 7 = 28\n",
      "4 x 8 = 32\n",
      "4 x 9 = 36\n",
      "4 x 10 = 40\n",
      "4 x 11 = 44\n",
      "4 x 12 = 48\n"
     ]
    }
   ],
   "source": [
    "times_1()"
   ]
  },
  {
   "cell_type": "code",
   "execution_count": 36,
   "id": "d60a94a2",
   "metadata": {},
   "outputs": [
    {
     "name": "stdout",
     "output_type": "stream",
     "text": [
      "Please enter an integer between 1(inclusive) and 12(inclusive): 5\n",
      " \n",
      "5 x 0 = 0\n",
      "5 x 1 = 5\n",
      "5 x 2 = 10\n",
      "5 x 3 = 15\n",
      "5 x 4 = 20\n",
      "5 x 5 = 25\n",
      "5 x 6 = 30\n",
      "5 x 7 = 35\n",
      "5 x 8 = 40\n",
      "5 x 9 = 45\n",
      "5 x 10 = 50\n",
      "5 x 11 = 55\n",
      "5 x 12 = 60\n"
     ]
    }
   ],
   "source": [
    "times_1()"
   ]
  },
  {
   "cell_type": "code",
   "execution_count": 37,
   "id": "f7713e0b",
   "metadata": {},
   "outputs": [
    {
     "name": "stdout",
     "output_type": "stream",
     "text": [
      "Please enter an integer between 1(inclusive) and 12(inclusive): 6\n",
      " \n",
      "6 x 0 = 0\n",
      "6 x 1 = 6\n",
      "6 x 2 = 12\n",
      "6 x 3 = 18\n",
      "6 x 4 = 24\n",
      "6 x 5 = 30\n",
      "6 x 6 = 36\n",
      "6 x 7 = 42\n",
      "6 x 8 = 48\n",
      "6 x 9 = 54\n",
      "6 x 10 = 60\n",
      "6 x 11 = 66\n",
      "6 x 12 = 72\n"
     ]
    }
   ],
   "source": [
    "times_1()"
   ]
  },
  {
   "cell_type": "code",
   "execution_count": 38,
   "id": "4c0693f1",
   "metadata": {},
   "outputs": [
    {
     "name": "stdout",
     "output_type": "stream",
     "text": [
      "Please enter an integer between 1(inclusive) and 12(inclusive): 7\n",
      " \n",
      "7 x 0 = 0\n",
      "7 x 1 = 7\n",
      "7 x 2 = 14\n",
      "7 x 3 = 21\n",
      "7 x 4 = 28\n",
      "7 x 5 = 35\n",
      "7 x 6 = 42\n",
      "7 x 7 = 49\n",
      "7 x 8 = 56\n",
      "7 x 9 = 63\n",
      "7 x 10 = 70\n",
      "7 x 11 = 77\n",
      "7 x 12 = 84\n"
     ]
    }
   ],
   "source": [
    "times_1()"
   ]
  },
  {
   "cell_type": "code",
   "execution_count": 39,
   "id": "8ecd1b2d",
   "metadata": {},
   "outputs": [
    {
     "name": "stdout",
     "output_type": "stream",
     "text": [
      "Please enter an integer between 1(inclusive) and 12(inclusive): 8\n",
      " \n",
      "8 x 0 = 0\n",
      "8 x 1 = 8\n",
      "8 x 2 = 16\n",
      "8 x 3 = 24\n",
      "8 x 4 = 32\n",
      "8 x 5 = 40\n",
      "8 x 6 = 48\n",
      "8 x 7 = 56\n",
      "8 x 8 = 64\n",
      "8 x 9 = 72\n",
      "8 x 10 = 80\n",
      "8 x 11 = 88\n",
      "8 x 12 = 96\n"
     ]
    }
   ],
   "source": [
    "times_1()"
   ]
  },
  {
   "cell_type": "code",
   "execution_count": 40,
   "id": "a1700308",
   "metadata": {},
   "outputs": [
    {
     "name": "stdout",
     "output_type": "stream",
     "text": [
      "Please enter an integer between 1(inclusive) and 12(inclusive): 9\n",
      " \n",
      "9 x 0 = 0\n",
      "9 x 1 = 9\n",
      "9 x 2 = 18\n",
      "9 x 3 = 27\n",
      "9 x 4 = 36\n",
      "9 x 5 = 45\n",
      "9 x 6 = 54\n",
      "9 x 7 = 63\n",
      "9 x 8 = 72\n",
      "9 x 9 = 81\n",
      "9 x 10 = 90\n",
      "9 x 11 = 99\n",
      "9 x 12 = 108\n"
     ]
    }
   ],
   "source": [
    "times_1()"
   ]
  },
  {
   "cell_type": "code",
   "execution_count": 41,
   "id": "16ca2ffc",
   "metadata": {},
   "outputs": [
    {
     "name": "stdout",
     "output_type": "stream",
     "text": [
      "Please enter an integer between 1(inclusive) and 12(inclusive): 10\n",
      " \n",
      "10 x 0 = 0\n",
      "10 x 1 = 10\n",
      "10 x 2 = 20\n",
      "10 x 3 = 30\n",
      "10 x 4 = 40\n",
      "10 x 5 = 50\n",
      "10 x 6 = 60\n",
      "10 x 7 = 70\n",
      "10 x 8 = 80\n",
      "10 x 9 = 90\n",
      "10 x 10 = 100\n",
      "10 x 11 = 110\n",
      "10 x 12 = 120\n"
     ]
    }
   ],
   "source": [
    "times_1()"
   ]
  },
  {
   "cell_type": "code",
   "execution_count": 42,
   "id": "9c54e534",
   "metadata": {},
   "outputs": [
    {
     "name": "stdout",
     "output_type": "stream",
     "text": [
      "Please enter an integer between 1(inclusive) and 12(inclusive): 11\n",
      " \n",
      "11 x 0 = 0\n",
      "11 x 1 = 11\n",
      "11 x 2 = 22\n",
      "11 x 3 = 33\n",
      "11 x 4 = 44\n",
      "11 x 5 = 55\n",
      "11 x 6 = 66\n",
      "11 x 7 = 77\n",
      "11 x 8 = 88\n",
      "11 x 9 = 99\n",
      "11 x 10 = 110\n",
      "11 x 11 = 121\n",
      "11 x 12 = 132\n"
     ]
    }
   ],
   "source": [
    "times_1()"
   ]
  },
  {
   "cell_type": "code",
   "execution_count": 43,
   "id": "9362cbac",
   "metadata": {},
   "outputs": [
    {
     "name": "stdout",
     "output_type": "stream",
     "text": [
      "Please enter an integer between 1(inclusive) and 12(inclusive): 12\n",
      " \n",
      "12 x 0 = 0\n",
      "12 x 1 = 12\n",
      "12 x 2 = 24\n",
      "12 x 3 = 36\n",
      "12 x 4 = 48\n",
      "12 x 5 = 60\n",
      "12 x 6 = 72\n",
      "12 x 7 = 84\n",
      "12 x 8 = 96\n",
      "12 x 9 = 108\n",
      "12 x 10 = 120\n",
      "12 x 11 = 132\n",
      "12 x 12 = 144\n"
     ]
    }
   ],
   "source": [
    "times_1()"
   ]
  },
  {
   "cell_type": "code",
   "execution_count": 44,
   "id": "61792aff",
   "metadata": {},
   "outputs": [
    {
     "name": "stdout",
     "output_type": "stream",
     "text": [
      "Please enter an integer between 1(inclusive) and 12(inclusive): 13\n",
      " \n",
      "Error, integer has to be between 1(inclusive) and 12(inclusive)\n"
     ]
    }
   ],
   "source": [
    "times_1()"
   ]
  },
  {
   "cell_type": "markdown",
   "id": "eb2d231b",
   "metadata": {},
   "source": [
    "### Version on loop until the number required is entered"
   ]
  },
  {
   "cell_type": "code",
   "execution_count": 45,
   "id": "9d03e9fe",
   "metadata": {},
   "outputs": [],
   "source": [
    "def times_loop_1():\n",
    "    #initialize the num variable\n",
    "    num = 0\n",
    "    \n",
    "    while num < 1 or num > 12:\n",
    "        integer = int(input(\"Please enter an integer between 1(inclusive) and 12(inclusive): \"))\n",
    "        print(' ')\n",
    "        try:\n",
    "            num = int(integer)\n",
    "        except ValueError:\n",
    "            print(\"Invalid input, please enter an integer\")\n",
    "            print(' ')\n",
    "            continue\n",
    "        if num < 1 or num > 12:\n",
    "            print(\"Integer must be between 1(inclusive) and 12(inclusive)\")\n",
    "            print(' ')\n",
    "\n",
    "    for i in range(0, 13):\n",
    "            num1 = num * i\n",
    "            print(\"{} x {} = {}\".format(num, i, num1))"
   ]
  },
  {
   "cell_type": "code",
   "execution_count": 46,
   "id": "101f6c90",
   "metadata": {},
   "outputs": [
    {
     "name": "stdout",
     "output_type": "stream",
     "text": [
      "Please enter an integer between 1(inclusive) and 12(inclusive): -1\n",
      " \n",
      "Integer must be between 1(inclusive) and 12(inclusive)\n",
      " \n",
      "Please enter an integer between 1(inclusive) and 12(inclusive): 0\n",
      " \n",
      "Integer must be between 1(inclusive) and 12(inclusive)\n",
      " \n",
      "Please enter an integer between 1(inclusive) and 12(inclusive): 1\n",
      " \n",
      "1 x 0 = 0\n",
      "1 x 1 = 1\n",
      "1 x 2 = 2\n",
      "1 x 3 = 3\n",
      "1 x 4 = 4\n",
      "1 x 5 = 5\n",
      "1 x 6 = 6\n",
      "1 x 7 = 7\n",
      "1 x 8 = 8\n",
      "1 x 9 = 9\n",
      "1 x 10 = 10\n",
      "1 x 11 = 11\n",
      "1 x 12 = 12\n"
     ]
    }
   ],
   "source": [
    "times_loop_1()"
   ]
  },
  {
   "cell_type": "code",
   "execution_count": 47,
   "id": "5e52208f",
   "metadata": {},
   "outputs": [
    {
     "name": "stdout",
     "output_type": "stream",
     "text": [
      "Please enter an integer between 1(inclusive) and 12(inclusive): 2\n",
      " \n",
      "2 x 0 = 0\n",
      "2 x 1 = 2\n",
      "2 x 2 = 4\n",
      "2 x 3 = 6\n",
      "2 x 4 = 8\n",
      "2 x 5 = 10\n",
      "2 x 6 = 12\n",
      "2 x 7 = 14\n",
      "2 x 8 = 16\n",
      "2 x 9 = 18\n",
      "2 x 10 = 20\n",
      "2 x 11 = 22\n",
      "2 x 12 = 24\n"
     ]
    }
   ],
   "source": [
    "times_loop_1()"
   ]
  },
  {
   "cell_type": "code",
   "execution_count": 48,
   "id": "a723e3dc",
   "metadata": {},
   "outputs": [
    {
     "name": "stdout",
     "output_type": "stream",
     "text": [
      "Please enter an integer between 1(inclusive) and 12(inclusive): 3\n",
      " \n",
      "3 x 0 = 0\n",
      "3 x 1 = 3\n",
      "3 x 2 = 6\n",
      "3 x 3 = 9\n",
      "3 x 4 = 12\n",
      "3 x 5 = 15\n",
      "3 x 6 = 18\n",
      "3 x 7 = 21\n",
      "3 x 8 = 24\n",
      "3 x 9 = 27\n",
      "3 x 10 = 30\n",
      "3 x 11 = 33\n",
      "3 x 12 = 36\n"
     ]
    }
   ],
   "source": [
    "times_loop_1()"
   ]
  },
  {
   "cell_type": "code",
   "execution_count": 49,
   "id": "4551f3bb",
   "metadata": {},
   "outputs": [
    {
     "name": "stdout",
     "output_type": "stream",
     "text": [
      "Please enter an integer between 1(inclusive) and 12(inclusive): 4\n",
      " \n",
      "4 x 0 = 0\n",
      "4 x 1 = 4\n",
      "4 x 2 = 8\n",
      "4 x 3 = 12\n",
      "4 x 4 = 16\n",
      "4 x 5 = 20\n",
      "4 x 6 = 24\n",
      "4 x 7 = 28\n",
      "4 x 8 = 32\n",
      "4 x 9 = 36\n",
      "4 x 10 = 40\n",
      "4 x 11 = 44\n",
      "4 x 12 = 48\n"
     ]
    }
   ],
   "source": [
    "times_loop_1()"
   ]
  },
  {
   "cell_type": "code",
   "execution_count": 50,
   "id": "b8b799fd",
   "metadata": {},
   "outputs": [
    {
     "name": "stdout",
     "output_type": "stream",
     "text": [
      "Please enter an integer between 1(inclusive) and 12(inclusive): 5\n",
      " \n",
      "5 x 0 = 0\n",
      "5 x 1 = 5\n",
      "5 x 2 = 10\n",
      "5 x 3 = 15\n",
      "5 x 4 = 20\n",
      "5 x 5 = 25\n",
      "5 x 6 = 30\n",
      "5 x 7 = 35\n",
      "5 x 8 = 40\n",
      "5 x 9 = 45\n",
      "5 x 10 = 50\n",
      "5 x 11 = 55\n",
      "5 x 12 = 60\n"
     ]
    }
   ],
   "source": [
    "times_loop_1()"
   ]
  },
  {
   "cell_type": "code",
   "execution_count": 51,
   "id": "db1624be",
   "metadata": {},
   "outputs": [
    {
     "name": "stdout",
     "output_type": "stream",
     "text": [
      "Please enter an integer between 1(inclusive) and 12(inclusive): 6\n",
      " \n",
      "6 x 0 = 0\n",
      "6 x 1 = 6\n",
      "6 x 2 = 12\n",
      "6 x 3 = 18\n",
      "6 x 4 = 24\n",
      "6 x 5 = 30\n",
      "6 x 6 = 36\n",
      "6 x 7 = 42\n",
      "6 x 8 = 48\n",
      "6 x 9 = 54\n",
      "6 x 10 = 60\n",
      "6 x 11 = 66\n",
      "6 x 12 = 72\n"
     ]
    }
   ],
   "source": [
    "times_loop_1()"
   ]
  },
  {
   "cell_type": "code",
   "execution_count": 52,
   "id": "9e4d9c8b",
   "metadata": {},
   "outputs": [
    {
     "name": "stdout",
     "output_type": "stream",
     "text": [
      "Please enter an integer between 1(inclusive) and 12(inclusive): 7\n",
      " \n",
      "7 x 0 = 0\n",
      "7 x 1 = 7\n",
      "7 x 2 = 14\n",
      "7 x 3 = 21\n",
      "7 x 4 = 28\n",
      "7 x 5 = 35\n",
      "7 x 6 = 42\n",
      "7 x 7 = 49\n",
      "7 x 8 = 56\n",
      "7 x 9 = 63\n",
      "7 x 10 = 70\n",
      "7 x 11 = 77\n",
      "7 x 12 = 84\n"
     ]
    }
   ],
   "source": [
    "times_loop_1()"
   ]
  },
  {
   "cell_type": "code",
   "execution_count": 53,
   "id": "853c8555",
   "metadata": {},
   "outputs": [
    {
     "name": "stdout",
     "output_type": "stream",
     "text": [
      "Please enter an integer between 1(inclusive) and 12(inclusive): 8\n",
      " \n",
      "8 x 0 = 0\n",
      "8 x 1 = 8\n",
      "8 x 2 = 16\n",
      "8 x 3 = 24\n",
      "8 x 4 = 32\n",
      "8 x 5 = 40\n",
      "8 x 6 = 48\n",
      "8 x 7 = 56\n",
      "8 x 8 = 64\n",
      "8 x 9 = 72\n",
      "8 x 10 = 80\n",
      "8 x 11 = 88\n",
      "8 x 12 = 96\n"
     ]
    }
   ],
   "source": [
    "times_loop_1()"
   ]
  },
  {
   "cell_type": "code",
   "execution_count": 54,
   "id": "5342a750",
   "metadata": {},
   "outputs": [
    {
     "name": "stdout",
     "output_type": "stream",
     "text": [
      "Please enter an integer between 1(inclusive) and 12(inclusive): 9\n",
      " \n",
      "9 x 0 = 0\n",
      "9 x 1 = 9\n",
      "9 x 2 = 18\n",
      "9 x 3 = 27\n",
      "9 x 4 = 36\n",
      "9 x 5 = 45\n",
      "9 x 6 = 54\n",
      "9 x 7 = 63\n",
      "9 x 8 = 72\n",
      "9 x 9 = 81\n",
      "9 x 10 = 90\n",
      "9 x 11 = 99\n",
      "9 x 12 = 108\n"
     ]
    }
   ],
   "source": [
    "times_loop_1()"
   ]
  },
  {
   "cell_type": "code",
   "execution_count": 55,
   "id": "c491e47e",
   "metadata": {},
   "outputs": [
    {
     "name": "stdout",
     "output_type": "stream",
     "text": [
      "Please enter an integer between 1(inclusive) and 12(inclusive): 10\n",
      " \n",
      "10 x 0 = 0\n",
      "10 x 1 = 10\n",
      "10 x 2 = 20\n",
      "10 x 3 = 30\n",
      "10 x 4 = 40\n",
      "10 x 5 = 50\n",
      "10 x 6 = 60\n",
      "10 x 7 = 70\n",
      "10 x 8 = 80\n",
      "10 x 9 = 90\n",
      "10 x 10 = 100\n",
      "10 x 11 = 110\n",
      "10 x 12 = 120\n"
     ]
    }
   ],
   "source": [
    "times_loop_1()"
   ]
  },
  {
   "cell_type": "code",
   "execution_count": 56,
   "id": "41d42689",
   "metadata": {},
   "outputs": [
    {
     "name": "stdout",
     "output_type": "stream",
     "text": [
      "Please enter an integer between 1(inclusive) and 12(inclusive): 11\n",
      " \n",
      "11 x 0 = 0\n",
      "11 x 1 = 11\n",
      "11 x 2 = 22\n",
      "11 x 3 = 33\n",
      "11 x 4 = 44\n",
      "11 x 5 = 55\n",
      "11 x 6 = 66\n",
      "11 x 7 = 77\n",
      "11 x 8 = 88\n",
      "11 x 9 = 99\n",
      "11 x 10 = 110\n",
      "11 x 11 = 121\n",
      "11 x 12 = 132\n"
     ]
    }
   ],
   "source": [
    "times_loop_1()"
   ]
  },
  {
   "cell_type": "code",
   "execution_count": 57,
   "id": "2e36e261",
   "metadata": {},
   "outputs": [
    {
     "name": "stdout",
     "output_type": "stream",
     "text": [
      "Please enter an integer between 1(inclusive) and 12(inclusive): 13\n",
      " \n",
      "Integer must be between 1(inclusive) and 12(inclusive)\n",
      " \n",
      "Please enter an integer between 1(inclusive) and 12(inclusive): 14\n",
      " \n",
      "Integer must be between 1(inclusive) and 12(inclusive)\n",
      " \n",
      "Please enter an integer between 1(inclusive) and 12(inclusive): 12\n",
      " \n",
      "12 x 0 = 0\n",
      "12 x 1 = 12\n",
      "12 x 2 = 24\n",
      "12 x 3 = 36\n",
      "12 x 4 = 48\n",
      "12 x 5 = 60\n",
      "12 x 6 = 72\n",
      "12 x 7 = 84\n",
      "12 x 8 = 96\n",
      "12 x 9 = 108\n",
      "12 x 10 = 120\n",
      "12 x 11 = 132\n",
      "12 x 12 = 144\n"
     ]
    }
   ],
   "source": [
    "times_loop_1()"
   ]
  },
  {
   "cell_type": "markdown",
   "id": "899d2f33",
   "metadata": {},
   "source": [
    "## OR"
   ]
  },
  {
   "cell_type": "markdown",
   "id": "9fce389a",
   "metadata": {},
   "source": [
    "### Simplified version"
   ]
  },
  {
   "cell_type": "code",
   "execution_count": 58,
   "id": "25f4ed92",
   "metadata": {},
   "outputs": [],
   "source": [
    "def times_2():\n",
    "    num = int(input(\"Please enter an integer between 1(inclusive) and 12(inclusive): \"))\n",
    "    print(' ')\n",
    "    if (1 <= num <= 12):\n",
    "        for i in range(13):\n",
    "            num1 = num * i\n",
    "            print(\"{} x {} = {}\".format(num, i, num1))\n",
    "    else:\n",
    "        print(\"Error, integer has to be between 1(inclusive) and 12(inclusive)\")"
   ]
  },
  {
   "cell_type": "code",
   "execution_count": 59,
   "id": "d711bdd6",
   "metadata": {},
   "outputs": [
    {
     "name": "stdout",
     "output_type": "stream",
     "text": [
      "Please enter an integer between 1(inclusive) and 12(inclusive): 0\n",
      " \n",
      "Error, integer has to be between 1(inclusive) and 12(inclusive)\n"
     ]
    }
   ],
   "source": [
    "times_2()"
   ]
  },
  {
   "cell_type": "code",
   "execution_count": 60,
   "id": "c3c53e7f",
   "metadata": {},
   "outputs": [
    {
     "name": "stdout",
     "output_type": "stream",
     "text": [
      "Please enter an integer between 1(inclusive) and 12(inclusive): 1\n",
      " \n",
      "1 x 0 = 0\n",
      "1 x 1 = 1\n",
      "1 x 2 = 2\n",
      "1 x 3 = 3\n",
      "1 x 4 = 4\n",
      "1 x 5 = 5\n",
      "1 x 6 = 6\n",
      "1 x 7 = 7\n",
      "1 x 8 = 8\n",
      "1 x 9 = 9\n",
      "1 x 10 = 10\n",
      "1 x 11 = 11\n",
      "1 x 12 = 12\n"
     ]
    }
   ],
   "source": [
    "times_2()"
   ]
  },
  {
   "cell_type": "code",
   "execution_count": 61,
   "id": "c5aa4171",
   "metadata": {},
   "outputs": [
    {
     "name": "stdout",
     "output_type": "stream",
     "text": [
      "Please enter an integer between 1(inclusive) and 12(inclusive): 2\n",
      " \n",
      "2 x 0 = 0\n",
      "2 x 1 = 2\n",
      "2 x 2 = 4\n",
      "2 x 3 = 6\n",
      "2 x 4 = 8\n",
      "2 x 5 = 10\n",
      "2 x 6 = 12\n",
      "2 x 7 = 14\n",
      "2 x 8 = 16\n",
      "2 x 9 = 18\n",
      "2 x 10 = 20\n",
      "2 x 11 = 22\n",
      "2 x 12 = 24\n"
     ]
    }
   ],
   "source": [
    "times_2()"
   ]
  },
  {
   "cell_type": "code",
   "execution_count": 62,
   "id": "3bd9a093",
   "metadata": {},
   "outputs": [
    {
     "name": "stdout",
     "output_type": "stream",
     "text": [
      "Please enter an integer between 1(inclusive) and 12(inclusive): 3\n",
      " \n",
      "3 x 0 = 0\n",
      "3 x 1 = 3\n",
      "3 x 2 = 6\n",
      "3 x 3 = 9\n",
      "3 x 4 = 12\n",
      "3 x 5 = 15\n",
      "3 x 6 = 18\n",
      "3 x 7 = 21\n",
      "3 x 8 = 24\n",
      "3 x 9 = 27\n",
      "3 x 10 = 30\n",
      "3 x 11 = 33\n",
      "3 x 12 = 36\n"
     ]
    }
   ],
   "source": [
    "times_2()"
   ]
  },
  {
   "cell_type": "code",
   "execution_count": 63,
   "id": "1f84a8be",
   "metadata": {},
   "outputs": [
    {
     "name": "stdout",
     "output_type": "stream",
     "text": [
      "Please enter an integer between 1(inclusive) and 12(inclusive): 4\n",
      " \n",
      "4 x 0 = 0\n",
      "4 x 1 = 4\n",
      "4 x 2 = 8\n",
      "4 x 3 = 12\n",
      "4 x 4 = 16\n",
      "4 x 5 = 20\n",
      "4 x 6 = 24\n",
      "4 x 7 = 28\n",
      "4 x 8 = 32\n",
      "4 x 9 = 36\n",
      "4 x 10 = 40\n",
      "4 x 11 = 44\n",
      "4 x 12 = 48\n"
     ]
    }
   ],
   "source": [
    "times_2()"
   ]
  },
  {
   "cell_type": "code",
   "execution_count": 64,
   "id": "7e02ea68",
   "metadata": {},
   "outputs": [
    {
     "name": "stdout",
     "output_type": "stream",
     "text": [
      "Please enter an integer between 1(inclusive) and 12(inclusive): 5\n",
      " \n",
      "5 x 0 = 0\n",
      "5 x 1 = 5\n",
      "5 x 2 = 10\n",
      "5 x 3 = 15\n",
      "5 x 4 = 20\n",
      "5 x 5 = 25\n",
      "5 x 6 = 30\n",
      "5 x 7 = 35\n",
      "5 x 8 = 40\n",
      "5 x 9 = 45\n",
      "5 x 10 = 50\n",
      "5 x 11 = 55\n",
      "5 x 12 = 60\n"
     ]
    }
   ],
   "source": [
    "times_2()"
   ]
  },
  {
   "cell_type": "code",
   "execution_count": 65,
   "id": "3f242ed3",
   "metadata": {},
   "outputs": [
    {
     "name": "stdout",
     "output_type": "stream",
     "text": [
      "Please enter an integer between 1(inclusive) and 12(inclusive): 6\n",
      " \n",
      "6 x 0 = 0\n",
      "6 x 1 = 6\n",
      "6 x 2 = 12\n",
      "6 x 3 = 18\n",
      "6 x 4 = 24\n",
      "6 x 5 = 30\n",
      "6 x 6 = 36\n",
      "6 x 7 = 42\n",
      "6 x 8 = 48\n",
      "6 x 9 = 54\n",
      "6 x 10 = 60\n",
      "6 x 11 = 66\n",
      "6 x 12 = 72\n"
     ]
    }
   ],
   "source": [
    "times_2()"
   ]
  },
  {
   "cell_type": "code",
   "execution_count": 66,
   "id": "ab3816f7",
   "metadata": {},
   "outputs": [
    {
     "name": "stdout",
     "output_type": "stream",
     "text": [
      "Please enter an integer between 1(inclusive) and 12(inclusive): 7\n",
      " \n",
      "7 x 0 = 0\n",
      "7 x 1 = 7\n",
      "7 x 2 = 14\n",
      "7 x 3 = 21\n",
      "7 x 4 = 28\n",
      "7 x 5 = 35\n",
      "7 x 6 = 42\n",
      "7 x 7 = 49\n",
      "7 x 8 = 56\n",
      "7 x 9 = 63\n",
      "7 x 10 = 70\n",
      "7 x 11 = 77\n",
      "7 x 12 = 84\n"
     ]
    }
   ],
   "source": [
    "times_2()"
   ]
  },
  {
   "cell_type": "code",
   "execution_count": 67,
   "id": "18003126",
   "metadata": {},
   "outputs": [
    {
     "name": "stdout",
     "output_type": "stream",
     "text": [
      "Please enter an integer between 1(inclusive) and 12(inclusive): 8\n",
      " \n",
      "8 x 0 = 0\n",
      "8 x 1 = 8\n",
      "8 x 2 = 16\n",
      "8 x 3 = 24\n",
      "8 x 4 = 32\n",
      "8 x 5 = 40\n",
      "8 x 6 = 48\n",
      "8 x 7 = 56\n",
      "8 x 8 = 64\n",
      "8 x 9 = 72\n",
      "8 x 10 = 80\n",
      "8 x 11 = 88\n",
      "8 x 12 = 96\n"
     ]
    }
   ],
   "source": [
    "times_2()"
   ]
  },
  {
   "cell_type": "code",
   "execution_count": 68,
   "id": "224a6e48",
   "metadata": {},
   "outputs": [
    {
     "name": "stdout",
     "output_type": "stream",
     "text": [
      "Please enter an integer between 1(inclusive) and 12(inclusive): 9\n",
      " \n",
      "9 x 0 = 0\n",
      "9 x 1 = 9\n",
      "9 x 2 = 18\n",
      "9 x 3 = 27\n",
      "9 x 4 = 36\n",
      "9 x 5 = 45\n",
      "9 x 6 = 54\n",
      "9 x 7 = 63\n",
      "9 x 8 = 72\n",
      "9 x 9 = 81\n",
      "9 x 10 = 90\n",
      "9 x 11 = 99\n",
      "9 x 12 = 108\n"
     ]
    }
   ],
   "source": [
    "times_2()"
   ]
  },
  {
   "cell_type": "code",
   "execution_count": 69,
   "id": "adc2548a",
   "metadata": {},
   "outputs": [
    {
     "name": "stdout",
     "output_type": "stream",
     "text": [
      "Please enter an integer between 1(inclusive) and 12(inclusive): 10\n",
      " \n",
      "10 x 0 = 0\n",
      "10 x 1 = 10\n",
      "10 x 2 = 20\n",
      "10 x 3 = 30\n",
      "10 x 4 = 40\n",
      "10 x 5 = 50\n",
      "10 x 6 = 60\n",
      "10 x 7 = 70\n",
      "10 x 8 = 80\n",
      "10 x 9 = 90\n",
      "10 x 10 = 100\n",
      "10 x 11 = 110\n",
      "10 x 12 = 120\n"
     ]
    }
   ],
   "source": [
    "times_2()"
   ]
  },
  {
   "cell_type": "code",
   "execution_count": 70,
   "id": "921b1dbd",
   "metadata": {},
   "outputs": [
    {
     "name": "stdout",
     "output_type": "stream",
     "text": [
      "Please enter an integer between 1(inclusive) and 12(inclusive): 11\n",
      " \n",
      "11 x 0 = 0\n",
      "11 x 1 = 11\n",
      "11 x 2 = 22\n",
      "11 x 3 = 33\n",
      "11 x 4 = 44\n",
      "11 x 5 = 55\n",
      "11 x 6 = 66\n",
      "11 x 7 = 77\n",
      "11 x 8 = 88\n",
      "11 x 9 = 99\n",
      "11 x 10 = 110\n",
      "11 x 11 = 121\n",
      "11 x 12 = 132\n"
     ]
    }
   ],
   "source": [
    "times_2()"
   ]
  },
  {
   "cell_type": "code",
   "execution_count": 71,
   "id": "f7ce23dc",
   "metadata": {},
   "outputs": [
    {
     "name": "stdout",
     "output_type": "stream",
     "text": [
      "Please enter an integer between 1(inclusive) and 12(inclusive): 12\n",
      " \n",
      "12 x 0 = 0\n",
      "12 x 1 = 12\n",
      "12 x 2 = 24\n",
      "12 x 3 = 36\n",
      "12 x 4 = 48\n",
      "12 x 5 = 60\n",
      "12 x 6 = 72\n",
      "12 x 7 = 84\n",
      "12 x 8 = 96\n",
      "12 x 9 = 108\n",
      "12 x 10 = 120\n",
      "12 x 11 = 132\n",
      "12 x 12 = 144\n"
     ]
    }
   ],
   "source": [
    "times_2()"
   ]
  },
  {
   "cell_type": "code",
   "execution_count": 72,
   "id": "6b135760",
   "metadata": {},
   "outputs": [
    {
     "name": "stdout",
     "output_type": "stream",
     "text": [
      "Please enter an integer between 1(inclusive) and 12(inclusive): 13\n",
      " \n",
      "Error, integer has to be between 1(inclusive) and 12(inclusive)\n"
     ]
    }
   ],
   "source": [
    "times_2()"
   ]
  },
  {
   "cell_type": "markdown",
   "id": "82adc1a7",
   "metadata": {},
   "source": [
    "### Version on loop until the number required is entered"
   ]
  },
  {
   "cell_type": "code",
   "execution_count": 73,
   "id": "8ad43e30",
   "metadata": {},
   "outputs": [],
   "source": [
    "def times_loop_2():\n",
    "    #initialize the num variable\n",
    "    num = 0\n",
    "    \n",
    "    while num < 1 or num > 12:\n",
    "        integer = int(input(\"Please enter an integer between 1(inclusive) and 12(inclusive): \"))\n",
    "        print(' ')\n",
    "        try:\n",
    "            num = int(integer)\n",
    "        except ValueError:\n",
    "            print(\"Invalid input, please enter an integer\")\n",
    "            print(' ')\n",
    "            continue\n",
    "        if num < 1 or num > 12:\n",
    "            print(\"Integer must be between 1(inclusive) and 12(inclusive)\")\n",
    "            print(' ')\n",
    "\n",
    "    for i in range(13):\n",
    "            num1 = num * i\n",
    "            print(\"{} x {} = {}\".format(num, i, num1))"
   ]
  },
  {
   "cell_type": "code",
   "execution_count": 74,
   "id": "b16309c1",
   "metadata": {},
   "outputs": [
    {
     "name": "stdout",
     "output_type": "stream",
     "text": [
      "Please enter an integer between 1(inclusive) and 12(inclusive): -1\n",
      " \n",
      "Integer must be between 1(inclusive) and 12(inclusive)\n",
      " \n",
      "Please enter an integer between 1(inclusive) and 12(inclusive): 0\n",
      " \n",
      "Integer must be between 1(inclusive) and 12(inclusive)\n",
      " \n",
      "Please enter an integer between 1(inclusive) and 12(inclusive): 1\n",
      " \n",
      "1 x 0 = 0\n",
      "1 x 1 = 1\n",
      "1 x 2 = 2\n",
      "1 x 3 = 3\n",
      "1 x 4 = 4\n",
      "1 x 5 = 5\n",
      "1 x 6 = 6\n",
      "1 x 7 = 7\n",
      "1 x 8 = 8\n",
      "1 x 9 = 9\n",
      "1 x 10 = 10\n",
      "1 x 11 = 11\n",
      "1 x 12 = 12\n"
     ]
    }
   ],
   "source": [
    "times_loop_2()"
   ]
  },
  {
   "cell_type": "code",
   "execution_count": 75,
   "id": "cd6606b2",
   "metadata": {},
   "outputs": [
    {
     "name": "stdout",
     "output_type": "stream",
     "text": [
      "Please enter an integer between 1(inclusive) and 12(inclusive): 2\n",
      " \n",
      "2 x 0 = 0\n",
      "2 x 1 = 2\n",
      "2 x 2 = 4\n",
      "2 x 3 = 6\n",
      "2 x 4 = 8\n",
      "2 x 5 = 10\n",
      "2 x 6 = 12\n",
      "2 x 7 = 14\n",
      "2 x 8 = 16\n",
      "2 x 9 = 18\n",
      "2 x 10 = 20\n",
      "2 x 11 = 22\n",
      "2 x 12 = 24\n"
     ]
    }
   ],
   "source": [
    "times_loop_2()"
   ]
  },
  {
   "cell_type": "code",
   "execution_count": 76,
   "id": "02854ff2",
   "metadata": {},
   "outputs": [
    {
     "name": "stdout",
     "output_type": "stream",
     "text": [
      "Please enter an integer between 1(inclusive) and 12(inclusive): 3\n",
      " \n",
      "3 x 0 = 0\n",
      "3 x 1 = 3\n",
      "3 x 2 = 6\n",
      "3 x 3 = 9\n",
      "3 x 4 = 12\n",
      "3 x 5 = 15\n",
      "3 x 6 = 18\n",
      "3 x 7 = 21\n",
      "3 x 8 = 24\n",
      "3 x 9 = 27\n",
      "3 x 10 = 30\n",
      "3 x 11 = 33\n",
      "3 x 12 = 36\n"
     ]
    }
   ],
   "source": [
    "times_loop_2()"
   ]
  },
  {
   "cell_type": "code",
   "execution_count": 77,
   "id": "eb7acea1",
   "metadata": {},
   "outputs": [
    {
     "name": "stdout",
     "output_type": "stream",
     "text": [
      "Please enter an integer between 1(inclusive) and 12(inclusive): 4\n",
      " \n",
      "4 x 0 = 0\n",
      "4 x 1 = 4\n",
      "4 x 2 = 8\n",
      "4 x 3 = 12\n",
      "4 x 4 = 16\n",
      "4 x 5 = 20\n",
      "4 x 6 = 24\n",
      "4 x 7 = 28\n",
      "4 x 8 = 32\n",
      "4 x 9 = 36\n",
      "4 x 10 = 40\n",
      "4 x 11 = 44\n",
      "4 x 12 = 48\n"
     ]
    }
   ],
   "source": [
    "times_loop_2()"
   ]
  },
  {
   "cell_type": "code",
   "execution_count": 78,
   "id": "2c72bf83",
   "metadata": {},
   "outputs": [
    {
     "name": "stdout",
     "output_type": "stream",
     "text": [
      "Please enter an integer between 1(inclusive) and 12(inclusive): 5\n",
      " \n",
      "5 x 0 = 0\n",
      "5 x 1 = 5\n",
      "5 x 2 = 10\n",
      "5 x 3 = 15\n",
      "5 x 4 = 20\n",
      "5 x 5 = 25\n",
      "5 x 6 = 30\n",
      "5 x 7 = 35\n",
      "5 x 8 = 40\n",
      "5 x 9 = 45\n",
      "5 x 10 = 50\n",
      "5 x 11 = 55\n",
      "5 x 12 = 60\n"
     ]
    }
   ],
   "source": [
    "times_loop_2()"
   ]
  },
  {
   "cell_type": "code",
   "execution_count": 79,
   "id": "c5396965",
   "metadata": {},
   "outputs": [
    {
     "name": "stdout",
     "output_type": "stream",
     "text": [
      "Please enter an integer between 1(inclusive) and 12(inclusive): 6\n",
      " \n",
      "6 x 0 = 0\n",
      "6 x 1 = 6\n",
      "6 x 2 = 12\n",
      "6 x 3 = 18\n",
      "6 x 4 = 24\n",
      "6 x 5 = 30\n",
      "6 x 6 = 36\n",
      "6 x 7 = 42\n",
      "6 x 8 = 48\n",
      "6 x 9 = 54\n",
      "6 x 10 = 60\n",
      "6 x 11 = 66\n",
      "6 x 12 = 72\n"
     ]
    }
   ],
   "source": [
    "times_loop_2()"
   ]
  },
  {
   "cell_type": "code",
   "execution_count": 80,
   "id": "4b317397",
   "metadata": {},
   "outputs": [
    {
     "name": "stdout",
     "output_type": "stream",
     "text": [
      "Please enter an integer between 1(inclusive) and 12(inclusive): 7\n",
      " \n",
      "7 x 0 = 0\n",
      "7 x 1 = 7\n",
      "7 x 2 = 14\n",
      "7 x 3 = 21\n",
      "7 x 4 = 28\n",
      "7 x 5 = 35\n",
      "7 x 6 = 42\n",
      "7 x 7 = 49\n",
      "7 x 8 = 56\n",
      "7 x 9 = 63\n",
      "7 x 10 = 70\n",
      "7 x 11 = 77\n",
      "7 x 12 = 84\n"
     ]
    }
   ],
   "source": [
    "times_loop_2()"
   ]
  },
  {
   "cell_type": "code",
   "execution_count": 81,
   "id": "03de2c9b",
   "metadata": {},
   "outputs": [
    {
     "name": "stdout",
     "output_type": "stream",
     "text": [
      "Please enter an integer between 1(inclusive) and 12(inclusive): 8\n",
      " \n",
      "8 x 0 = 0\n",
      "8 x 1 = 8\n",
      "8 x 2 = 16\n",
      "8 x 3 = 24\n",
      "8 x 4 = 32\n",
      "8 x 5 = 40\n",
      "8 x 6 = 48\n",
      "8 x 7 = 56\n",
      "8 x 8 = 64\n",
      "8 x 9 = 72\n",
      "8 x 10 = 80\n",
      "8 x 11 = 88\n",
      "8 x 12 = 96\n"
     ]
    }
   ],
   "source": [
    "times_loop_2()"
   ]
  },
  {
   "cell_type": "code",
   "execution_count": 82,
   "id": "f90d11db",
   "metadata": {},
   "outputs": [
    {
     "name": "stdout",
     "output_type": "stream",
     "text": [
      "Please enter an integer between 1(inclusive) and 12(inclusive): 9\n",
      " \n",
      "9 x 0 = 0\n",
      "9 x 1 = 9\n",
      "9 x 2 = 18\n",
      "9 x 3 = 27\n",
      "9 x 4 = 36\n",
      "9 x 5 = 45\n",
      "9 x 6 = 54\n",
      "9 x 7 = 63\n",
      "9 x 8 = 72\n",
      "9 x 9 = 81\n",
      "9 x 10 = 90\n",
      "9 x 11 = 99\n",
      "9 x 12 = 108\n"
     ]
    }
   ],
   "source": [
    "times_loop_2()"
   ]
  },
  {
   "cell_type": "code",
   "execution_count": 83,
   "id": "4e0a8912",
   "metadata": {},
   "outputs": [
    {
     "name": "stdout",
     "output_type": "stream",
     "text": [
      "Please enter an integer between 1(inclusive) and 12(inclusive): 10\n",
      " \n",
      "10 x 0 = 0\n",
      "10 x 1 = 10\n",
      "10 x 2 = 20\n",
      "10 x 3 = 30\n",
      "10 x 4 = 40\n",
      "10 x 5 = 50\n",
      "10 x 6 = 60\n",
      "10 x 7 = 70\n",
      "10 x 8 = 80\n",
      "10 x 9 = 90\n",
      "10 x 10 = 100\n",
      "10 x 11 = 110\n",
      "10 x 12 = 120\n"
     ]
    }
   ],
   "source": [
    "times_loop_2()"
   ]
  },
  {
   "cell_type": "code",
   "execution_count": 84,
   "id": "fcccdd64",
   "metadata": {},
   "outputs": [
    {
     "name": "stdout",
     "output_type": "stream",
     "text": [
      "Please enter an integer between 1(inclusive) and 12(inclusive): 11\n",
      " \n",
      "11 x 0 = 0\n",
      "11 x 1 = 11\n",
      "11 x 2 = 22\n",
      "11 x 3 = 33\n",
      "11 x 4 = 44\n",
      "11 x 5 = 55\n",
      "11 x 6 = 66\n",
      "11 x 7 = 77\n",
      "11 x 8 = 88\n",
      "11 x 9 = 99\n",
      "11 x 10 = 110\n",
      "11 x 11 = 121\n",
      "11 x 12 = 132\n"
     ]
    }
   ],
   "source": [
    "times_loop_2()"
   ]
  },
  {
   "cell_type": "code",
   "execution_count": 86,
   "id": "73f07b5f",
   "metadata": {},
   "outputs": [
    {
     "name": "stdout",
     "output_type": "stream",
     "text": [
      "Please enter an integer between 1(inclusive) and 12(inclusive): 13\n",
      " \n",
      "Integer must be between 1(inclusive) and 12(inclusive)\n",
      " \n",
      "Please enter an integer between 1(inclusive) and 12(inclusive): 14\n",
      " \n",
      "Integer must be between 1(inclusive) and 12(inclusive)\n",
      " \n",
      "Please enter an integer between 1(inclusive) and 12(inclusive): 12\n",
      " \n",
      "12 x 0 = 0\n",
      "12 x 1 = 12\n",
      "12 x 2 = 24\n",
      "12 x 3 = 36\n",
      "12 x 4 = 48\n",
      "12 x 5 = 60\n",
      "12 x 6 = 72\n",
      "12 x 7 = 84\n",
      "12 x 8 = 96\n",
      "12 x 9 = 108\n",
      "12 x 10 = 120\n",
      "12 x 11 = 132\n",
      "12 x 12 = 144\n"
     ]
    }
   ],
   "source": [
    "times_loop_2()"
   ]
  }
 ],
 "metadata": {
  "kernelspec": {
   "display_name": "Python 3 (ipykernel)",
   "language": "python",
   "name": "python3"
  },
  "language_info": {
   "codemirror_mode": {
    "name": "ipython",
    "version": 3
   },
   "file_extension": ".py",
   "mimetype": "text/x-python",
   "name": "python",
   "nbconvert_exporter": "python",
   "pygments_lexer": "ipython3",
   "version": "3.8.16"
  }
 },
 "nbformat": 4,
 "nbformat_minor": 5
}
