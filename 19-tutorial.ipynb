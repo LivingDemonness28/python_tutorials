{
 "cells": [
  {
   "cell_type": "code",
   "execution_count": 6,
   "id": "0da6559e",
   "metadata": {},
   "outputs": [],
   "source": [
    "def times():\n",
    "    #initialize the num variable\n",
    "    num = 0\n",
    "    \n",
    "    while num < 1 or num > 12:\n",
    "        integer = int(input(\"Please enter an integer between 1(inclusive) and 12(inclusive): \"))\n",
    "        print(' ')\n",
    "        try:\n",
    "            num = int(integer)\n",
    "        except ValueError:\n",
    "            print(\"Invalid input, please enter an integer\")\n",
    "            print(' ')\n",
    "            continue\n",
    "        if num < 1 or num > 12:\n",
    "            print(\"Integer must be between 1(inclusive) and 12(inclusive)\")\n",
    "            print(' ')\n",
    "\n",
    "    i = 0\n",
    "    \n",
    "    while(i <= 12):\n",
    "            num1 = num * i\n",
    "            print(\"{} x {} = {}\".format(num, i, num1))\n",
    "            i += 1"
   ]
  },
  {
   "cell_type": "code",
   "execution_count": 7,
   "id": "2075430f",
   "metadata": {},
   "outputs": [
    {
     "name": "stdout",
     "output_type": "stream",
     "text": [
      "Please enter an integer between 1(inclusive) and 12(inclusive): 0\n",
      " \n",
      "Integer must be between 1(inclusive) and 12(inclusive)\n",
      " \n",
      "Please enter an integer between 1(inclusive) and 12(inclusive): -1\n",
      " \n",
      "Integer must be between 1(inclusive) and 12(inclusive)\n",
      " \n",
      "Please enter an integer between 1(inclusive) and 12(inclusive): 1\n",
      " \n",
      "1 x 0 = 0\n",
      "1 x 1 = 1\n",
      "1 x 2 = 2\n",
      "1 x 3 = 3\n",
      "1 x 4 = 4\n",
      "1 x 5 = 5\n",
      "1 x 6 = 6\n",
      "1 x 7 = 7\n",
      "1 x 8 = 8\n",
      "1 x 9 = 9\n",
      "1 x 10 = 10\n",
      "1 x 11 = 11\n",
      "1 x 12 = 12\n"
     ]
    }
   ],
   "source": [
    "times()"
   ]
  },
  {
   "cell_type": "code",
   "execution_count": 8,
   "id": "20e6397e",
   "metadata": {},
   "outputs": [
    {
     "name": "stdout",
     "output_type": "stream",
     "text": [
      "Please enter an integer between 1(inclusive) and 12(inclusive): 2\n",
      " \n",
      "2 x 0 = 0\n",
      "2 x 1 = 2\n",
      "2 x 2 = 4\n",
      "2 x 3 = 6\n",
      "2 x 4 = 8\n",
      "2 x 5 = 10\n",
      "2 x 6 = 12\n",
      "2 x 7 = 14\n",
      "2 x 8 = 16\n",
      "2 x 9 = 18\n",
      "2 x 10 = 20\n",
      "2 x 11 = 22\n",
      "2 x 12 = 24\n"
     ]
    }
   ],
   "source": [
    "times()"
   ]
  },
  {
   "cell_type": "code",
   "execution_count": 9,
   "id": "5da082e4",
   "metadata": {
    "scrolled": true
   },
   "outputs": [
    {
     "name": "stdout",
     "output_type": "stream",
     "text": [
      "Please enter an integer between 1(inclusive) and 12(inclusive): 3\n",
      " \n",
      "3 x 0 = 0\n",
      "3 x 1 = 3\n",
      "3 x 2 = 6\n",
      "3 x 3 = 9\n",
      "3 x 4 = 12\n",
      "3 x 5 = 15\n",
      "3 x 6 = 18\n",
      "3 x 7 = 21\n",
      "3 x 8 = 24\n",
      "3 x 9 = 27\n",
      "3 x 10 = 30\n",
      "3 x 11 = 33\n",
      "3 x 12 = 36\n"
     ]
    }
   ],
   "source": [
    "times()"
   ]
  },
  {
   "cell_type": "code",
   "execution_count": 10,
   "id": "2ae4cf83",
   "metadata": {},
   "outputs": [
    {
     "name": "stdout",
     "output_type": "stream",
     "text": [
      "Please enter an integer between 1(inclusive) and 12(inclusive): 4\n",
      " \n",
      "4 x 0 = 0\n",
      "4 x 1 = 4\n",
      "4 x 2 = 8\n",
      "4 x 3 = 12\n",
      "4 x 4 = 16\n",
      "4 x 5 = 20\n",
      "4 x 6 = 24\n",
      "4 x 7 = 28\n",
      "4 x 8 = 32\n",
      "4 x 9 = 36\n",
      "4 x 10 = 40\n",
      "4 x 11 = 44\n",
      "4 x 12 = 48\n"
     ]
    }
   ],
   "source": [
    "times()"
   ]
  },
  {
   "cell_type": "code",
   "execution_count": 11,
   "id": "6486155c",
   "metadata": {},
   "outputs": [
    {
     "name": "stdout",
     "output_type": "stream",
     "text": [
      "Please enter an integer between 1(inclusive) and 12(inclusive): 5\n",
      " \n",
      "5 x 0 = 0\n",
      "5 x 1 = 5\n",
      "5 x 2 = 10\n",
      "5 x 3 = 15\n",
      "5 x 4 = 20\n",
      "5 x 5 = 25\n",
      "5 x 6 = 30\n",
      "5 x 7 = 35\n",
      "5 x 8 = 40\n",
      "5 x 9 = 45\n",
      "5 x 10 = 50\n",
      "5 x 11 = 55\n",
      "5 x 12 = 60\n"
     ]
    }
   ],
   "source": [
    "times()"
   ]
  },
  {
   "cell_type": "code",
   "execution_count": 12,
   "id": "c25afb96",
   "metadata": {},
   "outputs": [
    {
     "name": "stdout",
     "output_type": "stream",
     "text": [
      "Please enter an integer between 1(inclusive) and 12(inclusive): 6\n",
      " \n",
      "6 x 0 = 0\n",
      "6 x 1 = 6\n",
      "6 x 2 = 12\n",
      "6 x 3 = 18\n",
      "6 x 4 = 24\n",
      "6 x 5 = 30\n",
      "6 x 6 = 36\n",
      "6 x 7 = 42\n",
      "6 x 8 = 48\n",
      "6 x 9 = 54\n",
      "6 x 10 = 60\n",
      "6 x 11 = 66\n",
      "6 x 12 = 72\n"
     ]
    }
   ],
   "source": [
    "times()"
   ]
  },
  {
   "cell_type": "code",
   "execution_count": 13,
   "id": "c5d88a54",
   "metadata": {},
   "outputs": [
    {
     "name": "stdout",
     "output_type": "stream",
     "text": [
      "Please enter an integer between 1(inclusive) and 12(inclusive): 7\n",
      " \n",
      "7 x 0 = 0\n",
      "7 x 1 = 7\n",
      "7 x 2 = 14\n",
      "7 x 3 = 21\n",
      "7 x 4 = 28\n",
      "7 x 5 = 35\n",
      "7 x 6 = 42\n",
      "7 x 7 = 49\n",
      "7 x 8 = 56\n",
      "7 x 9 = 63\n",
      "7 x 10 = 70\n",
      "7 x 11 = 77\n",
      "7 x 12 = 84\n"
     ]
    }
   ],
   "source": [
    "times()"
   ]
  },
  {
   "cell_type": "code",
   "execution_count": 14,
   "id": "57a2c5ea",
   "metadata": {},
   "outputs": [
    {
     "name": "stdout",
     "output_type": "stream",
     "text": [
      "Please enter an integer between 1(inclusive) and 12(inclusive): 8\n",
      " \n",
      "8 x 0 = 0\n",
      "8 x 1 = 8\n",
      "8 x 2 = 16\n",
      "8 x 3 = 24\n",
      "8 x 4 = 32\n",
      "8 x 5 = 40\n",
      "8 x 6 = 48\n",
      "8 x 7 = 56\n",
      "8 x 8 = 64\n",
      "8 x 9 = 72\n",
      "8 x 10 = 80\n",
      "8 x 11 = 88\n",
      "8 x 12 = 96\n"
     ]
    }
   ],
   "source": [
    "times()"
   ]
  },
  {
   "cell_type": "code",
   "execution_count": 15,
   "id": "8d41fe61",
   "metadata": {},
   "outputs": [
    {
     "name": "stdout",
     "output_type": "stream",
     "text": [
      "Please enter an integer between 1(inclusive) and 12(inclusive): 9\n",
      " \n",
      "9 x 0 = 0\n",
      "9 x 1 = 9\n",
      "9 x 2 = 18\n",
      "9 x 3 = 27\n",
      "9 x 4 = 36\n",
      "9 x 5 = 45\n",
      "9 x 6 = 54\n",
      "9 x 7 = 63\n",
      "9 x 8 = 72\n",
      "9 x 9 = 81\n",
      "9 x 10 = 90\n",
      "9 x 11 = 99\n",
      "9 x 12 = 108\n"
     ]
    }
   ],
   "source": [
    "times()"
   ]
  },
  {
   "cell_type": "code",
   "execution_count": 16,
   "id": "1e92fcdf",
   "metadata": {},
   "outputs": [
    {
     "name": "stdout",
     "output_type": "stream",
     "text": [
      "Please enter an integer between 1(inclusive) and 12(inclusive): 10\n",
      " \n",
      "10 x 0 = 0\n",
      "10 x 1 = 10\n",
      "10 x 2 = 20\n",
      "10 x 3 = 30\n",
      "10 x 4 = 40\n",
      "10 x 5 = 50\n",
      "10 x 6 = 60\n",
      "10 x 7 = 70\n",
      "10 x 8 = 80\n",
      "10 x 9 = 90\n",
      "10 x 10 = 100\n",
      "10 x 11 = 110\n",
      "10 x 12 = 120\n"
     ]
    }
   ],
   "source": [
    "times()"
   ]
  },
  {
   "cell_type": "code",
   "execution_count": 17,
   "id": "2dc89a85",
   "metadata": {},
   "outputs": [
    {
     "name": "stdout",
     "output_type": "stream",
     "text": [
      "Please enter an integer between 1(inclusive) and 12(inclusive): 11\n",
      " \n",
      "11 x 0 = 0\n",
      "11 x 1 = 11\n",
      "11 x 2 = 22\n",
      "11 x 3 = 33\n",
      "11 x 4 = 44\n",
      "11 x 5 = 55\n",
      "11 x 6 = 66\n",
      "11 x 7 = 77\n",
      "11 x 8 = 88\n",
      "11 x 9 = 99\n",
      "11 x 10 = 110\n",
      "11 x 11 = 121\n",
      "11 x 12 = 132\n"
     ]
    }
   ],
   "source": [
    "times()"
   ]
  },
  {
   "cell_type": "code",
   "execution_count": 18,
   "id": "5582c1e0",
   "metadata": {},
   "outputs": [
    {
     "name": "stdout",
     "output_type": "stream",
     "text": [
      "Please enter an integer between 1(inclusive) and 12(inclusive): 13\n",
      " \n",
      "Integer must be between 1(inclusive) and 12(inclusive)\n",
      " \n",
      "Please enter an integer between 1(inclusive) and 12(inclusive): 14\n",
      " \n",
      "Integer must be between 1(inclusive) and 12(inclusive)\n",
      " \n",
      "Please enter an integer between 1(inclusive) and 12(inclusive): 12\n",
      " \n",
      "12 x 0 = 0\n",
      "12 x 1 = 12\n",
      "12 x 2 = 24\n",
      "12 x 3 = 36\n",
      "12 x 4 = 48\n",
      "12 x 5 = 60\n",
      "12 x 6 = 72\n",
      "12 x 7 = 84\n",
      "12 x 8 = 96\n",
      "12 x 9 = 108\n",
      "12 x 10 = 120\n",
      "12 x 11 = 132\n",
      "12 x 12 = 144\n"
     ]
    }
   ],
   "source": [
    "times()"
   ]
  }
 ],
 "metadata": {
  "kernelspec": {
   "display_name": "Python 3 (ipykernel)",
   "language": "python",
   "name": "python3"
  },
  "language_info": {
   "codemirror_mode": {
    "name": "ipython",
    "version": 3
   },
   "file_extension": ".py",
   "mimetype": "text/x-python",
   "name": "python",
   "nbconvert_exporter": "python",
   "pygments_lexer": "ipython3",
   "version": "3.8.16"
  }
 },
 "nbformat": 4,
 "nbformat_minor": 5
}
