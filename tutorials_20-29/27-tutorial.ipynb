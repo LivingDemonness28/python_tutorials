{
 "cells": [
  {
   "cell_type": "code",
   "execution_count": 1,
   "id": "e5a2a355",
   "metadata": {},
   "outputs": [],
   "source": [
    "def cap():\n",
    "    while True:\n",
    "        first_name = str(input(\"Enter your first name in lowercase: \"))\n",
    "        print(' ')\n",
    "        if first_name.islower():\n",
    "            break\n",
    "        else:\n",
    "            print(\"Invalid input. Please enter your first name in lowercase\")\n",
    "            print(' ')\n",
    "    while True:\n",
    "        surname = str(input(\"Enter your surname in lowercase: \"))\n",
    "        print(' ')\n",
    "        if surname.islower():\n",
    "            break\n",
    "        else:\n",
    "            print(\"Invalid input. Please enter your surname in lowercase\")\n",
    "            print(' ')\n",
    "    \n",
    "    name = first_name + \" \" + surname\n",
    "    name = name.title()\n",
    "    name = \"\\033[1m\" + name + \"\\033[0m\"\n",
    "    print(\"Full Name:\", name)"
   ]
  },
  {
   "cell_type": "code",
   "execution_count": 2,
   "id": "9eeb2f77",
   "metadata": {},
   "outputs": [
    {
     "name": "stdout",
     "output_type": "stream",
     "text": [
      "Enter your first name in lowercase: Living\n",
      " \n",
      "Invalid input. Please enter your first name in lowercase\n",
      " \n",
      "Enter your first name in lowercase: living\n",
      " \n",
      "Enter your surname in lowercase: Demoness28\n",
      " \n",
      "Invalid input. Please enter your surname in lowercase\n",
      " \n",
      "Enter your surname in lowercase: demoness28\n",
      " \n",
      "Full Name: \u001b[1mLiving Demoness28\u001b[0m\n"
     ]
    }
   ],
   "source": [
    "cap()"
   ]
  },
  {
   "cell_type": "code",
   "execution_count": 3,
   "id": "09cb76de",
   "metadata": {},
   "outputs": [
    {
     "name": "stdout",
     "output_type": "stream",
     "text": [
      "Enter your first name in lowercase: ruby\n",
      " \n",
      "Enter your surname in lowercase: Oliva\n",
      " \n",
      "Invalid input. Please enter your surname in lowercase\n",
      " \n",
      "Enter your surname in lowercase: oliva\n",
      " \n",
      "Full Name: \u001b[1mRuby Oliva\u001b[0m\n"
     ]
    }
   ],
   "source": [
    "cap()"
   ]
  },
  {
   "cell_type": "code",
   "execution_count": 4,
   "id": "29bad5e3",
   "metadata": {},
   "outputs": [
    {
     "name": "stdout",
     "output_type": "stream",
     "text": [
      "Enter your first name in lowercase: daphne\n",
      " \n",
      "Enter your surname in lowercase: bridgerton\n",
      " \n",
      "Full Name: \u001b[1mDaphne Bridgerton\u001b[0m\n"
     ]
    }
   ],
   "source": [
    "cap()"
   ]
  }
 ],
 "metadata": {
  "kernelspec": {
   "display_name": "Python 3 (ipykernel)",
   "language": "python",
   "name": "python3"
  },
  "language_info": {
   "codemirror_mode": {
    "name": "ipython",
    "version": 3
   },
   "file_extension": ".py",
   "mimetype": "text/x-python",
   "name": "python",
   "nbconvert_exporter": "python",
   "pygments_lexer": "ipython3",
   "version": "3.8.16"
  }
 },
 "nbformat": 4,
 "nbformat_minor": 5
}
