{
 "cells": [
  {
   "cell_type": "markdown",
   "id": "bd2da5e9",
   "metadata": {},
   "source": [
    "# <center>While Loop</center>"
   ]
  },
  {
   "cell_type": "code",
   "execution_count": 1,
   "id": "049ca8d3",
   "metadata": {},
   "outputs": [],
   "source": [
    "def nan():\n",
    "    name = str(input(\"Please enter your name: \"))\n",
    "    \n",
    "    #initialize the num variable\n",
    "    num = 0\n",
    "    \n",
    "    while num < 1:\n",
    "        integer = input(\"Please enter a number: \")\n",
    "        print(' ')\n",
    "        try:\n",
    "            num = int(integer)\n",
    "        except ValueError:\n",
    "            print(\"Invalid input, please enter an integer\")\n",
    "            print(' ')\n",
    "            continue\n",
    "        if num < 1:\n",
    "            print(\"Number must be 1 or higher\")\n",
    "            print(' ')\n",
    "            \n",
    "    if (num < 10):\n",
    "        i = 1\n",
    "        while (i <= num):\n",
    "            print(name)\n",
    "            i += 1\n",
    "    else:\n",
    "        i = 1\n",
    "        while (i <= 3):\n",
    "            print(\"Too high\")\n",
    "            i += 1"
   ]
  },
  {
   "cell_type": "code",
   "execution_count": 2,
   "id": "5d288128",
   "metadata": {},
   "outputs": [
    {
     "name": "stdout",
     "output_type": "stream",
     "text": [
      "Please enter your name: choc\n",
      "Please enter a number: 0\n",
      " \n",
      "Number must be 1 or higher\n",
      " \n",
      "Please enter a number: 1\n",
      " \n",
      "choc\n"
     ]
    }
   ],
   "source": [
    "nan()"
   ]
  },
  {
   "cell_type": "code",
   "execution_count": 3,
   "id": "b3e2a40c",
   "metadata": {},
   "outputs": [
    {
     "name": "stdout",
     "output_type": "stream",
     "text": [
      "Please enter your name: choc\n",
      "Please enter a number: 5\n",
      " \n",
      "choc\n",
      "choc\n",
      "choc\n",
      "choc\n",
      "choc\n"
     ]
    }
   ],
   "source": [
    "nan()"
   ]
  },
  {
   "cell_type": "code",
   "execution_count": 4,
   "id": "576de64a",
   "metadata": {
    "scrolled": true
   },
   "outputs": [
    {
     "name": "stdout",
     "output_type": "stream",
     "text": [
      "Please enter your name: choc\n",
      "Please enter a number: 10\n",
      " \n",
      "Too high\n",
      "Too high\n",
      "Too high\n"
     ]
    }
   ],
   "source": [
    "nan()"
   ]
  },
  {
   "cell_type": "markdown",
   "id": "f2ec4ff8",
   "metadata": {},
   "source": [
    "# <center>For Loop</center>"
   ]
  },
  {
   "cell_type": "code",
   "execution_count": 5,
   "id": "af00008a",
   "metadata": {},
   "outputs": [],
   "source": [
    "def nan_1():\n",
    "    name = str(input(\"Please enter your name: \"))\n",
    "    \n",
    "    #initialize the num variable\n",
    "    num = 0\n",
    "    \n",
    "    while num < 1:\n",
    "        integer = input(\"Please enter a number: \")\n",
    "        print(' ')\n",
    "        try:\n",
    "            num = int(integer)\n",
    "        except ValueError:\n",
    "            print(\"Invalid input, please enter an integer\")\n",
    "            print(' ')\n",
    "            continue\n",
    "        if num < 1:\n",
    "            print(\"Number must be 1 or higher\")\n",
    "            print(' ')\n",
    "            \n",
    "    if (num < 10):\n",
    "        for i in range(0, num):\n",
    "            print(name)\n",
    "    else:\n",
    "        for i in range(0, 3):\n",
    "            print(\"Too high\")"
   ]
  },
  {
   "cell_type": "code",
   "execution_count": 6,
   "id": "3528487a",
   "metadata": {
    "scrolled": true
   },
   "outputs": [
    {
     "name": "stdout",
     "output_type": "stream",
     "text": [
      "Please enter your name: choc\n",
      "Please enter a number: 0\n",
      " \n",
      "Number must be 1 or higher\n",
      " \n",
      "Please enter a number: 1\n",
      " \n",
      "choc\n"
     ]
    }
   ],
   "source": [
    "nan_1()"
   ]
  },
  {
   "cell_type": "code",
   "execution_count": 7,
   "id": "b92d7189",
   "metadata": {},
   "outputs": [
    {
     "name": "stdout",
     "output_type": "stream",
     "text": [
      "Please enter your name: choc\n",
      "Please enter a number: 5\n",
      " \n",
      "choc\n",
      "choc\n",
      "choc\n",
      "choc\n",
      "choc\n"
     ]
    }
   ],
   "source": [
    "nan_1()"
   ]
  },
  {
   "cell_type": "code",
   "execution_count": 8,
   "id": "9bbe27a3",
   "metadata": {
    "scrolled": true
   },
   "outputs": [
    {
     "name": "stdout",
     "output_type": "stream",
     "text": [
      "Please enter your name: choc\n",
      "Please enter a number: 10\n",
      " \n",
      "Too high\n",
      "Too high\n",
      "Too high\n"
     ]
    }
   ],
   "source": [
    "nan_1()"
   ]
  },
  {
   "cell_type": "markdown",
   "id": "5a2e54e1",
   "metadata": {},
   "source": [
    "## OR"
   ]
  },
  {
   "cell_type": "code",
   "execution_count": 9,
   "id": "454c257c",
   "metadata": {},
   "outputs": [],
   "source": [
    "def nan_2():\n",
    "    name = str(input(\"Please enter your name: \"))\n",
    "    \n",
    "    #initialize the num variable\n",
    "    num = 0\n",
    "    \n",
    "    while num < 1:\n",
    "        integer = input(\"Please enter a number: \")\n",
    "        print(' ')\n",
    "        try:\n",
    "            num = int(integer)\n",
    "        except ValueError:\n",
    "            print(\"Invalid input, please enter an integer\")\n",
    "            print(' ')\n",
    "            continue\n",
    "        if num < 1:\n",
    "            print(\"Number must be 1 or higher\")\n",
    "            print(' ')\n",
    "            \n",
    "    if (num < 10):\n",
    "        for i in range(num):\n",
    "            print(name)\n",
    "    else:\n",
    "        for i in range(3):\n",
    "            print(\"Too high\")"
   ]
  },
  {
   "cell_type": "code",
   "execution_count": 10,
   "id": "6d106bee",
   "metadata": {},
   "outputs": [
    {
     "name": "stdout",
     "output_type": "stream",
     "text": [
      "Please enter your name: choc\n",
      "Please enter a number: 0\n",
      " \n",
      "Number must be 1 or higher\n",
      " \n",
      "Please enter a number: 1\n",
      " \n",
      "choc\n"
     ]
    }
   ],
   "source": [
    "nan_2()"
   ]
  },
  {
   "cell_type": "code",
   "execution_count": 11,
   "id": "ff458589",
   "metadata": {},
   "outputs": [
    {
     "name": "stdout",
     "output_type": "stream",
     "text": [
      "Please enter your name: choc\n",
      "Please enter a number: 5\n",
      " \n",
      "choc\n",
      "choc\n",
      "choc\n",
      "choc\n",
      "choc\n"
     ]
    }
   ],
   "source": [
    "nan_2()"
   ]
  },
  {
   "cell_type": "code",
   "execution_count": 12,
   "id": "600f3750",
   "metadata": {},
   "outputs": [
    {
     "name": "stdout",
     "output_type": "stream",
     "text": [
      "Please enter your name: choc\n",
      "Please enter a number: 10\n",
      " \n",
      "Too high\n",
      "Too high\n",
      "Too high\n"
     ]
    }
   ],
   "source": [
    "nan_2()"
   ]
  }
 ],
 "metadata": {
  "kernelspec": {
   "display_name": "Python 3 (ipykernel)",
   "language": "python",
   "name": "python3"
  },
  "language_info": {
   "codemirror_mode": {
    "name": "ipython",
    "version": 3
   },
   "file_extension": ".py",
   "mimetype": "text/x-python",
   "name": "python",
   "nbconvert_exporter": "python",
   "pygments_lexer": "ipython3",
   "version": "3.8.16"
  }
 },
 "nbformat": 4,
 "nbformat_minor": 5
}
