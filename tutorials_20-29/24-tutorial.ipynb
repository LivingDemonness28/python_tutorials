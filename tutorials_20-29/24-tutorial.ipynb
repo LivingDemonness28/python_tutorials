{
 "cells": [
  {
   "cell_type": "markdown",
   "id": "9f712f89",
   "metadata": {},
   "source": [
    "# <center>While Loop</center>"
   ]
  },
  {
   "cell_type": "code",
   "execution_count": 1,
   "id": "11dacddf",
   "metadata": {},
   "outputs": [],
   "source": [
    "def party():\n",
    "    num = 0\n",
    "    while 1 > num:\n",
    "        num1 = input(\"How many people would you like to invite: \")\n",
    "        print(' ')\n",
    "        try:\n",
    "            num = int(num1)\n",
    "        except ValueError:\n",
    "            print(\"Invalid input, please enter an integer\")\n",
    "            print(' ')\n",
    "            continue\n",
    "        if 1 > num:\n",
    "            print(\"Number must be 1 or higher\")\n",
    "            print(' ')\n",
    "    if (num < 10):\n",
    "        i = 1\n",
    "        while(i <= num):\n",
    "            name = str(input(\"Enter the name of your guest: \")).strip().lower()\n",
    "            name = name.capitalize()\n",
    "            print(\"\\033[1m\" + name + \" has been invited\" + \"\\033[0m\")\n",
    "            print(' ')\n",
    "            i += 1\n",
    "    else:\n",
    "        print(\"\\033[1m\" + \"Too many people\" + \"\\033[0m\")"
   ]
  },
  {
   "cell_type": "code",
   "execution_count": 2,
   "id": "5f69b8f4",
   "metadata": {},
   "outputs": [
    {
     "name": "stdout",
     "output_type": "stream",
     "text": [
      "How many people would you like to invite: 85\n",
      " \n",
      "\u001b[1mToo many people\u001b[0m\n"
     ]
    }
   ],
   "source": [
    "party()"
   ]
  },
  {
   "cell_type": "code",
   "execution_count": 3,
   "id": "61fa321e",
   "metadata": {
    "scrolled": false
   },
   "outputs": [
    {
     "name": "stdout",
     "output_type": "stream",
     "text": [
      "How many people would you like to invite: 9\n",
      " \n",
      "Enter the name of your guest: Olivia\n",
      "\u001b[1mOlivia has been invited\u001b[0m\n",
      " \n",
      "Enter the name of your guest: Ruby\n",
      "\u001b[1mRuby has been invited\u001b[0m\n",
      " \n",
      "Enter the name of your guest: Emily\n",
      "\u001b[1mEmily has been invited\u001b[0m\n",
      " \n",
      "Enter the name of your guest: Grace\n",
      "\u001b[1mGrace has been invited\u001b[0m\n",
      " \n",
      "Enter the name of your guest: Jessica\n",
      "\u001b[1mJessica has been invited\u001b[0m\n",
      " \n",
      "Enter the name of your guest: Chloe\n",
      "\u001b[1mChloe has been invited\u001b[0m\n",
      " \n",
      "Enter the name of your guest: Sophie\n",
      "\u001b[1mSophie has been invited\u001b[0m\n",
      " \n",
      "Enter the name of your guest: Lily\n",
      "\u001b[1mLily has been invited\u001b[0m\n",
      " \n",
      "Enter the name of your guest: Amelia\n",
      "\u001b[1mAmelia has been invited\u001b[0m\n",
      " \n"
     ]
    }
   ],
   "source": [
    "party()"
   ]
  },
  {
   "cell_type": "markdown",
   "id": "a9ff384e",
   "metadata": {},
   "source": [
    "# <center>For Loop</center>"
   ]
  },
  {
   "cell_type": "code",
   "execution_count": 4,
   "id": "dd2ec058",
   "metadata": {},
   "outputs": [],
   "source": [
    "def party_1():\n",
    "    num = 0\n",
    "    while 1 > num:\n",
    "        num1 = input(\"How many people would you like to invite: \")\n",
    "        print(' ')\n",
    "        try:\n",
    "            num = int(num1)\n",
    "        except ValueError:\n",
    "            print(\"Invalid input, please enter an integer\")\n",
    "            print(' ')\n",
    "            continue\n",
    "        if 1 > num:\n",
    "            print(\"Number must be 1 or higher\")\n",
    "            print(' ')\n",
    "    if (num < 10):\n",
    "        num = num + 1\n",
    "        for i in range(1, num):\n",
    "            name = str(input(\"Enter the name of your guest: \")).strip().lower()\n",
    "            name = name.capitalize()\n",
    "            print(\"\\033[1m\" + name + \" has been invited\" + \"\\033[0m\")\n",
    "            print(' ')\n",
    "            i += 1\n",
    "    else:\n",
    "        print(\"\\033[1m\" + \"Too many people\" + \"\\033[0m\")"
   ]
  },
  {
   "cell_type": "code",
   "execution_count": 5,
   "id": "04070904",
   "metadata": {},
   "outputs": [
    {
     "name": "stdout",
     "output_type": "stream",
     "text": [
      "How many people would you like to invite: 85\n",
      " \n",
      "\u001b[1mToo many people\u001b[0m\n"
     ]
    }
   ],
   "source": [
    "party_1()"
   ]
  },
  {
   "cell_type": "code",
   "execution_count": 6,
   "id": "507d349d",
   "metadata": {},
   "outputs": [
    {
     "name": "stdout",
     "output_type": "stream",
     "text": [
      "How many people would you like to invite: 9\n",
      " \n",
      "Enter the name of your guest: Olivia\n",
      "\u001b[1mOlivia has been invited\u001b[0m\n",
      " \n",
      "Enter the name of your guest: Ruby\n",
      "\u001b[1mRuby has been invited\u001b[0m\n",
      " \n",
      "Enter the name of your guest: Emily\n",
      "\u001b[1mEmily has been invited\u001b[0m\n",
      " \n",
      "Enter the name of your guest: Grace\n",
      "\u001b[1mGrace has been invited\u001b[0m\n",
      " \n",
      "Enter the name of your guest: Jessica\n",
      "\u001b[1mJessica has been invited\u001b[0m\n",
      " \n",
      "Enter the name of your guest: Chloe\n",
      "\u001b[1mChloe has been invited\u001b[0m\n",
      " \n",
      "Enter the name of your guest: Sophie\n",
      "\u001b[1mSophie has been invited\u001b[0m\n",
      " \n",
      "Enter the name of your guest: Lily\n",
      "\u001b[1mLily has been invited\u001b[0m\n",
      " \n",
      "Enter the name of your guest: Amelia\n",
      "\u001b[1mAmelia has been invited\u001b[0m\n",
      " \n"
     ]
    }
   ],
   "source": [
    "party_1()"
   ]
  },
  {
   "cell_type": "markdown",
   "id": "6cd6eb5d",
   "metadata": {},
   "source": [
    "## OR"
   ]
  },
  {
   "cell_type": "code",
   "execution_count": 7,
   "id": "1adec1a3",
   "metadata": {},
   "outputs": [],
   "source": [
    "def party_2():\n",
    "    num = 0\n",
    "    while 1 > num:\n",
    "        num1 = input(\"How many people would you like to invite: \")\n",
    "        print(' ')\n",
    "        try:\n",
    "            num = int(num1)\n",
    "        except ValueError:\n",
    "            print(\"Invalid input, please enter an integer\")\n",
    "            print(' ')\n",
    "            continue\n",
    "        if 1 > num:\n",
    "            print(\"Number must be 1 or higher\")\n",
    "            print(' ')\n",
    "    if (num < 10):\n",
    "        num = num + 1\n",
    "        for i in range(num):\n",
    "            name = str(input(\"Enter the name of your guest: \")).strip().lower()\n",
    "            name = name.capitalize()\n",
    "            print(\"\\033[1m\" + name + \" has been invited\" + \"\\033[0m\")\n",
    "            print(' ')\n",
    "            i += 1\n",
    "    else:\n",
    "        print(\"\\033[1m\" + \"Too many people\" + \"\\033[0m\")"
   ]
  },
  {
   "cell_type": "code",
   "execution_count": 8,
   "id": "2a5400c5",
   "metadata": {},
   "outputs": [
    {
     "name": "stdout",
     "output_type": "stream",
     "text": [
      "How many people would you like to invite: 85\n",
      " \n",
      "\u001b[1mToo many people\u001b[0m\n"
     ]
    }
   ],
   "source": [
    "party_2()"
   ]
  },
  {
   "cell_type": "code",
   "execution_count": 9,
   "id": "6903493f",
   "metadata": {},
   "outputs": [
    {
     "name": "stdout",
     "output_type": "stream",
     "text": [
      "How many people would you like to invite: 9\n",
      " \n",
      "Enter the name of your guest: Olivia\n",
      "\u001b[1mOlivia has been invited\u001b[0m\n",
      " \n",
      "Enter the name of your guest: Ruby\n",
      "\u001b[1mRuby has been invited\u001b[0m\n",
      " \n",
      "Enter the name of your guest: Emily\n",
      "\u001b[1mEmily has been invited\u001b[0m\n",
      " \n",
      "Enter the name of your guest: Grace\n",
      "\u001b[1mGrace has been invited\u001b[0m\n",
      " \n",
      "Enter the name of your guest: Jessica\n",
      "\u001b[1mJessica has been invited\u001b[0m\n",
      " \n",
      "Enter the name of your guest: Chloe\n",
      "\u001b[1mChloe has been invited\u001b[0m\n",
      " \n",
      "Enter the name of your guest: Sophie\n",
      "\u001b[1mSophie has been invited\u001b[0m\n",
      " \n",
      "Enter the name of your guest: Lily\n",
      "\u001b[1mLily has been invited\u001b[0m\n",
      " \n",
      "Enter the name of your guest: Amelia\n",
      "\u001b[1mAmelia has been invited\u001b[0m\n",
      " \n"
     ]
    }
   ],
   "source": [
    "party_1()"
   ]
  }
 ],
 "metadata": {
  "kernelspec": {
   "display_name": "Python 3 (ipykernel)",
   "language": "python",
   "name": "python3"
  },
  "language_info": {
   "codemirror_mode": {
    "name": "ipython",
    "version": 3
   },
   "file_extension": ".py",
   "mimetype": "text/x-python",
   "name": "python",
   "nbconvert_exporter": "python",
   "pygments_lexer": "ipython3",
   "version": "3.8.16"
  }
 },
 "nbformat": 4,
 "nbformat_minor": 5
}
