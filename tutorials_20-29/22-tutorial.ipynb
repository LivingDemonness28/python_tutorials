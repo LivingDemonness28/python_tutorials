{
 "cells": [
  {
   "cell_type": "markdown",
   "id": "b1643d88",
   "metadata": {},
   "source": [
    "# <center>While Loop</center>"
   ]
  },
  {
   "cell_type": "code",
   "execution_count": 1,
   "id": "26199fcc",
   "metadata": {},
   "outputs": [],
   "source": [
    "def total():\n",
    "    total = 0\n",
    "    i = 1\n",
    "    while (i <= 5):\n",
    "        num = float(input(\"Please enter a number: \"))\n",
    "        dec = \"\"\n",
    "        while dec not in [\"y\", \"n\"]:\n",
    "            dec = str(input(\"Would you like to add number total (y/n): \")).strip().lower()\n",
    "            print(' ')\n",
    "        if (dec == \"y\"):\n",
    "            total = total + num\n",
    "        i += 1\n",
    "    print(\"The total is {}\".format(total))"
   ]
  },
  {
   "cell_type": "code",
   "execution_count": 2,
   "id": "d284229d",
   "metadata": {
    "scrolled": false
   },
   "outputs": [
    {
     "name": "stdout",
     "output_type": "stream",
     "text": [
      "Please enter a number: 5\n",
      "Would you like to add number total (y/n): y\n",
      " \n",
      "Please enter a number: 5\n",
      "Would you like to add number total (y/n): y\n",
      " \n",
      "Please enter a number: 5\n",
      "Would you like to add number total (y/n): n\n",
      " \n",
      "Please enter a number: 5\n",
      "Would you like to add number total (y/n): n\n",
      " \n",
      "Please enter a number: 5\n",
      "Would you like to add number total (y/n): n\n",
      " \n",
      "The total is 10.0\n"
     ]
    }
   ],
   "source": [
    "total()"
   ]
  },
  {
   "cell_type": "markdown",
   "id": "dcba36be",
   "metadata": {},
   "source": [
    "# <center>For Loop</center>"
   ]
  },
  {
   "cell_type": "code",
   "execution_count": 3,
   "id": "784e9978",
   "metadata": {},
   "outputs": [],
   "source": [
    "def total_1():\n",
    "    total = 0\n",
    "    for i in range(0,5):\n",
    "        num = float(input(\"Please enter a number: \"))\n",
    "        dec = \"\"\n",
    "        while dec not in [\"y\", \"n\"]:\n",
    "            dec = str(input(\"Would you like to add number total (y/n): \")).strip().lower()\n",
    "            print(' ')\n",
    "        if (dec == \"y\"):\n",
    "            total = total + num\n",
    "    print(\"The total is {}\".format(total))"
   ]
  },
  {
   "cell_type": "code",
   "execution_count": 5,
   "id": "1008bf83",
   "metadata": {},
   "outputs": [
    {
     "name": "stdout",
     "output_type": "stream",
     "text": [
      "Please enter a number: 5\n",
      "Would you like to add number total (y/n): y\n",
      " \n",
      "Please enter a number: 5\n",
      "Would you like to add number total (y/n): y\n",
      " \n",
      "Please enter a number: 5\n",
      "Would you like to add number total (y/n): n\n",
      " \n",
      "Please enter a number: 5\n",
      "Would you like to add number total (y/n): n\n",
      " \n",
      "Please enter a number: 5\n",
      "Would you like to add number total (y/n): n\n",
      " \n",
      "The total is 10.0\n"
     ]
    }
   ],
   "source": [
    "total_1()"
   ]
  },
  {
   "cell_type": "markdown",
   "id": "63a736e8",
   "metadata": {},
   "source": [
    "## OR"
   ]
  },
  {
   "cell_type": "code",
   "execution_count": 6,
   "id": "bcb73aef",
   "metadata": {},
   "outputs": [],
   "source": [
    "def total_2():\n",
    "    total = 0\n",
    "    for i in range(5):\n",
    "        num = float(input(\"Please enter a number: \"))\n",
    "        dec = \"\"\n",
    "        while dec not in [\"y\", \"n\"]:\n",
    "            dec = str(input(\"Would you like to add number total (y/n): \")).strip().lower()\n",
    "            print(' ')\n",
    "        if (dec == \"y\"):\n",
    "            total = total + num\n",
    "    print(\"The total is {}\".format(total))"
   ]
  },
  {
   "cell_type": "code",
   "execution_count": 7,
   "id": "d9e01aa1",
   "metadata": {},
   "outputs": [
    {
     "name": "stdout",
     "output_type": "stream",
     "text": [
      "Please enter a number: 5\n",
      "Would you like to add number total (y/n): y\n",
      " \n",
      "Please enter a number: 5\n",
      "Would you like to add number total (y/n): y\n",
      " \n",
      "Please enter a number: 5\n",
      "Would you like to add number total (y/n): n\n",
      " \n",
      "Please enter a number: 5\n",
      "Would you like to add number total (y/n): n\n",
      " \n",
      "Please enter a number: 5\n",
      "Would you like to add number total (y/n): n\n",
      " \n",
      "The total is 10.0\n"
     ]
    }
   ],
   "source": [
    "total_2()"
   ]
  }
 ],
 "metadata": {
  "kernelspec": {
   "display_name": "Python 3 (ipykernel)",
   "language": "python",
   "name": "python3"
  },
  "language_info": {
   "codemirror_mode": {
    "name": "ipython",
    "version": 3
   },
   "file_extension": ".py",
   "mimetype": "text/x-python",
   "name": "python",
   "nbconvert_exporter": "python",
   "pygments_lexer": "ipython3",
   "version": "3.8.16"
  }
 },
 "nbformat": 4,
 "nbformat_minor": 5
}
