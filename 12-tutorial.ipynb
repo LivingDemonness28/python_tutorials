{
 "cells": [
  {
   "cell_type": "code",
   "execution_count": 1,
   "id": "4819d4e9",
   "metadata": {},
   "outputs": [],
   "source": [
    "def age():\n",
    "    #initialize the variable\n",
    "    num = 0\n",
    "    \n",
    "    #Use the while loop to prompt user to enter a number if\n",
    "    #a string is entered or if integer is less than 1 prompt\n",
    "    #user to enter a number 1 or higher\n",
    "    #break loop only when 1 or higher is entered\n",
    "    while num < 1:\n",
    "        #prompt user for their age\n",
    "        age = input(\"Please enter your age: \")\n",
    "        try:\n",
    "            #ensures that the value stays strictly an integer\n",
    "            num = int(age)\n",
    "        except ValueError:\n",
    "            print(\"Invalid input, please enter an integer\")\n",
    "            print(' ')\n",
    "            continue\n",
    "        if num < 1:\n",
    "            print(\"Number must be 1 or higher\")\n",
    "            print(' ')\n",
    "    if(18 <= num):\n",
    "        print(\"You can vote\")\n",
    "    elif(num == 17):\n",
    "        print(\"You can learn to drive\")\n",
    "    elif(num == 16):\n",
    "        print(\"You can buy a lottery ticket\")\n",
    "    else:\n",
    "        print(\"You can go Trick-or-Treating\")"
   ]
  },
  {
   "cell_type": "code",
   "execution_count": 2,
   "id": "cad6a54e",
   "metadata": {},
   "outputs": [
    {
     "name": "stdout",
     "output_type": "stream",
     "text": [
      "Please enter your age: 25\n",
      "You can vote\n"
     ]
    }
   ],
   "source": [
    "age()"
   ]
  },
  {
   "cell_type": "code",
   "execution_count": 3,
   "id": "91fb327c",
   "metadata": {},
   "outputs": [
    {
     "name": "stdout",
     "output_type": "stream",
     "text": [
      "Please enter your age: 18\n",
      "You can vote\n"
     ]
    }
   ],
   "source": [
    "age()"
   ]
  },
  {
   "cell_type": "code",
   "execution_count": 4,
   "id": "700e7427",
   "metadata": {},
   "outputs": [
    {
     "name": "stdout",
     "output_type": "stream",
     "text": [
      "Please enter your age: 17\n",
      "You can learn to drive\n"
     ]
    }
   ],
   "source": [
    "age()"
   ]
  },
  {
   "cell_type": "code",
   "execution_count": 5,
   "id": "d49cbdea",
   "metadata": {},
   "outputs": [
    {
     "name": "stdout",
     "output_type": "stream",
     "text": [
      "Please enter your age: 16\n",
      "You can buy a lottery ticket\n"
     ]
    }
   ],
   "source": [
    "age()"
   ]
  },
  {
   "cell_type": "code",
   "execution_count": 6,
   "id": "ae5c1d22",
   "metadata": {},
   "outputs": [
    {
     "name": "stdout",
     "output_type": "stream",
     "text": [
      "Please enter your age: 15\n",
      "You can go Trick-or-Treating\n"
     ]
    }
   ],
   "source": [
    "age()"
   ]
  },
  {
   "cell_type": "code",
   "execution_count": 7,
   "id": "e78239fa",
   "metadata": {},
   "outputs": [
    {
     "name": "stdout",
     "output_type": "stream",
     "text": [
      "Please enter your age: m\n",
      "Invalid input, please enter an integer\n",
      " \n",
      "Please enter your age: 10\n",
      "You can go Trick-or-Treating\n"
     ]
    }
   ],
   "source": [
    "age()"
   ]
  },
  {
   "cell_type": "code",
   "execution_count": 8,
   "id": "20ec61c6",
   "metadata": {},
   "outputs": [
    {
     "name": "stdout",
     "output_type": "stream",
     "text": [
      "Please enter your age: 0\n",
      "Number must be 1 or higher\n",
      " \n",
      "Please enter your age: 1\n",
      "You can go Trick-or-Treating\n"
     ]
    }
   ],
   "source": [
    "age()"
   ]
  },
  {
   "cell_type": "code",
   "execution_count": 9,
   "id": "6d130be7",
   "metadata": {},
   "outputs": [
    {
     "name": "stdout",
     "output_type": "stream",
     "text": [
      "Please enter your age: 3.3\n",
      "Invalid input, please enter an integer\n",
      " \n",
      "Please enter your age: 3\n",
      "You can go Trick-or-Treating\n"
     ]
    }
   ],
   "source": [
    "age()"
   ]
  }
 ],
 "metadata": {
  "kernelspec": {
   "display_name": "Python 3 (ipykernel)",
   "language": "python",
   "name": "python3"
  },
  "language_info": {
   "codemirror_mode": {
    "name": "ipython",
    "version": 3
   },
   "file_extension": ".py",
   "mimetype": "text/x-python",
   "name": "python",
   "nbconvert_exporter": "python",
   "pygments_lexer": "ipython3",
   "version": "3.8.16"
  }
 },
 "nbformat": 4,
 "nbformat_minor": 5
}
