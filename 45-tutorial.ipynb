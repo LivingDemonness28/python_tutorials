{
 "cells": [
  {
   "cell_type": "code",
   "execution_count": 1,
   "id": "195ff55b",
   "metadata": {},
   "outputs": [],
   "source": [
    "def words():\n",
    "    #import important libraries\n",
    "    import numpy as np\n",
    "    \n",
    "    #initialize empty array\n",
    "    words_array = []\n",
    "    \n",
    "    while True:\n",
    "        words = input(\"Please enter a word(Press Enter to exit): \").strip().lower()\n",
    "        \n",
    "        if words == \"\":\n",
    "            break\n",
    "        \n",
    "        #add word to the array\n",
    "        words_array.append(words)\n",
    "    \n",
    "    print(' ')\n",
    "    \n",
    "    #get the array without repetition\n",
    "    words_array = np.unique(words_array)\n",
    "    \n",
    "    i = 0\n",
    "    \n",
    "    print(\"The list of words entered in alphabetical order: \")\n",
    "    while i < len(words_array):\n",
    "        print(words_array[i])\n",
    "        i += 1"
   ]
  },
  {
   "cell_type": "code",
   "execution_count": 2,
   "id": "41c7fbc9",
   "metadata": {},
   "outputs": [
    {
     "name": "stdout",
     "output_type": "stream",
     "text": [
      "Please enter a word(Press Enter to exit): strawberry\n",
      "Please enter a word(Press Enter to exit): pear\n",
      "Please enter a word(Press Enter to exit): peach\n",
      "Please enter a word(Press Enter to exit): chocolate\n",
      "Please enter a word(Press Enter to exit): blueberry\n",
      "Please enter a word(Press Enter to exit): blueberry\n",
      "Please enter a word(Press Enter to exit): banana\n",
      "Please enter a word(Press Enter to exit): grape\n",
      "Please enter a word(Press Enter to exit): grape\n",
      "Please enter a word(Press Enter to exit): apricot\n",
      "Please enter a word(Press Enter to exit): dragonfruit\n",
      "Please enter a word(Press Enter to exit): dragonfruit\n",
      "Please enter a word(Press Enter to exit): \n",
      " \n",
      "The list of words entered in alphabetical order: \n",
      "apricot\n",
      "banana\n",
      "blueberry\n",
      "chocolate\n",
      "dragonfruit\n",
      "grape\n",
      "peach\n",
      "pear\n",
      "strawberry\n"
     ]
    }
   ],
   "source": [
    "words()"
   ]
  }
 ],
 "metadata": {
  "kernelspec": {
   "display_name": "Python 3 (ipykernel)",
   "language": "python",
   "name": "python3"
  },
  "language_info": {
   "codemirror_mode": {
    "name": "ipython",
    "version": 3
   },
   "file_extension": ".py",
   "mimetype": "text/x-python",
   "name": "python",
   "nbconvert_exporter": "python",
   "pygments_lexer": "ipython3",
   "version": "3.8.16"
  }
 },
 "nbformat": 4,
 "nbformat_minor": 5
}
