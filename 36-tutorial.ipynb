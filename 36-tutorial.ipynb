{
 "cells": [
  {
   "cell_type": "code",
   "execution_count": 1,
   "id": "36cb4878",
   "metadata": {},
   "outputs": [],
   "source": [
    "def no_vowel():\n",
    "    string = str(input(\"Please enter a word or sentence: \"))\n",
    "    print(' ')\n",
    "    string = string.replace('a', '').replace('e', '').replace('i', '').replace('o', '').replace('u', '')\n",
    "    print(\"The word or sentence with no vowels is: \" + string)"
   ]
  },
  {
   "cell_type": "code",
   "execution_count": 2,
   "id": "443dce03",
   "metadata": {},
   "outputs": [
    {
     "name": "stdout",
     "output_type": "stream",
     "text": [
      "Please enter a word or sentence: LivingDemoness28\n",
      " \n",
      "The word or sentence with no vowels is: LvngDmnss28\n"
     ]
    }
   ],
   "source": [
    "no_vowel()"
   ]
  },
  {
   "cell_type": "code",
   "execution_count": 3,
   "id": "bccb814c",
   "metadata": {},
   "outputs": [
    {
     "name": "stdout",
     "output_type": "stream",
     "text": [
      "Please enter a word or sentence: aeiou\n",
      " \n",
      "The word or sentence with no vowels is: \n"
     ]
    }
   ],
   "source": [
    "no_vowel()"
   ]
  },
  {
   "cell_type": "code",
   "execution_count": 4,
   "id": "292327d4",
   "metadata": {},
   "outputs": [
    {
     "name": "stdout",
     "output_type": "stream",
     "text": [
      "Please enter a word or sentence: abcdefghijklmnopqrstuvwxyz\n",
      " \n",
      "The word or sentence with no vowels is: bcdfghjklmnpqrstvwxyz\n"
     ]
    }
   ],
   "source": [
    "no_vowel()"
   ]
  },
  {
   "cell_type": "code",
   "execution_count": 5,
   "id": "3b6b7649",
   "metadata": {},
   "outputs": [
    {
     "name": "stdout",
     "output_type": "stream",
     "text": [
      "Please enter a word or sentence: chocolate\n",
      " \n",
      "The word or sentence with no vowels is: chclt\n"
     ]
    }
   ],
   "source": [
    "no_vowel()"
   ]
  }
 ],
 "metadata": {
  "kernelspec": {
   "display_name": "Python 3 (ipykernel)",
   "language": "python",
   "name": "python3"
  },
  "language_info": {
   "codemirror_mode": {
    "name": "ipython",
    "version": 3
   },
   "file_extension": ".py",
   "mimetype": "text/x-python",
   "name": "python",
   "nbconvert_exporter": "python",
   "pygments_lexer": "ipython3",
   "version": "3.8.16"
  }
 },
 "nbformat": 4,
 "nbformat_minor": 5
}
