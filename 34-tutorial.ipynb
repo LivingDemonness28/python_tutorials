{
 "cells": [
  {
   "cell_type": "markdown",
   "id": "4d048507",
   "metadata": {},
   "source": [
    "# Simplified Version"
   ]
  },
  {
   "cell_type": "code",
   "execution_count": 1,
   "id": "a9590f0e",
   "metadata": {},
   "outputs": [],
   "source": [
    "def dnb():\n",
    "    decimal_number = int(input(\"Input number: \"))\n",
    "    binary_number = bin(decimal_number)[2:]\n",
    "    print(binary_number)"
   ]
  },
  {
   "cell_type": "code",
   "execution_count": 2,
   "id": "e8de7ff3",
   "metadata": {},
   "outputs": [
    {
     "name": "stdout",
     "output_type": "stream",
     "text": [
      "Input number: 2\n",
      "10\n"
     ]
    }
   ],
   "source": [
    "dnb()"
   ]
  },
  {
   "cell_type": "code",
   "execution_count": 3,
   "id": "4e672d4f",
   "metadata": {},
   "outputs": [
    {
     "name": "stdout",
     "output_type": "stream",
     "text": [
      "Input number: -2\n",
      "b10\n"
     ]
    }
   ],
   "source": [
    " dnb()"
   ]
  },
  {
   "cell_type": "code",
   "execution_count": 4,
   "id": "5301d1ea",
   "metadata": {},
   "outputs": [
    {
     "name": "stdout",
     "output_type": "stream",
     "text": [
      "Input number: 10\n",
      "1010\n"
     ]
    }
   ],
   "source": [
    "dnb()"
   ]
  },
  {
   "cell_type": "code",
   "execution_count": 5,
   "id": "de38c6f0",
   "metadata": {},
   "outputs": [
    {
     "name": "stdout",
     "output_type": "stream",
     "text": [
      "Input number: -10\n",
      "b1010\n"
     ]
    }
   ],
   "source": [
    "dnb()"
   ]
  },
  {
   "cell_type": "markdown",
   "id": "071a4cb2",
   "metadata": {},
   "source": [
    " "
   ]
  },
  {
   "cell_type": "markdown",
   "id": "6ec6943c",
   "metadata": {},
   "source": [
    "# Modified Version\n",
    "\n",
    "We can represent negative numbers in several ways. The simplest is to simply use the leftmost digit of the number as a special value to represent the sign of the number: 0 = positive, 1 = negative. For example, a value of <strong>positive</strong> <em>12</em> (decimal) would be written as <strong>0</strong>1100 in binary, but <strong>negative</strong> <em>12</em> (decimal) would be written as <strong>1</strong>1100. Notice that in this system, it is important to show the leading 0 (to indicate a positive value).\n",
    "\n",
    "For technical reasons, a different scheme, called \"two's complement\" is more often used for representing negative numbers. In this system, a positive 12 is still 01100, but -12 would be written as 10100. Notice that there is nothing instrinsically correct about one system over another. Either 11100 or 10100 can be used to represent -12, it just depends on what system of interpretation is used. That is, a human programmer chooses the meaning of the bits.\n",
    "\n",
    "For more information: https://cs.calvin.edu/activities/books/rit/chapter5/negative.htm#:~:text=Negative%20Numbers&text=The%20simplest%20is%20to%20simply,would%20be%20written%20as%2011100."
   ]
  },
  {
   "cell_type": "code",
   "execution_count": 6,
   "id": "234f82a8",
   "metadata": {},
   "outputs": [],
   "source": [
    "def dnb_1():\n",
    "    num = int(input(\"Please enter a number: \"))\n",
    "    print(' ')\n",
    "    bin_num = bin(num)[2:]\n",
    "    bin_num = str(bin_num)\n",
    "    \n",
    "    if (bin_num[0] == 'b'):\n",
    "        num = (-1)*num\n",
    "        bin_num = bin(num)[2:]\n",
    "        print(\"The the generalised binary number for {} is: \".format(num) + bin_num)\n",
    "        print(' ')\n",
    "        \n",
    "        #bold the leading 0\n",
    "        zero = \"\\033[1m\" + '0' + \"\\033[0m\"\n",
    "        bin_num = zero + bin_num\n",
    "        print('This binary number for negative {} is: '.format(num) + bin_num)\n",
    "    else:\n",
    "        print(\"The the generalised binary number for {} is: \".format(num) + bin_num)\n",
    "        print(' ')\n",
    "        \n",
    "        #bold the leading 1\n",
    "        one = \"\\033[1m\" + '1' + \"\\033[0m\"\n",
    "        bin_num = one + bin_num\n",
    "        print('This binary number for positive {} is: '.format(num) + bin_num)"
   ]
  },
  {
   "cell_type": "code",
   "execution_count": 7,
   "id": "a1023b1c",
   "metadata": {},
   "outputs": [
    {
     "name": "stdout",
     "output_type": "stream",
     "text": [
      "Please enter a number: 2\n",
      " \n",
      "The the generalised binary number for 2 is: 10\n",
      " \n",
      "This binary number for positive 2 is: \u001b[1m1\u001b[0m10\n"
     ]
    }
   ],
   "source": [
    "dnb_1()"
   ]
  },
  {
   "cell_type": "code",
   "execution_count": 8,
   "id": "6f74e254",
   "metadata": {},
   "outputs": [
    {
     "name": "stdout",
     "output_type": "stream",
     "text": [
      "Please enter a number: -2\n",
      " \n",
      "The the generalised binary number for 2 is: 10\n",
      " \n",
      "This binary number for negative 2 is: \u001b[1m0\u001b[0m10\n"
     ]
    }
   ],
   "source": [
    "dnb_1()"
   ]
  },
  {
   "cell_type": "code",
   "execution_count": 9,
   "id": "b2d7bc1c",
   "metadata": {},
   "outputs": [
    {
     "name": "stdout",
     "output_type": "stream",
     "text": [
      "Please enter a number: 10\n",
      " \n",
      "The the generalised binary number for 10 is: 1010\n",
      " \n",
      "This binary number for positive 10 is: \u001b[1m1\u001b[0m1010\n"
     ]
    }
   ],
   "source": [
    "dnb_1()"
   ]
  },
  {
   "cell_type": "code",
   "execution_count": 10,
   "id": "18562ea5",
   "metadata": {},
   "outputs": [
    {
     "name": "stdout",
     "output_type": "stream",
     "text": [
      "Please enter a number: -10\n",
      " \n",
      "The the generalised binary number for 10 is: 1010\n",
      " \n",
      "This binary number for negative 10 is: \u001b[1m0\u001b[0m1010\n"
     ]
    }
   ],
   "source": [
    "dnb_1()"
   ]
  }
 ],
 "metadata": {
  "kernelspec": {
   "display_name": "Python 3 (ipykernel)",
   "language": "python",
   "name": "python3"
  },
  "language_info": {
   "codemirror_mode": {
    "name": "ipython",
    "version": 3
   },
   "file_extension": ".py",
   "mimetype": "text/x-python",
   "name": "python",
   "nbconvert_exporter": "python",
   "pygments_lexer": "ipython3",
   "version": "3.8.16"
  }
 },
 "nbformat": 4,
 "nbformat_minor": 5
}
