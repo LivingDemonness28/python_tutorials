{
 "cells": [
  {
   "cell_type": "code",
   "execution_count": 1,
   "id": "e4eebb9a",
   "metadata": {},
   "outputs": [],
   "source": [
    "def store_num():\n",
    "    num_store = []\n",
    "    while True:\n",
    "        num = float(input(\"Please enter a number: \"))\n",
    "        \n",
    "        if (num != 0):\n",
    "            num_store.append(num)\n",
    "        else:\n",
    "            break\n",
    "    print(' ')\n",
    "    print ('The original array is: ')\n",
    "    print(num_store)\n",
    "    print(' ')\n",
    "    print('The sorted array is: ')\n",
    "    print(sorted(num_store))"
   ]
  },
  {
   "cell_type": "code",
   "execution_count": 2,
   "id": "e06cbb10",
   "metadata": {},
   "outputs": [
    {
     "name": "stdout",
     "output_type": "stream",
     "text": [
      "Please enter a number: 85\n",
      "Please enter a number: 4656\n",
      "Please enter a number: 212\n",
      "Please enter a number: 155\n",
      "Please enter a number: 1236\n",
      "Please enter a number: 356\n",
      "Please enter a number: 487\n",
      "Please enter a number: 587\n",
      "Please enter a number: 652\n",
      "Please enter a number: 799\n",
      "Please enter a number: 8746\n",
      "Please enter a number: 988\n",
      "Please enter a number: 1\n",
      "Please enter a number: 9\n",
      "Please enter a number: 2\n",
      "Please enter a number: 8\n",
      "Please enter a number: 3\n",
      "Please enter a number: 7\n",
      "Please enter a number: 6\n",
      "Please enter a number: 4\n",
      "Please enter a number: 5\n",
      "Please enter a number: 0\n",
      " \n",
      "The original array is: \n",
      "[85.0, 4656.0, 212.0, 155.0, 1236.0, 356.0, 487.0, 587.0, 652.0, 799.0, 8746.0, 988.0, 1.0, 9.0, 2.0, 8.0, 3.0, 7.0, 6.0, 4.0, 5.0]\n",
      " \n",
      "The sorted array is: \n",
      "[1.0, 2.0, 3.0, 4.0, 5.0, 6.0, 7.0, 8.0, 9.0, 85.0, 155.0, 212.0, 356.0, 487.0, 587.0, 652.0, 799.0, 988.0, 1236.0, 4656.0, 8746.0]\n"
     ]
    }
   ],
   "source": [
    "store_num()"
   ]
  }
 ],
 "metadata": {
  "kernelspec": {
   "display_name": "Python 3 (ipykernel)",
   "language": "python",
   "name": "python3"
  },
  "language_info": {
   "codemirror_mode": {
    "name": "ipython",
    "version": 3
   },
   "file_extension": ".py",
   "mimetype": "text/x-python",
   "name": "python",
   "nbconvert_exporter": "python",
   "pygments_lexer": "ipython3",
   "version": "3.8.16"
  }
 },
 "nbformat": 4,
 "nbformat_minor": 5
}
