{
 "cells": [
  {
   "cell_type": "code",
   "execution_count": 1,
   "id": "e4eebb9a",
   "metadata": {},
   "outputs": [],
   "source": [
    "def store_num():\n",
    "    num_store = []\n",
    "    while True:\n",
    "        num = float(input(\"Please enter a number: \"))\n",
    "        \n",
    "        if (num != 0):\n",
    "            num_store.append(num)\n",
    "        else:\n",
    "            break\n",
    "    print(' ')\n",
    "    \n",
    "    i = 0\n",
    "    #get the array in ascending order\n",
    "    num_store = sorted(num_store)\n",
    "    \n",
    "    print(\"The numbers in ascending order are:\")\n",
    "    while i < len(num_store):\n",
    "        print(num_store[i])\n",
    "        i += 1"
   ]
  },
  {
   "cell_type": "code",
   "execution_count": 2,
   "id": "e06cbb10",
   "metadata": {},
   "outputs": [
    {
     "name": "stdout",
     "output_type": "stream",
     "text": [
      "Please enter a number: 1\n",
      "Please enter a number: 9\n",
      "Please enter a number: 2\n",
      "Please enter a number: 8\n",
      "Please enter a number: 3\n",
      "Please enter a number: 7\n",
      "Please enter a number: 4\n",
      "Please enter a number: 6\n",
      "Please enter a number: 5\n",
      "Please enter a number: 0\n",
      " \n",
      "The numbers in ascending order are:\n",
      "1.0\n",
      "2.0\n",
      "3.0\n",
      "4.0\n",
      "5.0\n",
      "6.0\n",
      "7.0\n",
      "8.0\n",
      "9.0\n"
     ]
    }
   ],
   "source": [
    "store_num()"
   ]
  }
 ],
 "metadata": {
  "kernelspec": {
   "display_name": "Python 3 (ipykernel)",
   "language": "python",
   "name": "python3"
  },
  "language_info": {
   "codemirror_mode": {
    "name": "ipython",
    "version": 3
   },
   "file_extension": ".py",
   "mimetype": "text/x-python",
   "name": "python",
   "nbconvert_exporter": "python",
   "pygments_lexer": "ipython3",
   "version": "3.8.16"
  }
 },
 "nbformat": 4,
 "nbformat_minor": 5
}
