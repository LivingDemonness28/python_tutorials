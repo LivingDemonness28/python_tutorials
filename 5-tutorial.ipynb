{
 "cells": [
  {
   "cell_type": "code",
   "execution_count": 3,
   "id": "7438ed3f",
   "metadata": {},
   "outputs": [],
   "source": [
    "#Compound interest function prompting user for number of years\n",
    "def compound1():\n",
    "    t = int(input(\"Please enter number of years: \"))\n",
    "    \n",
    "    A = 10000*((1+(0.08/12))**(12*t))\n",
    "    A = round(A, 2)\n",
    "    print(\"The final amount is\", A)"
   ]
  },
  {
   "cell_type": "code",
   "execution_count": 5,
   "id": "9d6bae24",
   "metadata": {},
   "outputs": [
    {
     "name": "stdout",
     "output_type": "stream",
     "text": [
      "Please enter number of years: 12\n",
      "The final amount is 26033.89\n"
     ]
    }
   ],
   "source": [
    "compound1()"
   ]
  },
  {
   "cell_type": "code",
   "execution_count": 6,
   "id": "02f33863",
   "metadata": {},
   "outputs": [],
   "source": [
    "#\n",
    "def compound():\n",
    "    P = float(input(\"Please enter an initial amount: \"))\n",
    "    r = float(input(\"Please enter your rate as a decimal: \"))\n",
    "    n = int(input(\"Please enter the number of times interest is compounded per year: \"))\n",
    "    t = int(input(\"Please enter number of years: \"))\n",
    "    \n",
    "    A = P*((1+(r/n))**(n*t))\n",
    "    A = round(A, 2)\n",
    "    print(\"The final amount is\", A)"
   ]
  },
  {
   "cell_type": "code",
   "execution_count": 7,
   "id": "803d3ce8",
   "metadata": {},
   "outputs": [
    {
     "name": "stdout",
     "output_type": "stream",
     "text": [
      "Please enter an initial amount: 10000\n",
      "Please enter your rate as a decimal: 0.08\n",
      "Please enter the number of times interest is compounded per year: 12\n",
      "Please enter number of years: 12\n",
      "The final amount is 26033.89\n"
     ]
    }
   ],
   "source": [
    "compound()"
   ]
  }
 ],
 "metadata": {
  "kernelspec": {
   "display_name": "Python 3 (ipykernel)",
   "language": "python",
   "name": "python3"
  },
  "language_info": {
   "codemirror_mode": {
    "name": "ipython",
    "version": 3
   },
   "file_extension": ".py",
   "mimetype": "text/x-python",
   "name": "python",
   "nbconvert_exporter": "python",
   "pygments_lexer": "ipython3",
   "version": "3.8.16"
  }
 },
 "nbformat": 4,
 "nbformat_minor": 5
}
