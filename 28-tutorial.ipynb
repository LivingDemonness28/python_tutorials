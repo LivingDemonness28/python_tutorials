{
 "cells": [
  {
   "cell_type": "markdown",
   "id": "87db2c4d",
   "metadata": {},
   "source": [
    "# Simplified Version"
   ]
  },
  {
   "cell_type": "code",
   "execution_count": 1,
   "id": "01a97d76",
   "metadata": {},
   "outputs": [],
   "source": [
    "def nursery():\n",
    "    #input the nursery rhyme\n",
    "    nursery = str(input(\"Please enter your nusery rhyme: \"))\n",
    "    print(' ')\n",
    "    \n",
    "    #length of nursery rhyme with spaces included\n",
    "    length = len(nursery)\n",
    "    length_0 = \"\\033[1m\" + \"The length of the nursery rhyme is {}.\".format(length) + \"\\033[0m\"\n",
    "    print(length_0)\n",
    "    print(' ')\n",
    "    \n",
    "    #The start number\n",
    "    start_num = int(input(\"Please enter a start number: \"))\n",
    "    print(' ')\n",
    "    \n",
    "    #The end number\n",
    "    end_num = int(input(\"Please enter an end number: \"))\n",
    "    print(' ')\n",
    "    \n",
    "    #print the selected part of the nursery rhyme\n",
    "    wanted = \"\"\n",
    "    while start_num <= end_num:\n",
    "        wanted = wanted + nursery[start_num]\n",
    "        start_num += 1\n",
    "    \n",
    "    wanted = \"\\033[1m\" + wanted + \"\\033[0m\"\n",
    "    print(\"The selected string is: \" + wanted)"
   ]
  },
  {
   "cell_type": "code",
   "execution_count": 2,
   "id": "5ca781ec",
   "metadata": {
    "scrolled": true
   },
   "outputs": [
    {
     "name": "stdout",
     "output_type": "stream",
     "text": [
      "Please enter your nusery rhyme: Humpty Dumpty sat on a wall, Humpty Dumpty had a great fall. All the king's horses and all the king's men couldn't put Humpty together again.\n",
      " \n",
      "\u001b[1mThe length of the nursery rhyme is 141.\u001b[0m\n",
      " \n",
      "Please enter a start number: 0\n",
      " \n",
      "Please enter an end number: 5\n",
      " \n",
      "The selected string is: \u001b[1mHumpty\u001b[0m\n"
     ]
    }
   ],
   "source": [
    "nursery()"
   ]
  },
  {
   "cell_type": "code",
   "execution_count": 5,
   "id": "1ed13167",
   "metadata": {},
   "outputs": [],
   "source": [
    "def nursery_1():\n",
    "    #input the nursery rhyme\n",
    "    nursery = str(input(\"Please enter your nusery rhyme: \"))\n",
    "    print(' ')\n",
    "    \n",
    "    #length of nursery rhyme with spaces included\n",
    "    length = len(nursery)\n",
    "    length_0 = \"\\033[1m\" + \"The length of the nursery rhyme is {}.\".format(length) + \"\\033[0m\"\n",
    "    print(length_0)\n",
    "    print(' ')\n",
    "    \n",
    "    #starting number\n",
    "    start_num = -1\n",
    "    \n",
    "    while length <= start_num or start_num < 0:\n",
    "        start_num_1 = input(\"Please enter a start number: \")\n",
    "        print(' ')\n",
    "        try:\n",
    "            start_num = int(start_num_1)\n",
    "        except ValueError:\n",
    "            print(\"Invalid input, please enter an integer\")\n",
    "            print(' ')\n",
    "            continue\n",
    "        if start_num < 0:\n",
    "            print(\"Number must be greater than 0\")\n",
    "            print(' ')\n",
    "        else:\n",
    "            print(\"Number must be less than the length\")\n",
    "            print(' ')\n",
    "    \n",
    "    #end number\n",
    "    end_num = length\n",
    "    \n",
    "    while length <= end_num or end_num <= start_num:\n",
    "        end_num_1 = input(\"Please enter an end number: \")\n",
    "        print(' ')\n",
    "        try:\n",
    "            end_num = int(end_num_1)\n",
    "        except ValueError:\n",
    "            print(\"Invalid input, please enter an integer\")\n",
    "            print(' ')\n",
    "            continue\n",
    "        if length <= end_num or end_num <= start_num:\n",
    "            print(\"Number must be greater than the start number\")\n",
    "            print(' ')\n",
    "        else:\n",
    "            print(\"Number must be lower than the length\")\n",
    "            print(' ')\n",
    "    \n",
    "    #print the selected part of the nursery rhyme\n",
    "    wanted = \"\"\n",
    "    while start_num <= end_num:\n",
    "        wanted = wanted + nursery[start_num]\n",
    "        start_num += 1\n",
    "    \n",
    "    wanted = \"\\033[1m\" + wanted + \"\\033[0m\"\n",
    "    print(\"The selected string is: \" + wanted)"
   ]
  },
  {
   "cell_type": "code",
   "execution_count": 6,
   "id": "a40554a1",
   "metadata": {},
   "outputs": [
    {
     "name": "stdout",
     "output_type": "stream",
     "text": [
      "Please enter your nusery rhyme: Humpty Dumpty sat on a wall, Humpty Dumpty had a great fall. All the king's horses and all the king's men couldn't put Humpty together again.\n",
      " \n",
      "\u001b[1mThe length of the nursery rhyme is 141.\u001b[0m\n",
      " \n",
      "Please enter a start number: 0\n",
      " \n",
      "Number must be less than the length\n",
      " \n",
      "Please enter an end number: 5\n",
      " \n",
      "Number must be lower than the length\n",
      " \n",
      "The selected string is: \u001b[1mHumpty\u001b[0m\n"
     ]
    }
   ],
   "source": [
    "nursery_1()"
   ]
  }
 ],
 "metadata": {
  "kernelspec": {
   "display_name": "Python 3 (ipykernel)",
   "language": "python",
   "name": "python3"
  },
  "language_info": {
   "codemirror_mode": {
    "name": "ipython",
    "version": 3
   },
   "file_extension": ".py",
   "mimetype": "text/x-python",
   "name": "python",
   "nbconvert_exporter": "python",
   "pygments_lexer": "ipython3",
   "version": "3.8.16"
  }
 },
 "nbformat": 4,
 "nbformat_minor": 5
}
