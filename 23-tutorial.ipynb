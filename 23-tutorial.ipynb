{
 "cells": [
  {
   "cell_type": "markdown",
   "id": "77e61eca",
   "metadata": {},
   "source": [
    "# <center>While Loop</center>"
   ]
  },
  {
   "cell_type": "markdown",
   "id": "dd6bd2e9",
   "metadata": {},
   "source": [
    "### Simplied version"
   ]
  },
  {
   "cell_type": "code",
   "execution_count": 1,
   "id": "eaa57739",
   "metadata": {},
   "outputs": [],
   "source": [
    "def und():\n",
    "    count = \"\"\n",
    "    while count not in [\"down\", \"up\"]:\n",
    "        count = str(input(\"Would you like to count up or down (up/down): \")).strip().lower()\n",
    "    if (count == \"up\"):\n",
    "        num = int(input(\"Please enter a number higher than 1: \"))\n",
    "        \n",
    "        #initialize the i variable\n",
    "        i = 1\n",
    "        while (i <= num):\n",
    "            print(i)\n",
    "            i += 1\n",
    "    else:\n",
    "        num1 = int(input(\"Please enter a number lower than 20: \"))\n",
    "        \n",
    "        i = 20\n",
    "        while (i >= num1):\n",
    "            print(i)\n",
    "            i -= 1"
   ]
  },
  {
   "cell_type": "code",
   "execution_count": 2,
   "id": "cab0b24a",
   "metadata": {},
   "outputs": [
    {
     "name": "stdout",
     "output_type": "stream",
     "text": [
      "Would you like to count up or down (up/down): up\n",
      "Please enter a number higher than 1: 10\n",
      "1\n",
      "2\n",
      "3\n",
      "4\n",
      "5\n",
      "6\n",
      "7\n",
      "8\n",
      "9\n",
      "10\n"
     ]
    }
   ],
   "source": [
    "und()"
   ]
  },
  {
   "cell_type": "code",
   "execution_count": 3,
   "id": "b14df8d4",
   "metadata": {},
   "outputs": [
    {
     "name": "stdout",
     "output_type": "stream",
     "text": [
      "Would you like to count up or down (up/down): down\n",
      "Please enter a number lower than 20: 10\n",
      "20\n",
      "19\n",
      "18\n",
      "17\n",
      "16\n",
      "15\n",
      "14\n",
      "13\n",
      "12\n",
      "11\n",
      "10\n"
     ]
    }
   ],
   "source": [
    "und()"
   ]
  },
  {
   "cell_type": "code",
   "execution_count": 4,
   "id": "06ee9e1d",
   "metadata": {},
   "outputs": [
    {
     "name": "stdout",
     "output_type": "stream",
     "text": [
      "Would you like to count up or down (up/down): uo\n",
      "Would you like to count up or down (up/down): up\n",
      "Please enter a number higher than 1: 10\n",
      "1\n",
      "2\n",
      "3\n",
      "4\n",
      "5\n",
      "6\n",
      "7\n",
      "8\n",
      "9\n",
      "10\n"
     ]
    }
   ],
   "source": [
    "und()"
   ]
  },
  {
   "cell_type": "code",
   "execution_count": 5,
   "id": "a2a6cccb",
   "metadata": {
    "scrolled": true
   },
   "outputs": [
    {
     "name": "stdout",
     "output_type": "stream",
     "text": [
      "Would you like to count up or down (up/down): dowm\n",
      "Would you like to count up or down (up/down): down\n",
      "Please enter a number lower than 20: 10\n",
      "20\n",
      "19\n",
      "18\n",
      "17\n",
      "16\n",
      "15\n",
      "14\n",
      "13\n",
      "12\n",
      "11\n",
      "10\n"
     ]
    }
   ],
   "source": [
    "und()"
   ]
  },
  {
   "cell_type": "markdown",
   "id": "43999170",
   "metadata": {},
   "source": [
    "### Loop version"
   ]
  },
  {
   "cell_type": "code",
   "execution_count": 6,
   "id": "b25b0ff5",
   "metadata": {},
   "outputs": [],
   "source": [
    "def und_loop():\n",
    "    count = \"\"\n",
    "    while count not in [\"down\", \"up\"]:\n",
    "        count = str(input(\"Would you like to count up or down (up/down): \")).strip().lower()\n",
    "        print(' ')\n",
    "    if (count == \"up\"):\n",
    "        num = 0\n",
    "        \n",
    "        while 1 >= num:\n",
    "            integer = input(\"Please enter a number higher than 1: \")\n",
    "            print(' ')\n",
    "            try:\n",
    "                num = int(integer)\n",
    "            except ValueError:\n",
    "                print(\"Invalid input, please enter an integer\")\n",
    "                print(' ')\n",
    "                continue\n",
    "            if 1 >= num:\n",
    "                print(\"Number must be higher than 1\")\n",
    "                print(' ')\n",
    "        \n",
    "        i = 1\n",
    "        while (i <= num):\n",
    "            print(i)\n",
    "            i += 1\n",
    "    else:\n",
    "        num1 = 20\n",
    "        \n",
    "        while num1 >= 20:\n",
    "            integer1 = input(\"Please enter a number lower than 20: \")\n",
    "            print(' ')\n",
    "            try:\n",
    "                num1=int(integer1)\n",
    "            except ValueError:\n",
    "                print(\"Invalid input, please enter an integer\")\n",
    "                print(' ')\n",
    "                continue\n",
    "            if num1 >= 20:\n",
    "                print(\"Number must be lower than 20\")\n",
    "                print(' ')\n",
    "        i = 20\n",
    "        while (i >= num1):\n",
    "            print(i)\n",
    "            i -= 1"
   ]
  },
  {
   "cell_type": "code",
   "execution_count": 7,
   "id": "3c45ddcd",
   "metadata": {},
   "outputs": [
    {
     "name": "stdout",
     "output_type": "stream",
     "text": [
      "Would you like to count up or down (up/down): up\n",
      " \n",
      "Please enter a number higher than 1: -10\n",
      " \n",
      "Number must be higher than 1\n",
      " \n",
      "Please enter a number higher than 1: 10\n",
      " \n",
      "1\n",
      "2\n",
      "3\n",
      "4\n",
      "5\n",
      "6\n",
      "7\n",
      "8\n",
      "9\n",
      "10\n"
     ]
    }
   ],
   "source": [
    "und_loop()"
   ]
  },
  {
   "cell_type": "code",
   "execution_count": 8,
   "id": "675849d0",
   "metadata": {},
   "outputs": [
    {
     "name": "stdout",
     "output_type": "stream",
     "text": [
      "Would you like to count up or down (up/down): down\n",
      " \n",
      "Please enter a number lower than 20: 30\n",
      " \n",
      "Number must be lower than 20\n",
      " \n",
      "Please enter a number lower than 20: 10\n",
      " \n",
      "20\n",
      "19\n",
      "18\n",
      "17\n",
      "16\n",
      "15\n",
      "14\n",
      "13\n",
      "12\n",
      "11\n",
      "10\n"
     ]
    }
   ],
   "source": [
    "und_loop()"
   ]
  },
  {
   "cell_type": "code",
   "execution_count": 9,
   "id": "dffde68f",
   "metadata": {},
   "outputs": [
    {
     "name": "stdout",
     "output_type": "stream",
     "text": [
      "Would you like to count up or down (up/down): uo\n",
      " \n",
      "Would you like to count up or down (up/down): up\n",
      " \n",
      "Please enter a number higher than 1: 10\n",
      " \n",
      "1\n",
      "2\n",
      "3\n",
      "4\n",
      "5\n",
      "6\n",
      "7\n",
      "8\n",
      "9\n",
      "10\n"
     ]
    }
   ],
   "source": [
    "und_loop()"
   ]
  },
  {
   "cell_type": "code",
   "execution_count": 10,
   "id": "934418e2",
   "metadata": {},
   "outputs": [
    {
     "name": "stdout",
     "output_type": "stream",
     "text": [
      "Would you like to count up or down (up/down): dowm\n",
      " \n",
      "Would you like to count up or down (up/down): down\n",
      " \n",
      "Please enter a number lower than 20: 10\n",
      " \n",
      "20\n",
      "19\n",
      "18\n",
      "17\n",
      "16\n",
      "15\n",
      "14\n",
      "13\n",
      "12\n",
      "11\n",
      "10\n"
     ]
    }
   ],
   "source": [
    "und_loop()"
   ]
  },
  {
   "cell_type": "markdown",
   "id": "48899a96",
   "metadata": {},
   "source": [
    "# <center>For Loop</center>"
   ]
  },
  {
   "cell_type": "markdown",
   "id": "7117188f",
   "metadata": {},
   "source": [
    "### Simplied version"
   ]
  },
  {
   "cell_type": "code",
   "execution_count": 11,
   "id": "4fab78d7",
   "metadata": {},
   "outputs": [],
   "source": [
    "def und_1():\n",
    "    count = \"\"\n",
    "    while count not in [\"down\", \"up\"]:\n",
    "        count = str(input(\"Would you like to count up or down (up/down): \")).strip().lower()\n",
    "    if (count == \"up\"):\n",
    "        num = int(input(\"Please enter a number higher than 1: \"))\n",
    "        \n",
    "        num = num + 1\n",
    "        for i in range(1, num):\n",
    "            print(i)\n",
    "    else:\n",
    "        num1 = int(input(\"Please enter a number lower than 20: \"))\n",
    "        \n",
    "        num1 = num1 - 1\n",
    "        for i in range(20, num1, -1):\n",
    "            print(i)"
   ]
  },
  {
   "cell_type": "code",
   "execution_count": 12,
   "id": "480c468d",
   "metadata": {},
   "outputs": [
    {
     "name": "stdout",
     "output_type": "stream",
     "text": [
      "Would you like to count up or down (up/down): up\n",
      "Please enter a number higher than 1: 10\n",
      "1\n",
      "2\n",
      "3\n",
      "4\n",
      "5\n",
      "6\n",
      "7\n",
      "8\n",
      "9\n",
      "10\n"
     ]
    }
   ],
   "source": [
    "und_1()"
   ]
  },
  {
   "cell_type": "code",
   "execution_count": 13,
   "id": "92c9bf63",
   "metadata": {},
   "outputs": [
    {
     "name": "stdout",
     "output_type": "stream",
     "text": [
      "Would you like to count up or down (up/down): down\n",
      "Please enter a number lower than 20: 10\n",
      "20\n",
      "19\n",
      "18\n",
      "17\n",
      "16\n",
      "15\n",
      "14\n",
      "13\n",
      "12\n",
      "11\n",
      "10\n"
     ]
    }
   ],
   "source": [
    "und_1()"
   ]
  },
  {
   "cell_type": "code",
   "execution_count": 14,
   "id": "d9e7f6fb",
   "metadata": {},
   "outputs": [
    {
     "name": "stdout",
     "output_type": "stream",
     "text": [
      "Would you like to count up or down (up/down): uo\n",
      "Would you like to count up or down (up/down): up\n",
      "Please enter a number higher than 1: 10\n",
      "1\n",
      "2\n",
      "3\n",
      "4\n",
      "5\n",
      "6\n",
      "7\n",
      "8\n",
      "9\n",
      "10\n"
     ]
    }
   ],
   "source": [
    "und_1()"
   ]
  },
  {
   "cell_type": "code",
   "execution_count": 15,
   "id": "aa5c1c85",
   "metadata": {},
   "outputs": [
    {
     "name": "stdout",
     "output_type": "stream",
     "text": [
      "Would you like to count up or down (up/down): dowm\n",
      "Would you like to count up or down (up/down): down\n",
      "Please enter a number lower than 20: 10\n",
      "20\n",
      "19\n",
      "18\n",
      "17\n",
      "16\n",
      "15\n",
      "14\n",
      "13\n",
      "12\n",
      "11\n",
      "10\n"
     ]
    }
   ],
   "source": [
    "und_1()"
   ]
  },
  {
   "cell_type": "markdown",
   "id": "95c24771",
   "metadata": {},
   "source": [
    "### Loop version"
   ]
  },
  {
   "cell_type": "code",
   "execution_count": 16,
   "id": "40ddbc1f",
   "metadata": {},
   "outputs": [],
   "source": [
    "def und_loop_1():\n",
    "    count = \"\"\n",
    "    while count not in [\"down\", \"up\"]:\n",
    "        count = str(input(\"Would you like to count up or down (up/down): \")).strip().lower()\n",
    "        print(' ')\n",
    "    if (count == \"up\"):\n",
    "        num = 0\n",
    "        \n",
    "        while 1 >= num:\n",
    "            integer = input(\"Please enter a number higher than 1: \")\n",
    "            print(' ')\n",
    "            try:\n",
    "                num = int(integer)\n",
    "            except ValueError:\n",
    "                print(\"Invalid input, please enter an integer\")\n",
    "                print(' ')\n",
    "                continue\n",
    "            if 1 >= num:\n",
    "                print(\"Number must be higher than 1\")\n",
    "                print(' ')\n",
    "        num = num + 1\n",
    "        for i in range(1, num):\n",
    "            print(i)\n",
    "    else:\n",
    "        num1 = 20\n",
    "        \n",
    "        while num1 >= 20:\n",
    "            integer1 = input(\"Please enter a number lower than 20: \")\n",
    "            print(' ')\n",
    "            try:\n",
    "                num1=int(integer1)\n",
    "            except ValueError:\n",
    "                print(\"Invalid input, please enter an integer\")\n",
    "                print(' ')\n",
    "                continue\n",
    "            if num1 >= 20:\n",
    "                print(\"Number must be lower than 20\")\n",
    "                print(' ')\n",
    "        num1 = num1 - 1\n",
    "        for i in range(20, num1, -1):\n",
    "            print(i)"
   ]
  },
  {
   "cell_type": "code",
   "execution_count": 17,
   "id": "ff8fe5a1",
   "metadata": {},
   "outputs": [
    {
     "name": "stdout",
     "output_type": "stream",
     "text": [
      "Would you like to count up or down (up/down): up\n",
      " \n",
      "Please enter a number higher than 1: -10\n",
      " \n",
      "Number must be higher than 1\n",
      " \n",
      "Please enter a number higher than 1: 10\n",
      " \n",
      "1\n",
      "2\n",
      "3\n",
      "4\n",
      "5\n",
      "6\n",
      "7\n",
      "8\n",
      "9\n",
      "10\n"
     ]
    }
   ],
   "source": [
    "und_loop_1()"
   ]
  },
  {
   "cell_type": "code",
   "execution_count": 18,
   "id": "1f4f25df",
   "metadata": {},
   "outputs": [
    {
     "name": "stdout",
     "output_type": "stream",
     "text": [
      "Would you like to count up or down (up/down): down\n",
      " \n",
      "Please enter a number lower than 20: 30\n",
      " \n",
      "Number must be lower than 20\n",
      " \n",
      "Please enter a number lower than 20: 10\n",
      " \n",
      "20\n",
      "19\n",
      "18\n",
      "17\n",
      "16\n",
      "15\n",
      "14\n",
      "13\n",
      "12\n",
      "11\n",
      "10\n"
     ]
    }
   ],
   "source": [
    "und_loop()"
   ]
  },
  {
   "cell_type": "code",
   "execution_count": 19,
   "id": "ec36d338",
   "metadata": {},
   "outputs": [
    {
     "name": "stdout",
     "output_type": "stream",
     "text": [
      "Would you like to count up or down (up/down): uo\n",
      " \n",
      "Would you like to count up or down (up/down): up\n",
      " \n",
      "Please enter a number higher than 1: 10\n",
      " \n",
      "1\n",
      "2\n",
      "3\n",
      "4\n",
      "5\n",
      "6\n",
      "7\n",
      "8\n",
      "9\n",
      "10\n"
     ]
    }
   ],
   "source": [
    "und_loop()"
   ]
  },
  {
   "cell_type": "code",
   "execution_count": 20,
   "id": "5dbc37ca",
   "metadata": {},
   "outputs": [
    {
     "name": "stdout",
     "output_type": "stream",
     "text": [
      "Would you like to count up or down (up/down): dowm\n",
      " \n",
      "Would you like to count up or down (up/down): down\n",
      " \n",
      "Please enter a number lower than 20: 10\n",
      " \n",
      "20\n",
      "19\n",
      "18\n",
      "17\n",
      "16\n",
      "15\n",
      "14\n",
      "13\n",
      "12\n",
      "11\n",
      "10\n"
     ]
    }
   ],
   "source": [
    "und_loop()"
   ]
  }
 ],
 "metadata": {
  "kernelspec": {
   "display_name": "Python 3 (ipykernel)",
   "language": "python",
   "name": "python3"
  },
  "language_info": {
   "codemirror_mode": {
    "name": "ipython",
    "version": 3
   },
   "file_extension": ".py",
   "mimetype": "text/x-python",
   "name": "python",
   "nbconvert_exporter": "python",
   "pygments_lexer": "ipython3",
   "version": "3.8.16"
  }
 },
 "nbformat": 4,
 "nbformat_minor": 5
}
