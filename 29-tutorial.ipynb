{
 "cells": [
  {
   "cell_type": "code",
   "execution_count": 1,
   "id": "6e4cf713",
   "metadata": {},
   "outputs": [],
   "source": [
    "def up():\n",
    "    word = str(input(\"Please enter a word: \"))\n",
    "    word = word.upper()\n",
    "    print(word)"
   ]
  },
  {
   "cell_type": "code",
   "execution_count": 2,
   "id": "e5f3b37a",
   "metadata": {},
   "outputs": [
    {
     "name": "stdout",
     "output_type": "stream",
     "text": [
      "Please enter a word: LivingDemoness28\n",
      "LIVINGDEMONESS28\n"
     ]
    }
   ],
   "source": [
    "up()"
   ]
  },
  {
   "cell_type": "code",
   "execution_count": 3,
   "id": "0f6f0521",
   "metadata": {},
   "outputs": [
    {
     "name": "stdout",
     "output_type": "stream",
     "text": [
      "Please enter a word: choc\n",
      "CHOC\n"
     ]
    }
   ],
   "source": [
    "up()"
   ]
  }
 ],
 "metadata": {
  "kernelspec": {
   "display_name": "Python 3 (ipykernel)",
   "language": "python",
   "name": "python3"
  },
  "language_info": {
   "codemirror_mode": {
    "name": "ipython",
    "version": 3
   },
   "file_extension": ".py",
   "mimetype": "text/x-python",
   "name": "python",
   "nbconvert_exporter": "python",
   "pygments_lexer": "ipython3",
   "version": "3.8.16"
  }
 },
 "nbformat": 4,
 "nbformat_minor": 5
}
