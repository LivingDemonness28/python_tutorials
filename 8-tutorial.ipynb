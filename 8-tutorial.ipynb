{
 "cells": [
  {
   "cell_type": "markdown",
   "id": "82dbbc04",
   "metadata": {},
   "source": [
    "# 1st way to do it"
   ]
  },
  {
   "cell_type": "code",
   "execution_count": 1,
   "id": "742ab0e6",
   "metadata": {},
   "outputs": [],
   "source": [
    "def twenty(num):\n",
    "    if(num < 20):\n",
    "        print(\"Thank you\")\n",
    "    else:\n",
    "        print(\"Too high\")"
   ]
  },
  {
   "cell_type": "code",
   "execution_count": 2,
   "id": "f48fd7bc",
   "metadata": {},
   "outputs": [
    {
     "name": "stdout",
     "output_type": "stream",
     "text": [
      "Thank you\n"
     ]
    }
   ],
   "source": [
    "twenty(0)"
   ]
  },
  {
   "cell_type": "code",
   "execution_count": 3,
   "id": "0b45bf2c",
   "metadata": {},
   "outputs": [
    {
     "name": "stdout",
     "output_type": "stream",
     "text": [
      "Too high\n"
     ]
    }
   ],
   "source": [
    "twenty(20)"
   ]
  },
  {
   "cell_type": "code",
   "execution_count": 4,
   "id": "4fa47da3",
   "metadata": {},
   "outputs": [
    {
     "name": "stdout",
     "output_type": "stream",
     "text": [
      "Too high\n"
     ]
    }
   ],
   "source": [
    "twenty(21)"
   ]
  },
  {
   "cell_type": "markdown",
   "id": "0aae9231",
   "metadata": {},
   "source": [
    "# 2nd way to do it"
   ]
  },
  {
   "cell_type": "code",
   "execution_count": 5,
   "id": "a902dc4c",
   "metadata": {},
   "outputs": [],
   "source": [
    "def twenty_1():\n",
    "    num = float(input(\"Please enter a number: \"))\n",
    "    if(num < 20):\n",
    "        print(\"Thank you\")\n",
    "    else:\n",
    "        print(\"Too high\")"
   ]
  },
  {
   "cell_type": "code",
   "execution_count": 6,
   "id": "48d2b4d3",
   "metadata": {},
   "outputs": [
    {
     "name": "stdout",
     "output_type": "stream",
     "text": [
      "Please enter a number: 0\n",
      "Thank you\n"
     ]
    }
   ],
   "source": [
    "twenty_1()"
   ]
  },
  {
   "cell_type": "code",
   "execution_count": 7,
   "id": "710b3541",
   "metadata": {},
   "outputs": [
    {
     "name": "stdout",
     "output_type": "stream",
     "text": [
      "Please enter a number: 20\n",
      "Too high\n"
     ]
    }
   ],
   "source": [
    "twenty_1()"
   ]
  },
  {
   "cell_type": "code",
   "execution_count": 8,
   "id": "0f164cae",
   "metadata": {},
   "outputs": [
    {
     "name": "stdout",
     "output_type": "stream",
     "text": [
      "Please enter a number: 21\n",
      "Too high\n"
     ]
    }
   ],
   "source": [
    "twenty_1()"
   ]
  }
 ],
 "metadata": {
  "kernelspec": {
   "display_name": "Python 3 (ipykernel)",
   "language": "python",
   "name": "python3"
  },
  "language_info": {
   "codemirror_mode": {
    "name": "ipython",
    "version": 3
   },
   "file_extension": ".py",
   "mimetype": "text/x-python",
   "name": "python",
   "nbconvert_exporter": "python",
   "pygments_lexer": "ipython3",
   "version": "3.8.16"
  }
 },
 "nbformat": 4,
 "nbformat_minor": 5
}
