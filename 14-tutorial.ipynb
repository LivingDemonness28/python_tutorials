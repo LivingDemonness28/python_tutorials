{
 "cells": [
  {
   "cell_type": "code",
   "execution_count": 1,
   "id": "661d9c4d",
   "metadata": {},
   "outputs": [],
   "source": [
    "def ott():\n",
    "    num = float(input(\"Please enter numbers 1, 2 or 3: \"))\n",
    "    if (num == 1):\n",
    "        print(\"Thank you\")\n",
    "    elif (num == 2):\n",
    "        print(\"Well done\")\n",
    "    elif (num == 3):\n",
    "        print(\"Correct\")\n",
    "    else:\n",
    "        print(\"Error message\")"
   ]
  },
  {
   "cell_type": "code",
   "execution_count": 2,
   "id": "2d74080c",
   "metadata": {},
   "outputs": [
    {
     "name": "stdout",
     "output_type": "stream",
     "text": [
      "Please enter numbers 1, 2 or 3: -3\n",
      "Error message\n"
     ]
    }
   ],
   "source": [
    "ott()"
   ]
  },
  {
   "cell_type": "code",
   "execution_count": 3,
   "id": "b9d50218",
   "metadata": {},
   "outputs": [
    {
     "name": "stdout",
     "output_type": "stream",
     "text": [
      "Please enter numbers 1, 2 or 3: -2\n",
      "Error message\n"
     ]
    }
   ],
   "source": [
    "ott()"
   ]
  },
  {
   "cell_type": "code",
   "execution_count": 4,
   "id": "52669c9c",
   "metadata": {},
   "outputs": [
    {
     "name": "stdout",
     "output_type": "stream",
     "text": [
      "Please enter numbers 1, 2 or 3: -1\n",
      "Error message\n"
     ]
    }
   ],
   "source": [
    "ott()"
   ]
  },
  {
   "cell_type": "code",
   "execution_count": 5,
   "id": "a9180955",
   "metadata": {},
   "outputs": [
    {
     "name": "stdout",
     "output_type": "stream",
     "text": [
      "Please enter numbers 1, 2 or 3: 0\n",
      "Error message\n"
     ]
    }
   ],
   "source": [
    "ott()"
   ]
  },
  {
   "cell_type": "code",
   "execution_count": 6,
   "id": "43565a00",
   "metadata": {},
   "outputs": [
    {
     "name": "stdout",
     "output_type": "stream",
     "text": [
      "Please enter numbers 1, 2 or 3: 1\n",
      "Thank you\n"
     ]
    }
   ],
   "source": [
    "ott()"
   ]
  },
  {
   "cell_type": "code",
   "execution_count": 7,
   "id": "00801f54",
   "metadata": {},
   "outputs": [
    {
     "name": "stdout",
     "output_type": "stream",
     "text": [
      "Please enter numbers 1, 2 or 3: 1.01\n",
      "Error message\n"
     ]
    }
   ],
   "source": [
    "ott()"
   ]
  },
  {
   "cell_type": "code",
   "execution_count": 8,
   "id": "43738022",
   "metadata": {},
   "outputs": [
    {
     "name": "stdout",
     "output_type": "stream",
     "text": [
      "Please enter numbers 1, 2 or 3: 2\n",
      "Well done\n"
     ]
    }
   ],
   "source": [
    "ott()"
   ]
  },
  {
   "cell_type": "code",
   "execution_count": 9,
   "id": "70637833",
   "metadata": {},
   "outputs": [
    {
     "name": "stdout",
     "output_type": "stream",
     "text": [
      "Please enter numbers 1, 2 or 3: 2.02\n",
      "Error message\n"
     ]
    }
   ],
   "source": [
    "ott()"
   ]
  },
  {
   "cell_type": "code",
   "execution_count": 10,
   "id": "30369989",
   "metadata": {},
   "outputs": [
    {
     "name": "stdout",
     "output_type": "stream",
     "text": [
      "Please enter numbers 1, 2 or 3: 3\n",
      "Correct\n"
     ]
    }
   ],
   "source": [
    "ott()"
   ]
  },
  {
   "cell_type": "code",
   "execution_count": 11,
   "id": "66f2b307",
   "metadata": {},
   "outputs": [
    {
     "name": "stdout",
     "output_type": "stream",
     "text": [
      "Please enter numbers 1, 2 or 3: 3.03\n",
      "Error message\n"
     ]
    }
   ],
   "source": [
    "ott()"
   ]
  }
 ],
 "metadata": {
  "kernelspec": {
   "display_name": "Python 3 (ipykernel)",
   "language": "python",
   "name": "python3"
  },
  "language_info": {
   "codemirror_mode": {
    "name": "ipython",
    "version": 3
   },
   "file_extension": ".py",
   "mimetype": "text/x-python",
   "name": "python",
   "nbconvert_exporter": "python",
   "pygments_lexer": "ipython3",
   "version": "3.8.16"
  }
 },
 "nbformat": 4,
 "nbformat_minor": 5
}
