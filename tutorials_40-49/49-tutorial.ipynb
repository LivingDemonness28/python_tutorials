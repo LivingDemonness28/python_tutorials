{
 "cells": [
  {
   "cell_type": "code",
   "execution_count": 1,
   "id": "e79ca640",
   "metadata": {},
   "outputs": [],
   "source": [
    "def average():\n",
    "    num_array = []\n",
    "    below_avg = []\n",
    "    avg_arr = []\n",
    "    above_avg = []\n",
    "    \n",
    "    while True:\n",
    "        num = input(\"Please enter a number(Press enter to exit): \")\n",
    "        \n",
    "        if (num == ''):\n",
    "            break\n",
    "        \n",
    "        #convert string to float\n",
    "        num_1 = float(num)\n",
    "        #add number(float) to list\n",
    "        num_array.append(num_1)\n",
    "        \n",
    "    sum_of_arr = sum(num_array)\n",
    "    average = sum_of_arr/len(num_array)\n",
    "    \n",
    "    j = len(num_array) - 1\n",
    "    i = 0\n",
    "    \n",
    "    while (j >= i):\n",
    "        if (num_array[i] < average):\n",
    "            below_avg.append(num_array[i])\n",
    "        elif (num_array[i] > average):\n",
    "            above_avg.append(num_array[i])\n",
    "        else:\n",
    "            avg_arr.append(num_array[i])\n",
    "        i += 1\n",
    "    \n",
    "    #print the average of the numbers\n",
    "    print(\"\\nThe average of all the number enter is {}\".format(average))\n",
    "    print(' ')\n",
    "    \n",
    "    #print the lists with appropriate headings\n",
    "    if (below_avg != [] and avg_arr != [] and above_avg != []):\n",
    "        print(\"This is the below average list of values: \")\n",
    "        print(below_avg)\n",
    "        print(' ')\n",
    "        print(\"This is the average list of values: \")\n",
    "        print(avg_arr)\n",
    "        print(' ')\n",
    "        print(\"This is the above average list of values: \")\n",
    "        print(above_avg)\n",
    "    elif (below_avg != [] and avg_arr != []):\n",
    "        print(\"This is the below average list of values: \")\n",
    "        print(below_avg)\n",
    "        print(' ')\n",
    "        print(\"This is the average list of values: \")\n",
    "        print(avg_arr)\n",
    "    elif (avg_arr != [] and above_avg != []):\n",
    "        print(\"This is the average list of values: \")\n",
    "        print(avg_arr)\n",
    "        print(' ')\n",
    "        print(\"This is the above average list of values: \")\n",
    "        print(above_avg)\n",
    "    elif (below_avg != [] and above_avg != []):\n",
    "        print(\"This is the below average list of values: \")\n",
    "        print(below_avg)\n",
    "        print(' ')\n",
    "        print(\"This is the above average list of values: \")\n",
    "        print(above_avg)\n",
    "    elif (below_avg != []):\n",
    "        print(\"This is the below average list of values: \")\n",
    "        print(below_avg)\n",
    "    elif (avg_arr != []):\n",
    "        print(\"This is the average list of values: \")\n",
    "        print(avg_arr)\n",
    "    else:\n",
    "        print(\"This is the above average list of values: \")\n",
    "        print(above_avg)"
   ]
  },
  {
   "cell_type": "code",
   "execution_count": 2,
   "id": "64822531",
   "metadata": {},
   "outputs": [
    {
     "name": "stdout",
     "output_type": "stream",
     "text": [
      "Please enter a number(Press enter to exit): 1\n",
      "Please enter a number(Press enter to exit): 2\n",
      "Please enter a number(Press enter to exit): 3\n",
      "Please enter a number(Press enter to exit): 4\n",
      "Please enter a number(Press enter to exit): 5\n",
      "Please enter a number(Press enter to exit): 6\n",
      "Please enter a number(Press enter to exit): 7\n",
      "Please enter a number(Press enter to exit): 8\n",
      "Please enter a number(Press enter to exit): 9\n",
      "Please enter a number(Press enter to exit): \n",
      "\n",
      "The average of all the number enter is 5.0\n",
      " \n",
      "This is the below average list of values: \n",
      "[1.0, 2.0, 3.0, 4.0]\n",
      " \n",
      "This is the average list of values: \n",
      "[5.0]\n",
      " \n",
      "This is the above average list of values: \n",
      "[6.0, 7.0, 8.0, 9.0]\n"
     ]
    }
   ],
   "source": [
    "average()"
   ]
  },
  {
   "cell_type": "code",
   "execution_count": 3,
   "id": "29e0adbe",
   "metadata": {},
   "outputs": [
    {
     "name": "stdout",
     "output_type": "stream",
     "text": [
      "Please enter a number(Press enter to exit): 1\n",
      "Please enter a number(Press enter to exit): 3\n",
      "Please enter a number(Press enter to exit): 5\n",
      "Please enter a number(Press enter to exit): 7\n",
      "Please enter a number(Press enter to exit): 9\n",
      "Please enter a number(Press enter to exit): \n",
      "\n",
      "The average of all the number enter is 5.0\n",
      " \n",
      "This is the below average list of values: \n",
      "[1.0, 3.0]\n",
      " \n",
      "This is the average list of values: \n",
      "[5.0]\n",
      " \n",
      "This is the above average list of values: \n",
      "[7.0, 9.0]\n"
     ]
    }
   ],
   "source": [
    "average()"
   ]
  },
  {
   "cell_type": "code",
   "execution_count": 4,
   "id": "20fcfc32",
   "metadata": {},
   "outputs": [
    {
     "name": "stdout",
     "output_type": "stream",
     "text": [
      "Please enter a number(Press enter to exit): 2\n",
      "Please enter a number(Press enter to exit): 4\n",
      "Please enter a number(Press enter to exit): 6\n",
      "Please enter a number(Press enter to exit): 8\n",
      "Please enter a number(Press enter to exit): 10\n",
      "Please enter a number(Press enter to exit): \n",
      "\n",
      "The average of all the number enter is 6.0\n",
      " \n",
      "This is the below average list of values: \n",
      "[2.0, 4.0]\n",
      " \n",
      "This is the average list of values: \n",
      "[6.0]\n",
      " \n",
      "This is the above average list of values: \n",
      "[8.0, 10.0]\n"
     ]
    }
   ],
   "source": [
    "average()"
   ]
  },
  {
   "cell_type": "code",
   "execution_count": 5,
   "id": "38b1f4b4",
   "metadata": {},
   "outputs": [
    {
     "name": "stdout",
     "output_type": "stream",
     "text": [
      "Please enter a number(Press enter to exit): 28\n",
      "Please enter a number(Press enter to exit): 29\n",
      "Please enter a number(Press enter to exit): \n",
      "\n",
      "The average of all the number enter is 28.5\n",
      " \n",
      "This is the below average list of values: \n",
      "[28.0]\n",
      " \n",
      "This is the above average list of values: \n",
      "[29.0]\n"
     ]
    }
   ],
   "source": [
    "average()"
   ]
  },
  {
   "cell_type": "code",
   "execution_count": 6,
   "id": "bf7749c4",
   "metadata": {},
   "outputs": [
    {
     "name": "stdout",
     "output_type": "stream",
     "text": [
      "Please enter a number(Press enter to exit): 28\n",
      "Please enter a number(Press enter to exit): 456\n",
      "Please enter a number(Press enter to exit): 89\n",
      "Please enter a number(Press enter to exit): 745\n",
      "Please enter a number(Press enter to exit): 155\n",
      "Please enter a number(Press enter to exit): 3654\n",
      "Please enter a number(Press enter to exit): 55\n",
      "Please enter a number(Press enter to exit): 66\n",
      "Please enter a number(Press enter to exit): 88\n",
      "Please enter a number(Press enter to exit): 145\n",
      "Please enter a number(Press enter to exit): 698\n",
      "Please enter a number(Press enter to exit): 5845\n",
      "Please enter a number(Press enter to exit): 66258\n",
      "Please enter a number(Press enter to exit): \n",
      "\n",
      "The average of all the number enter is 6021.692307692308\n",
      " \n",
      "This is the below average list of values: \n",
      "[28.0, 456.0, 89.0, 745.0, 155.0, 3654.0, 55.0, 66.0, 88.0, 145.0, 698.0, 5845.0]\n",
      " \n",
      "This is the above average list of values: \n",
      "[66258.0]\n"
     ]
    }
   ],
   "source": [
    "average()"
   ]
  }
 ],
 "metadata": {
  "kernelspec": {
   "display_name": "Python 3 (ipykernel)",
   "language": "python",
   "name": "python3"
  },
  "language_info": {
   "codemirror_mode": {
    "name": "ipython",
    "version": 3
   },
   "file_extension": ".py",
   "mimetype": "text/x-python",
   "name": "python",
   "nbconvert_exporter": "python",
   "pygments_lexer": "ipython3",
   "version": "3.8.16"
  }
 },
 "nbformat": 4,
 "nbformat_minor": 5
}
