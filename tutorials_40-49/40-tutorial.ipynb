{
 "cells": [
  {
   "cell_type": "code",
   "execution_count": 1,
   "id": "b720a437",
   "metadata": {},
   "outputs": [],
   "source": [
    "def cc():\n",
    "    str1 = input(\"Please input a string: \")\n",
    "    print(\" \")\n",
    "    str2 = input (\"Please input a string: \")\n",
    "    print(\" \")\n",
    "    str3 = input(\"Please input a string: \")\n",
    "    print(\" \")\n",
    "    print(\"The string is: \")\n",
    "    print(str1, str2, str3)"
   ]
  },
  {
   "cell_type": "code",
   "execution_count": 2,
   "id": "ecbd17d0",
   "metadata": {},
   "outputs": [
    {
     "name": "stdout",
     "output_type": "stream",
     "text": [
      "Please input a string: I\n",
      " \n",
      "Please input a string: love\n",
      " \n",
      "Please input a string: you\n",
      " \n",
      "The string is: \n",
      "I love you\n"
     ]
    }
   ],
   "source": [
    "cc()"
   ]
  }
 ],
 "metadata": {
  "kernelspec": {
   "display_name": "Python 3 (ipykernel)",
   "language": "python",
   "name": "python3"
  },
  "language_info": {
   "codemirror_mode": {
    "name": "ipython",
    "version": 3
   },
   "file_extension": ".py",
   "mimetype": "text/x-python",
   "name": "python",
   "nbconvert_exporter": "python",
   "pygments_lexer": "ipython3",
   "version": "3.8.16"
  }
 },
 "nbformat": 4,
 "nbformat_minor": 5
}
