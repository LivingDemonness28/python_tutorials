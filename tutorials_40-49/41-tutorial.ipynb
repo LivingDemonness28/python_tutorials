{
 "cells": [
  {
   "cell_type": "code",
   "execution_count": 1,
   "id": "cafe717e",
   "metadata": {},
   "outputs": [],
   "source": [
    "def strip_characters():\n",
    "    string = input(\"Please input the string: \").strip().lower()\n",
    "    print(\" \")\n",
    "    characters = input(\"Please input the characters: \").strip().lower()\n",
    "    print(\" \")\n",
    "    stripped_string = \"\"\n",
    "    for char in string:\n",
    "        if char not in characters:\n",
    "            stripped_string += char\n",
    "    print(\"This is the stripped string: \")\n",
    "    print(stripped_string)"
   ]
  },
  {
   "cell_type": "code",
   "execution_count": 2,
   "id": "52bc8829",
   "metadata": {
    "scrolled": true
   },
   "outputs": [
    {
     "name": "stdout",
     "output_type": "stream",
     "text": [
      "Please input the string: Hello World\n",
      " \n",
      "Please input the characters: lo\n",
      " \n",
      "This is the stripped string: \n",
      "he wrd\n"
     ]
    }
   ],
   "source": [
    "strip_characters()"
   ]
  },
  {
   "cell_type": "code",
   "execution_count": 3,
   "id": "32f77939",
   "metadata": {},
   "outputs": [
    {
     "name": "stdout",
     "output_type": "stream",
     "text": [
      "Please input the string: LivingDemoness28\n",
      " \n",
      "Please input the characters: e28\n",
      " \n",
      "This is the stripped string: \n",
      "livingdmonss\n"
     ]
    }
   ],
   "source": [
    "strip_characters()"
   ]
  },
  {
   "cell_type": "code",
   "execution_count": 4,
   "id": "a9e95cd5",
   "metadata": {},
   "outputs": [
    {
     "name": "stdout",
     "output_type": "stream",
     "text": [
      "Please input the string: Chocolate\n",
      " \n",
      "Please input the characters: co\n",
      " \n",
      "This is the stripped string: \n",
      "hlate\n"
     ]
    }
   ],
   "source": [
    "strip_characters()"
   ]
  }
 ],
 "metadata": {
  "kernelspec": {
   "display_name": "Python 3 (ipykernel)",
   "language": "python",
   "name": "python3"
  },
  "language_info": {
   "codemirror_mode": {
    "name": "ipython",
    "version": 3
   },
   "file_extension": ".py",
   "mimetype": "text/x-python",
   "name": "python",
   "nbconvert_exporter": "python",
   "pygments_lexer": "ipython3",
   "version": "3.8.16"
  }
 },
 "nbformat": 4,
 "nbformat_minor": 5
}
