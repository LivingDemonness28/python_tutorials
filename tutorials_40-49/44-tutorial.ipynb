{
 "cells": [
  {
   "cell_type": "markdown",
   "id": "d6004b25",
   "metadata": {},
   "source": [
    "# Simple version"
   ]
  },
  {
   "cell_type": "code",
   "execution_count": 1,
   "id": "e4eebb9a",
   "metadata": {},
   "outputs": [],
   "source": [
    "def store_num_desc():\n",
    "    num_store = []\n",
    "    while True:\n",
    "        num = int(input(\"Please enter a number: \"))\n",
    "        \n",
    "        if (num != 0):\n",
    "            num_store.append(num)\n",
    "        else:\n",
    "            break\n",
    "    print(' ')\n",
    "    \n",
    "    i = len(num_store)\n",
    "    i -= 1\n",
    "    #get the array in descending order\n",
    "    num_store = sorted(num_store)\n",
    "    \n",
    "    print(\"The numbers in descending order are:\")\n",
    "    while i >= 0:\n",
    "        print(num_store[i])\n",
    "        i -= 1"
   ]
  },
  {
   "cell_type": "code",
   "execution_count": 2,
   "id": "e06cbb10",
   "metadata": {},
   "outputs": [
    {
     "name": "stdout",
     "output_type": "stream",
     "text": [
      "Please enter a number: 1\n",
      "Please enter a number: 9\n",
      "Please enter a number: 2\n",
      "Please enter a number: 8\n",
      "Please enter a number: 3\n",
      "Please enter a number: 7\n",
      "Please enter a number: 4\n",
      "Please enter a number: 6\n",
      "Please enter a number: 5\n",
      "Please enter a number: 0\n",
      " \n",
      "The numbers in descending order are:\n",
      "9\n",
      "8\n",
      "7\n",
      "6\n",
      "5\n",
      "4\n",
      "3\n",
      "2\n",
      "1\n"
     ]
    }
   ],
   "source": [
    "store_num_desc()"
   ]
  },
  {
   "cell_type": "code",
   "execution_count": 3,
   "id": "edacc49c",
   "metadata": {},
   "outputs": [
    {
     "name": "stdout",
     "output_type": "stream",
     "text": [
      "Please enter a number: 1\n",
      "Please enter a number: 9\n",
      "Please enter a number: 2\n",
      "Please enter a number: 8\n",
      "Please enter a number: 3\n",
      "Please enter a number: 7\n",
      "Please enter a number: 4\n",
      "Please enter a number: 6\n",
      "Please enter a number: 5.5\n"
     ]
    },
    {
     "ename": "ValueError",
     "evalue": "invalid literal for int() with base 10: '5.5'",
     "output_type": "error",
     "traceback": [
      "\u001b[1;31m---------------------------------------------------------------------------\u001b[0m",
      "\u001b[1;31mValueError\u001b[0m                                Traceback (most recent call last)",
      "Cell \u001b[1;32mIn[3], line 1\u001b[0m\n\u001b[1;32m----> 1\u001b[0m \u001b[43mstore_num_desc\u001b[49m\u001b[43m(\u001b[49m\u001b[43m)\u001b[49m\n",
      "Cell \u001b[1;32mIn[1], line 4\u001b[0m, in \u001b[0;36mstore_num_desc\u001b[1;34m()\u001b[0m\n\u001b[0;32m      2\u001b[0m num_store \u001b[38;5;241m=\u001b[39m []\n\u001b[0;32m      3\u001b[0m \u001b[38;5;28;01mwhile\u001b[39;00m \u001b[38;5;28;01mTrue\u001b[39;00m:\n\u001b[1;32m----> 4\u001b[0m     num \u001b[38;5;241m=\u001b[39m \u001b[38;5;28;43mint\u001b[39;49m\u001b[43m(\u001b[49m\u001b[38;5;28;43minput\u001b[39;49m\u001b[43m(\u001b[49m\u001b[38;5;124;43m\"\u001b[39;49m\u001b[38;5;124;43mPlease enter a number: \u001b[39;49m\u001b[38;5;124;43m\"\u001b[39;49m\u001b[43m)\u001b[49m\u001b[43m)\u001b[49m\n\u001b[0;32m      6\u001b[0m     \u001b[38;5;28;01mif\u001b[39;00m (num \u001b[38;5;241m!=\u001b[39m \u001b[38;5;241m0\u001b[39m):\n\u001b[0;32m      7\u001b[0m         num_store\u001b[38;5;241m.\u001b[39mappend(num)\n",
      "\u001b[1;31mValueError\u001b[0m: invalid literal for int() with base 10: '5.5'"
     ]
    }
   ],
   "source": [
    "store_num_desc()"
   ]
  },
  {
   "cell_type": "markdown",
   "id": "00f62cba",
   "metadata": {},
   "source": [
    " "
   ]
  },
  {
   "cell_type": "markdown",
   "id": "baf30c12",
   "metadata": {},
   "source": [
    "# Modified Version"
   ]
  },
  {
   "cell_type": "code",
   "execution_count": 4,
   "id": "c899fead",
   "metadata": {},
   "outputs": [],
   "source": [
    "def store_num_desc_1():\n",
    "    num_store = []\n",
    "    while True:\n",
    "        try:\n",
    "            num = int(input(\"Please enter a number: \"))\n",
    "        \n",
    "            if (num != 0):\n",
    "                num_store.append(num)\n",
    "            else:\n",
    "                break\n",
    "        except ValueError:\n",
    "            print(\"Invalid input. Please enter an integer.\")\n",
    "            print(' ')\n",
    "    \n",
    "    print(' ')\n",
    "    \n",
    "    i = len(num_store)\n",
    "    i -= 1\n",
    "    \n",
    "    #get the array in descending order\n",
    "    num_store = sorted(num_store)\n",
    "    \n",
    "    print(\"The numbers in descending order are:\")\n",
    "    while i >= 0:\n",
    "        print(num_store[i])\n",
    "        i -= 1"
   ]
  },
  {
   "cell_type": "code",
   "execution_count": 5,
   "id": "085c7e78",
   "metadata": {},
   "outputs": [
    {
     "name": "stdout",
     "output_type": "stream",
     "text": [
      "Please enter a number: 1\n",
      "Please enter a number: 9\n",
      "Please enter a number: 2\n",
      "Please enter a number: 8\n",
      "Please enter a number: 3\n",
      "Please enter a number: 7\n",
      "Please enter a number: 4\n",
      "Please enter a number: 6\n",
      "Please enter a number: 5\n",
      "Please enter a number: 0\n",
      " \n",
      "The numbers in descending order are:\n",
      "9\n",
      "8\n",
      "7\n",
      "6\n",
      "5\n",
      "4\n",
      "3\n",
      "2\n",
      "1\n"
     ]
    }
   ],
   "source": [
    "store_num_desc_1()"
   ]
  },
  {
   "cell_type": "code",
   "execution_count": 6,
   "id": "f9084333",
   "metadata": {},
   "outputs": [
    {
     "name": "stdout",
     "output_type": "stream",
     "text": [
      "Please enter a number: 1\n",
      "Please enter a number: 9\n",
      "Please enter a number: 2\n",
      "Please enter a number: 8\n",
      "Please enter a number: 3\n",
      "Please enter a number: 7\n",
      "Please enter a number: 4\n",
      "Please enter a number: 6\n",
      "Please enter a number: 5.1\n",
      "Invalid input. Please enter an integer.\n",
      " \n",
      "Please enter a number: 5.2\n",
      "Invalid input. Please enter an integer.\n",
      " \n",
      "Please enter a number: 5.3\n",
      "Invalid input. Please enter an integer.\n",
      " \n",
      "Please enter a number: 5.4\n",
      "Invalid input. Please enter an integer.\n",
      " \n",
      "Please enter a number: 5.5\n",
      "Invalid input. Please enter an integer.\n",
      " \n",
      "Please enter a number: 5.6\n",
      "Invalid input. Please enter an integer.\n",
      " \n",
      "Please enter a number: 5.7\n",
      "Invalid input. Please enter an integer.\n",
      " \n",
      "Please enter a number: 5.8\n",
      "Invalid input. Please enter an integer.\n",
      " \n",
      "Please enter a number: 5.9\n",
      "Invalid input. Please enter an integer.\n",
      " \n",
      "Please enter a number: 5\n",
      "Please enter a number: 0\n",
      " \n",
      "The numbers in descending order are:\n",
      "9\n",
      "8\n",
      "7\n",
      "6\n",
      "5\n",
      "4\n",
      "3\n",
      "2\n",
      "1\n"
     ]
    }
   ],
   "source": [
    "store_num_desc_1()"
   ]
  }
 ],
 "metadata": {
  "kernelspec": {
   "display_name": "Python 3 (ipykernel)",
   "language": "python",
   "name": "python3"
  },
  "language_info": {
   "codemirror_mode": {
    "name": "ipython",
    "version": 3
   },
   "file_extension": ".py",
   "mimetype": "text/x-python",
   "name": "python",
   "nbconvert_exporter": "python",
   "pygments_lexer": "ipython3",
   "version": "3.8.16"
  }
 },
 "nbformat": 4,
 "nbformat_minor": 5
}
