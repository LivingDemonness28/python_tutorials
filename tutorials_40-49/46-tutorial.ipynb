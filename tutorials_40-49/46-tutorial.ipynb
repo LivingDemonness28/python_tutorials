{
 "cells": [
  {
   "cell_type": "code",
   "execution_count": 1,
   "id": "d4a4a811",
   "metadata": {},
   "outputs": [],
   "source": [
    "def num_stop():\n",
    "    zero = []\n",
    "    positive = []\n",
    "    negative = []\n",
    "    \n",
    "    while True:\n",
    "        num = int(input(\"Please enter a number: \"))\n",
    "        stop = input(\"Please enter stop if you want to stop: \")\n",
    "        \n",
    "        if (num == 0):\n",
    "            zero.append(num)\n",
    "        elif (0 < num):\n",
    "            positive.append(num)\n",
    "        else:\n",
    "            negative.append(num)\n",
    "        \n",
    "        if stop == \"stop\":\n",
    "            break\n",
    "    \n",
    "    if (positive != [] and zero != [] and negative != []):\n",
    "        my_list = negative + zero + positive\n",
    "        my_string = string_representation = ', '.join(str(item) for item in my_list)\n",
    "        print(' ')\n",
    "        print(my_string)\n",
    "    elif (positive != [] and zero != []):\n",
    "        my_list = zero + positive\n",
    "        my_string = string_representation = ', '.join(str(item) for item in my_list)\n",
    "        print(' ')\n",
    "        print(my_string)\n",
    "    elif (negative != [] and zero != []):\n",
    "        my_list = negative + zero\n",
    "        my_string = string_representation = ', '.join(str(item) for item in my_list)\n",
    "        print(' ')\n",
    "        print(my_string)\n",
    "    elif (positive != [] and negative != []):\n",
    "        my_list = negative + positive\n",
    "        my_string = string_representation = ', '.join(str(item) for item in my_list)\n",
    "        print(' ')\n",
    "        print(my_string)\n",
    "    elif (zero != []):\n",
    "        my_string = string_representation = ', '.join(str(item) for item in zero)\n",
    "        print(' ')\n",
    "        print(my_string)\n",
    "    elif (positive != []):\n",
    "        my_string = string_representation = ', '.join(str(item) for item in positive)\n",
    "        print(' ')\n",
    "        print(my_string)\n",
    "    else:\n",
    "        my_string = string_representation = ', '.join(str(item) for item in negative)\n",
    "        print(' ')\n",
    "        print(my_string)"
   ]
  },
  {
   "cell_type": "code",
   "execution_count": 2,
   "id": "e06cbb10",
   "metadata": {
    "scrolled": false
   },
   "outputs": [
    {
     "name": "stdout",
     "output_type": "stream",
     "text": [
      "Please enter a number: 9\n",
      "Please enter stop if you want to stop: \n",
      "Please enter a number: 8\n",
      "Please enter stop if you want to stop: \n",
      "Please enter a number: 7\n",
      "Please enter stop if you want to stop: \n",
      "Please enter a number: 6\n",
      "Please enter stop if you want to stop: \n",
      "Please enter a number: 5\n",
      "Please enter stop if you want to stop: stop\n",
      " \n",
      "9, 8, 7, 6, 5\n"
     ]
    }
   ],
   "source": [
    "num_stop()"
   ]
  },
  {
   "cell_type": "code",
   "execution_count": 3,
   "id": "de3c77c9",
   "metadata": {
    "scrolled": true
   },
   "outputs": [
    {
     "name": "stdout",
     "output_type": "stream",
     "text": [
      "Please enter a number: 0\n",
      "Please enter stop if you want to stop: \n",
      "Please enter a number: 0\n",
      "Please enter stop if you want to stop: \n",
      "Please enter a number: 0\n",
      "Please enter stop if you want to stop: \n",
      "Please enter a number: 0\n",
      "Please enter stop if you want to stop: \n",
      "Please enter a number: 0\n",
      "Please enter stop if you want to stop: stop\n",
      " \n",
      "0, 0, 0, 0, 0\n"
     ]
    }
   ],
   "source": [
    "num_stop()"
   ]
  },
  {
   "cell_type": "code",
   "execution_count": 4,
   "id": "611768d2",
   "metadata": {
    "scrolled": true
   },
   "outputs": [
    {
     "name": "stdout",
     "output_type": "stream",
     "text": [
      "Please enter a number: -1\n",
      "Please enter stop if you want to stop: \n",
      "Please enter a number: -2\n",
      "Please enter stop if you want to stop: \n",
      "Please enter a number: -3\n",
      "Please enter stop if you want to stop: \n",
      "Please enter a number: -4\n",
      "Please enter stop if you want to stop: \n",
      "Please enter a number: -5\n",
      "Please enter stop if you want to stop: stop\n",
      " \n",
      "-1, -2, -3, -4, -5\n"
     ]
    }
   ],
   "source": [
    "num_stop()"
   ]
  },
  {
   "cell_type": "code",
   "execution_count": 5,
   "id": "cf94d325",
   "metadata": {
    "scrolled": false
   },
   "outputs": [
    {
     "name": "stdout",
     "output_type": "stream",
     "text": [
      "Please enter a number: -1\n",
      "Please enter stop if you want to stop: \n",
      "Please enter a number: 0\n",
      "Please enter stop if you want to stop: \n",
      "Please enter a number: -2\n",
      "Please enter stop if you want to stop: \n",
      "Please enter a number: 0\n",
      "Please enter stop if you want to stop: \n",
      "Please enter a number: -3\n",
      "Please enter stop if you want to stop: \n",
      "Please enter a number: 0\n",
      "Please enter stop if you want to stop: \n",
      "Please enter a number: -4\n",
      "Please enter stop if you want to stop: \n",
      "Please enter a number: 0\n",
      "Please enter stop if you want to stop: \n",
      "Please enter a number: -5\n",
      "Please enter stop if you want to stop: \n",
      "Please enter a number: 0\n",
      "Please enter stop if you want to stop: stop\n",
      " \n",
      "-1, -2, -3, -4, -5, 0, 0, 0, 0, 0\n"
     ]
    }
   ],
   "source": [
    "num_stop()"
   ]
  },
  {
   "cell_type": "code",
   "execution_count": 6,
   "id": "8e7bce94",
   "metadata": {
    "scrolled": false
   },
   "outputs": [
    {
     "name": "stdout",
     "output_type": "stream",
     "text": [
      "Please enter a number: 9\n",
      "Please enter stop if you want to stop: \n",
      "Please enter a number: 0\n",
      "Please enter stop if you want to stop: \n",
      "Please enter a number: 8\n",
      "Please enter stop if you want to stop: \n",
      "Please enter a number: 0\n",
      "Please enter stop if you want to stop: \n",
      "Please enter a number: 7\n",
      "Please enter stop if you want to stop: \n",
      "Please enter a number: 0\n",
      "Please enter stop if you want to stop: \n",
      "Please enter a number: 6\n",
      "Please enter stop if you want to stop: \n",
      "Please enter a number: 0\n",
      "Please enter stop if you want to stop: \n",
      "Please enter a number: 5\n",
      "Please enter stop if you want to stop: \n",
      "Please enter a number: 0\n",
      "Please enter stop if you want to stop: stop\n",
      " \n",
      "0, 0, 0, 0, 0, 9, 8, 7, 6, 5\n"
     ]
    }
   ],
   "source": [
    "num_stop()"
   ]
  },
  {
   "cell_type": "code",
   "execution_count": 7,
   "id": "36e98ec0",
   "metadata": {
    "scrolled": false
   },
   "outputs": [
    {
     "name": "stdout",
     "output_type": "stream",
     "text": [
      "Please enter a number: 9\n",
      "Please enter stop if you want to stop: \n",
      "Please enter a number: -1\n",
      "Please enter stop if you want to stop: \n",
      "Please enter a number: 0\n",
      "Please enter stop if you want to stop: \n",
      "Please enter a number: 8\n",
      "Please enter stop if you want to stop: \n",
      "Please enter a number: -2\n",
      "Please enter stop if you want to stop: \n",
      "Please enter a number: 0\n",
      "Please enter stop if you want to stop: \n",
      "Please enter a number: 7\n",
      "Please enter stop if you want to stop: \n",
      "Please enter a number: -3\n",
      "Please enter stop if you want to stop: \n",
      "Please enter a number: 0\n",
      "Please enter stop if you want to stop: \n",
      "Please enter a number: 6\n",
      "Please enter stop if you want to stop: \n",
      "Please enter a number: -4\n",
      "Please enter stop if you want to stop: \n",
      "Please enter a number: 0\n",
      "Please enter stop if you want to stop: \n",
      "Please enter a number: -5\n",
      "Please enter stop if you want to stop: \n",
      "Please enter a number: 5\n",
      "Please enter stop if you want to stop: \n",
      "Please enter a number: 0\n",
      "Please enter stop if you want to stop: stop\n",
      " \n",
      "-1, -2, -3, -4, -5, 0, 0, 0, 0, 0, 9, 8, 7, 6, 5\n"
     ]
    }
   ],
   "source": [
    "num_stop()"
   ]
  }
 ],
 "metadata": {
  "kernelspec": {
   "display_name": "Python 3 (ipykernel)",
   "language": "python",
   "name": "python3"
  },
  "language_info": {
   "codemirror_mode": {
    "name": "ipython",
    "version": 3
   },
   "file_extension": ".py",
   "mimetype": "text/x-python",
   "name": "python",
   "nbconvert_exporter": "python",
   "pygments_lexer": "ipython3",
   "version": "3.8.16"
  }
 },
 "nbformat": 4,
 "nbformat_minor": 5
}
