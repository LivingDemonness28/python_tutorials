{
 "cells": [
  {
   "cell_type": "markdown",
   "id": "20930dda",
   "metadata": {},
   "source": [
    "# Simplified Version"
   ]
  },
  {
   "cell_type": "code",
   "execution_count": 1,
   "id": "385881bc",
   "metadata": {},
   "outputs": [],
   "source": [
    "def perfect():\n",
    "    num = int(input(\"Please enter a positive integer: \"))\n",
    "    print(' ')\n",
    "    \n",
    "    num_array = []\n",
    "    \n",
    "    i = num - 1\n",
    "    \n",
    "    while (i > 0):\n",
    "        if (num % i == 0):\n",
    "             num_array.append(i)\n",
    "        i -= 1\n",
    "    #sum the elements in the array\n",
    "    j = sum(num_array)\n",
    "    \n",
    "    if (j == num):\n",
    "        print(\"True\")\n",
    "    else:\n",
    "        print(\"False\")"
   ]
  },
  {
   "cell_type": "code",
   "execution_count": 2,
   "id": "d60362fb",
   "metadata": {},
   "outputs": [
    {
     "name": "stdout",
     "output_type": "stream",
     "text": [
      "Please enter a positive integer: 1\n",
      " \n",
      "False\n"
     ]
    }
   ],
   "source": [
    "perfect()"
   ]
  },
  {
   "cell_type": "code",
   "execution_count": 3,
   "id": "bdc31c52",
   "metadata": {},
   "outputs": [
    {
     "name": "stdout",
     "output_type": "stream",
     "text": [
      "Please enter a positive integer: 5\n",
      " \n",
      "False\n"
     ]
    }
   ],
   "source": [
    "perfect()"
   ]
  },
  {
   "cell_type": "code",
   "execution_count": 4,
   "id": "46d429c4",
   "metadata": {},
   "outputs": [
    {
     "name": "stdout",
     "output_type": "stream",
     "text": [
      "Please enter a positive integer: 6\n",
      " \n",
      "True\n"
     ]
    }
   ],
   "source": [
    "perfect()"
   ]
  },
  {
   "cell_type": "code",
   "execution_count": 5,
   "id": "ffbfbd80",
   "metadata": {},
   "outputs": [
    {
     "name": "stdout",
     "output_type": "stream",
     "text": [
      "Please enter a positive integer: 10\n",
      " \n",
      "False\n"
     ]
    }
   ],
   "source": [
    "perfect()"
   ]
  },
  {
   "cell_type": "code",
   "execution_count": 6,
   "id": "fffb0e68",
   "metadata": {},
   "outputs": [
    {
     "name": "stdout",
     "output_type": "stream",
     "text": [
      "Please enter a positive integer: 28\n",
      " \n",
      "True\n"
     ]
    }
   ],
   "source": [
    "perfect()"
   ]
  },
  {
   "cell_type": "code",
   "execution_count": 7,
   "id": "94970208",
   "metadata": {},
   "outputs": [
    {
     "name": "stdout",
     "output_type": "stream",
     "text": [
      "Please enter a positive integer: 100\n",
      " \n",
      "False\n"
     ]
    }
   ],
   "source": [
    "perfect()"
   ]
  },
  {
   "cell_type": "code",
   "execution_count": 8,
   "id": "e8ea97e7",
   "metadata": {},
   "outputs": [
    {
     "name": "stdout",
     "output_type": "stream",
     "text": [
      "Please enter a positive integer: 123\n",
      " \n",
      "False\n"
     ]
    }
   ],
   "source": [
    "perfect()"
   ]
  },
  {
   "cell_type": "code",
   "execution_count": 9,
   "id": "37eacba7",
   "metadata": {},
   "outputs": [
    {
     "name": "stdout",
     "output_type": "stream",
     "text": [
      "Please enter a positive integer: 456\n",
      " \n",
      "False\n"
     ]
    }
   ],
   "source": [
    "perfect()"
   ]
  },
  {
   "cell_type": "code",
   "execution_count": 10,
   "id": "39d9ad7a",
   "metadata": {},
   "outputs": [
    {
     "name": "stdout",
     "output_type": "stream",
     "text": [
      "Please enter a positive integer: 496\n",
      " \n",
      "True\n"
     ]
    }
   ],
   "source": [
    "perfect()"
   ]
  },
  {
   "cell_type": "code",
   "execution_count": 11,
   "id": "c838006b",
   "metadata": {},
   "outputs": [
    {
     "name": "stdout",
     "output_type": "stream",
     "text": [
      "Please enter a positive integer: 789\n",
      " \n",
      "False\n"
     ]
    }
   ],
   "source": [
    "perfect()"
   ]
  },
  {
   "cell_type": "code",
   "execution_count": 12,
   "id": "c529023b",
   "metadata": {},
   "outputs": [
    {
     "name": "stdout",
     "output_type": "stream",
     "text": [
      "Please enter a positive integer: 789.5\n"
     ]
    },
    {
     "ename": "ValueError",
     "evalue": "invalid literal for int() with base 10: '789.5'",
     "output_type": "error",
     "traceback": [
      "\u001b[1;31m---------------------------------------------------------------------------\u001b[0m",
      "\u001b[1;31mValueError\u001b[0m                                Traceback (most recent call last)",
      "Cell \u001b[1;32mIn[12], line 1\u001b[0m\n\u001b[1;32m----> 1\u001b[0m \u001b[43mperfect\u001b[49m\u001b[43m(\u001b[49m\u001b[43m)\u001b[49m\n",
      "Cell \u001b[1;32mIn[1], line 2\u001b[0m, in \u001b[0;36mperfect\u001b[1;34m()\u001b[0m\n\u001b[0;32m      1\u001b[0m \u001b[38;5;28;01mdef\u001b[39;00m \u001b[38;5;21mperfect\u001b[39m():\n\u001b[1;32m----> 2\u001b[0m     num \u001b[38;5;241m=\u001b[39m \u001b[38;5;28;43mint\u001b[39;49m\u001b[43m(\u001b[49m\u001b[38;5;28;43minput\u001b[39;49m\u001b[43m(\u001b[49m\u001b[38;5;124;43m\"\u001b[39;49m\u001b[38;5;124;43mPlease enter a positive integer: \u001b[39;49m\u001b[38;5;124;43m\"\u001b[39;49m\u001b[43m)\u001b[49m\u001b[43m)\u001b[49m\n\u001b[0;32m      3\u001b[0m     \u001b[38;5;28mprint\u001b[39m(\u001b[38;5;124m'\u001b[39m\u001b[38;5;124m \u001b[39m\u001b[38;5;124m'\u001b[39m)\n\u001b[0;32m      5\u001b[0m     num_array \u001b[38;5;241m=\u001b[39m []\n",
      "\u001b[1;31mValueError\u001b[0m: invalid literal for int() with base 10: '789.5'"
     ]
    }
   ],
   "source": [
    "perfect()"
   ]
  },
  {
   "cell_type": "markdown",
   "id": "16f6dc9b",
   "metadata": {},
   "source": [
    " "
   ]
  },
  {
   "cell_type": "markdown",
   "id": "d682221b",
   "metadata": {},
   "source": [
    "# Modified Version"
   ]
  },
  {
   "cell_type": "code",
   "execution_count": 13,
   "id": "df2bb7ee",
   "metadata": {},
   "outputs": [],
   "source": [
    "def perfect_1():\n",
    "    num = 0\n",
    "    print(' ')\n",
    "    num_array = []\n",
    "    \n",
    "    while (num <= 0):\n",
    "        num_1 = input(\"Please enter a positive integer: \")\n",
    "        print(' ')\n",
    "        \n",
    "        try:\n",
    "            num = int(num_1)\n",
    "        except ValueError:\n",
    "            print(\"Invalid input, please enter an integer\")\n",
    "            print(' ')\n",
    "            continue\n",
    "        if (num <= 0):\n",
    "            print(\"The number needs to be positive\")\n",
    "            print(' ')\n",
    "    \n",
    "    i = num - 1\n",
    "    \n",
    "    while (i > 0):\n",
    "        if (num % i == 0):\n",
    "             num_array.append(i)\n",
    "        i -= 1\n",
    "    #sum the elements in the array\n",
    "    j = sum(num_array)\n",
    "    \n",
    "    if (j == num):\n",
    "        print(\"True\")\n",
    "    else:\n",
    "        print(\"False\")"
   ]
  },
  {
   "cell_type": "code",
   "execution_count": 14,
   "id": "2463ee7e",
   "metadata": {},
   "outputs": [
    {
     "name": "stdout",
     "output_type": "stream",
     "text": [
      " \n",
      "Please enter a positive integer: 1\n",
      " \n",
      "False\n"
     ]
    }
   ],
   "source": [
    "perfect_1()"
   ]
  },
  {
   "cell_type": "code",
   "execution_count": 15,
   "id": "480cc29e",
   "metadata": {},
   "outputs": [
    {
     "name": "stdout",
     "output_type": "stream",
     "text": [
      " \n",
      "Please enter a positive integer: 5\n",
      " \n",
      "False\n"
     ]
    }
   ],
   "source": [
    "perfect_1()"
   ]
  },
  {
   "cell_type": "code",
   "execution_count": 16,
   "id": "60d1be5f",
   "metadata": {},
   "outputs": [
    {
     "name": "stdout",
     "output_type": "stream",
     "text": [
      " \n",
      "Please enter a positive integer: 6\n",
      " \n",
      "True\n"
     ]
    }
   ],
   "source": [
    "perfect_1()"
   ]
  },
  {
   "cell_type": "code",
   "execution_count": 17,
   "id": "fa1a70c2",
   "metadata": {},
   "outputs": [
    {
     "name": "stdout",
     "output_type": "stream",
     "text": [
      " \n",
      "Please enter a positive integer: 10\n",
      " \n",
      "False\n"
     ]
    }
   ],
   "source": [
    "perfect_1()"
   ]
  },
  {
   "cell_type": "code",
   "execution_count": 18,
   "id": "d4699b20",
   "metadata": {},
   "outputs": [
    {
     "name": "stdout",
     "output_type": "stream",
     "text": [
      " \n",
      "Please enter a positive integer: 28\n",
      " \n",
      "True\n"
     ]
    }
   ],
   "source": [
    "perfect_1()"
   ]
  },
  {
   "cell_type": "code",
   "execution_count": 19,
   "id": "f6f5c0fd",
   "metadata": {},
   "outputs": [
    {
     "name": "stdout",
     "output_type": "stream",
     "text": [
      " \n",
      "Please enter a positive integer: 100\n",
      " \n",
      "False\n"
     ]
    }
   ],
   "source": [
    "perfect_1()"
   ]
  },
  {
   "cell_type": "code",
   "execution_count": 20,
   "id": "67203e84",
   "metadata": {},
   "outputs": [
    {
     "name": "stdout",
     "output_type": "stream",
     "text": [
      " \n",
      "Please enter a positive integer: 123\n",
      " \n",
      "False\n"
     ]
    }
   ],
   "source": [
    "perfect_1()"
   ]
  },
  {
   "cell_type": "code",
   "execution_count": 21,
   "id": "6c9c379d",
   "metadata": {},
   "outputs": [
    {
     "name": "stdout",
     "output_type": "stream",
     "text": [
      " \n",
      "Please enter a positive integer: 456\n",
      " \n",
      "False\n"
     ]
    }
   ],
   "source": [
    "perfect_1()"
   ]
  },
  {
   "cell_type": "code",
   "execution_count": 22,
   "id": "bc3fe23e",
   "metadata": {},
   "outputs": [
    {
     "name": "stdout",
     "output_type": "stream",
     "text": [
      " \n",
      "Please enter a positive integer: 496\n",
      " \n",
      "True\n"
     ]
    }
   ],
   "source": [
    "perfect_1()"
   ]
  },
  {
   "cell_type": "code",
   "execution_count": 23,
   "id": "79d36931",
   "metadata": {},
   "outputs": [
    {
     "name": "stdout",
     "output_type": "stream",
     "text": [
      " \n",
      "Please enter a positive integer: 789.5\n",
      " \n",
      "Invalid input, please enter an integer\n",
      " \n",
      "Please enter a positive integer: -789\n",
      " \n",
      "The number needs to be positive\n",
      " \n",
      "Please enter a positive integer: 789\n",
      " \n",
      "False\n"
     ]
    }
   ],
   "source": [
    "perfect_1()"
   ]
  }
 ],
 "metadata": {
  "kernelspec": {
   "display_name": "Python 3 (ipykernel)",
   "language": "python",
   "name": "python3"
  },
  "language_info": {
   "codemirror_mode": {
    "name": "ipython",
    "version": 3
   },
   "file_extension": ".py",
   "mimetype": "text/x-python",
   "name": "python",
   "nbconvert_exporter": "python",
   "pygments_lexer": "ipython3",
   "version": "3.8.16"
  }
 },
 "nbformat": 4,
 "nbformat_minor": 5
}
