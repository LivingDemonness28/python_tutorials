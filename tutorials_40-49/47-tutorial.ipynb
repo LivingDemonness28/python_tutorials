{
 "cells": [
  {
   "cell_type": "markdown",
   "id": "20930dda",
   "metadata": {},
   "source": [
    "# Simplified Version"
   ]
  },
  {
   "cell_type": "code",
   "execution_count": 1,
   "id": "385881bc",
   "metadata": {},
   "outputs": [],
   "source": [
    "def divisor():\n",
    "    num = int(input(\"Please enter a positive integer: \"))\n",
    "    print(' ')\n",
    "    \n",
    "    num_array = []\n",
    "    \n",
    "    i = num - 1\n",
    "    \n",
    "    while (i > 0):\n",
    "        div = num % i\n",
    "        \n",
    "        if (div == 0):\n",
    "             num_array.append(i)\n",
    "        \n",
    "        i -= 1\n",
    "    \n",
    "    result = ', '.join(str(x) for x in num_array)\n",
    "    \n",
    "    if num_array == []:\n",
    "        print(\"There are no divisible numbers.\")\n",
    "    else:\n",
    "        print(\"The divisible numbers for {}:\".format(num))\n",
    "        print(result)"
   ]
  },
  {
   "cell_type": "code",
   "execution_count": 2,
   "id": "d60362fb",
   "metadata": {},
   "outputs": [
    {
     "name": "stdout",
     "output_type": "stream",
     "text": [
      "Please enter a positive integer: 1\n",
      " \n",
      "There are no divisible numbers.\n"
     ]
    }
   ],
   "source": [
    "divisor()"
   ]
  },
  {
   "cell_type": "code",
   "execution_count": 3,
   "id": "bd4a0a2d",
   "metadata": {},
   "outputs": [
    {
     "name": "stdout",
     "output_type": "stream",
     "text": [
      "Please enter a positive integer: 5\n",
      " \n",
      "The divisible numbers for 5:\n",
      "1\n"
     ]
    }
   ],
   "source": [
    "divisor()"
   ]
  },
  {
   "cell_type": "code",
   "execution_count": 4,
   "id": "f552aef1",
   "metadata": {},
   "outputs": [
    {
     "name": "stdout",
     "output_type": "stream",
     "text": [
      "Please enter a positive integer: 10\n",
      " \n",
      "The divisible numbers for 10:\n",
      "5, 2, 1\n"
     ]
    }
   ],
   "source": [
    "divisor()"
   ]
  },
  {
   "cell_type": "code",
   "execution_count": 5,
   "id": "90922955",
   "metadata": {},
   "outputs": [
    {
     "name": "stdout",
     "output_type": "stream",
     "text": [
      "Please enter a positive integer: 100\n",
      " \n",
      "The divisible numbers for 100:\n",
      "50, 25, 20, 10, 5, 4, 2, 1\n"
     ]
    }
   ],
   "source": [
    "divisor()"
   ]
  },
  {
   "cell_type": "code",
   "execution_count": 6,
   "id": "5b2c1164",
   "metadata": {},
   "outputs": [
    {
     "name": "stdout",
     "output_type": "stream",
     "text": [
      "Please enter a positive integer: 123\n",
      " \n",
      "The divisible numbers for 123:\n",
      "41, 3, 1\n"
     ]
    }
   ],
   "source": [
    "divisor()"
   ]
  },
  {
   "cell_type": "code",
   "execution_count": 7,
   "id": "903321db",
   "metadata": {},
   "outputs": [
    {
     "name": "stdout",
     "output_type": "stream",
     "text": [
      "Please enter a positive integer: 456\n",
      " \n",
      "The divisible numbers for 456:\n",
      "228, 152, 114, 76, 57, 38, 24, 19, 12, 8, 6, 4, 3, 2, 1\n"
     ]
    }
   ],
   "source": [
    "divisor()"
   ]
  },
  {
   "cell_type": "code",
   "execution_count": 8,
   "id": "d6fd35eb",
   "metadata": {},
   "outputs": [
    {
     "name": "stdout",
     "output_type": "stream",
     "text": [
      "Please enter a positive integer: 789\n",
      " \n",
      "The divisible numbers for 789:\n",
      "263, 3, 1\n"
     ]
    }
   ],
   "source": [
    "divisor()"
   ]
  },
  {
   "cell_type": "code",
   "execution_count": 9,
   "id": "ebe31276",
   "metadata": {},
   "outputs": [
    {
     "name": "stdout",
     "output_type": "stream",
     "text": [
      "Please enter a positive integer: 123.5\n"
     ]
    },
    {
     "ename": "ValueError",
     "evalue": "invalid literal for int() with base 10: '123.5'",
     "output_type": "error",
     "traceback": [
      "\u001b[1;31m---------------------------------------------------------------------------\u001b[0m",
      "\u001b[1;31mValueError\u001b[0m                                Traceback (most recent call last)",
      "Cell \u001b[1;32mIn[9], line 1\u001b[0m\n\u001b[1;32m----> 1\u001b[0m \u001b[43mdivisor\u001b[49m\u001b[43m(\u001b[49m\u001b[43m)\u001b[49m\n",
      "Cell \u001b[1;32mIn[1], line 2\u001b[0m, in \u001b[0;36mdivisor\u001b[1;34m()\u001b[0m\n\u001b[0;32m      1\u001b[0m \u001b[38;5;28;01mdef\u001b[39;00m \u001b[38;5;21mdivisor\u001b[39m():\n\u001b[1;32m----> 2\u001b[0m     num \u001b[38;5;241m=\u001b[39m \u001b[38;5;28;43mint\u001b[39;49m\u001b[43m(\u001b[49m\u001b[38;5;28;43minput\u001b[39;49m\u001b[43m(\u001b[49m\u001b[38;5;124;43m\"\u001b[39;49m\u001b[38;5;124;43mPlease enter a positive integer: \u001b[39;49m\u001b[38;5;124;43m\"\u001b[39;49m\u001b[43m)\u001b[49m\u001b[43m)\u001b[49m\n\u001b[0;32m      3\u001b[0m     \u001b[38;5;28mprint\u001b[39m(\u001b[38;5;124m'\u001b[39m\u001b[38;5;124m \u001b[39m\u001b[38;5;124m'\u001b[39m)\n\u001b[0;32m      5\u001b[0m     num_array \u001b[38;5;241m=\u001b[39m []\n",
      "\u001b[1;31mValueError\u001b[0m: invalid literal for int() with base 10: '123.5'"
     ]
    }
   ],
   "source": [
    "divisor()"
   ]
  },
  {
   "cell_type": "markdown",
   "id": "16f6dc9b",
   "metadata": {},
   "source": [
    " "
   ]
  },
  {
   "cell_type": "markdown",
   "id": "d682221b",
   "metadata": {},
   "source": [
    "# Modified Version"
   ]
  },
  {
   "cell_type": "code",
   "execution_count": 10,
   "id": "19c8ab69",
   "metadata": {},
   "outputs": [],
   "source": [
    "def divisor_1():\n",
    "    num = 0\n",
    "    num_array = []\n",
    "    \n",
    "    while 0 >= num:\n",
    "        num_1 = input(\"Please enter a positive integer: \")\n",
    "        print(' ')\n",
    "        \n",
    "        try:\n",
    "            num = int(num_1)\n",
    "        except ValueError:\n",
    "            print(\"Invalid input, please enter an integer\")\n",
    "            print(' ')\n",
    "            continue\n",
    "        if 0 >= num:\n",
    "            print(\"The number needs to be positive\")\n",
    "            print(' ')\n",
    "    \n",
    "    i = num - 1\n",
    "    \n",
    "    while (i > 0):\n",
    "        div = num % i\n",
    "        \n",
    "        if (div == 0):\n",
    "             num_array.append(i)\n",
    "        \n",
    "        i -= 1\n",
    "    \n",
    "    result = ', '.join(str(x) for x in num_array)\n",
    "    \n",
    "    if num_array == []:\n",
    "        print(\"There are no divisible numbers.\")\n",
    "    else:\n",
    "        print(\"The divisible numbers for {}:\".format(num))\n",
    "        print(result)"
   ]
  },
  {
   "cell_type": "code",
   "execution_count": 11,
   "id": "05ca18cf",
   "metadata": {},
   "outputs": [
    {
     "name": "stdout",
     "output_type": "stream",
     "text": [
      "Please enter a positive integer: 1\n",
      " \n",
      "There are no divisible numbers.\n"
     ]
    }
   ],
   "source": [
    "divisor_1()"
   ]
  },
  {
   "cell_type": "code",
   "execution_count": 12,
   "id": "a07dbbed",
   "metadata": {},
   "outputs": [
    {
     "name": "stdout",
     "output_type": "stream",
     "text": [
      "Please enter a positive integer: 5\n",
      " \n",
      "The divisible numbers for 5:\n",
      "1\n"
     ]
    }
   ],
   "source": [
    "divisor_1()"
   ]
  },
  {
   "cell_type": "code",
   "execution_count": 13,
   "id": "22b2461c",
   "metadata": {},
   "outputs": [
    {
     "name": "stdout",
     "output_type": "stream",
     "text": [
      "Please enter a positive integer: 10\n",
      " \n",
      "The divisible numbers for 10:\n",
      "5, 2, 1\n"
     ]
    }
   ],
   "source": [
    "divisor_1()"
   ]
  },
  {
   "cell_type": "code",
   "execution_count": 14,
   "id": "1ce8b04c",
   "metadata": {},
   "outputs": [
    {
     "name": "stdout",
     "output_type": "stream",
     "text": [
      "Please enter a positive integer: 100\n",
      " \n",
      "The divisible numbers for 100:\n",
      "50, 25, 20, 10, 5, 4, 2, 1\n"
     ]
    }
   ],
   "source": [
    "divisor_1()"
   ]
  },
  {
   "cell_type": "code",
   "execution_count": 15,
   "id": "9f19a5c0",
   "metadata": {},
   "outputs": [
    {
     "name": "stdout",
     "output_type": "stream",
     "text": [
      "Please enter a positive integer: 123\n",
      " \n",
      "The divisible numbers for 123:\n",
      "41, 3, 1\n"
     ]
    }
   ],
   "source": [
    "divisor_1()"
   ]
  },
  {
   "cell_type": "code",
   "execution_count": 16,
   "id": "62d0aa17",
   "metadata": {},
   "outputs": [
    {
     "name": "stdout",
     "output_type": "stream",
     "text": [
      "Please enter a positive integer: 456\n",
      " \n",
      "The divisible numbers for 456:\n",
      "228, 152, 114, 76, 57, 38, 24, 19, 12, 8, 6, 4, 3, 2, 1\n"
     ]
    }
   ],
   "source": [
    "divisor_1()"
   ]
  },
  {
   "cell_type": "code",
   "execution_count": 17,
   "id": "d15c7ab9",
   "metadata": {},
   "outputs": [
    {
     "name": "stdout",
     "output_type": "stream",
     "text": [
      "Please enter a positive integer: 789.5\n",
      " \n",
      "Invalid input, please enter an integer\n",
      " \n",
      "Please enter a positive integer: -789\n",
      " \n",
      "The number needs to be positive\n",
      " \n",
      "Please enter a positive integer: 789\n",
      " \n",
      "The divisible numbers for 789:\n",
      "263, 3, 1\n"
     ]
    }
   ],
   "source": [
    "divisor_1()"
   ]
  }
 ],
 "metadata": {
  "kernelspec": {
   "display_name": "Python 3 (ipykernel)",
   "language": "python",
   "name": "python3"
  },
  "language_info": {
   "codemirror_mode": {
    "name": "ipython",
    "version": 3
   },
   "file_extension": ".py",
   "mimetype": "text/x-python",
   "name": "python",
   "nbconvert_exporter": "python",
   "pygments_lexer": "ipython3",
   "version": "3.8.16"
  }
 },
 "nbformat": 4,
 "nbformat_minor": 5
}
