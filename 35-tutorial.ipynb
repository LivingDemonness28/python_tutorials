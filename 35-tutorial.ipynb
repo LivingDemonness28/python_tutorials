{
 "cells": [
  {
   "cell_type": "code",
   "execution_count": 1,
   "id": "3a366061",
   "metadata": {},
   "outputs": [],
   "source": [
    "city1 = \"London\"\n",
    "city2 = \"Paris\"\n",
    "city3 = \"London\"\n",
    "city4 = \"Sydney\""
   ]
  },
  {
   "cell_type": "markdown",
   "id": "6a39d662",
   "metadata": {},
   "source": [
    " "
   ]
  },
  {
   "cell_type": "markdown",
   "id": "6d71156b",
   "metadata": {},
   "source": [
    "This code checks whether city1 has the same value as city2"
   ]
  },
  {
   "cell_type": "code",
   "execution_count": 2,
   "id": "5d2166aa",
   "metadata": {},
   "outputs": [
    {
     "data": {
      "text/plain": [
       "False"
      ]
     },
     "execution_count": 2,
     "metadata": {},
     "output_type": "execute_result"
    }
   ],
   "source": [
    "city1 == city2"
   ]
  },
  {
   "cell_type": "markdown",
   "id": "6e4354d2",
   "metadata": {},
   "source": [
    " "
   ]
  },
  {
   "cell_type": "markdown",
   "id": "f865cf1a",
   "metadata": {},
   "source": [
    "The code below counts how many n's are in the word \"London\""
   ]
  },
  {
   "cell_type": "code",
   "execution_count": 3,
   "id": "0b893f9a",
   "metadata": {},
   "outputs": [
    {
     "data": {
      "text/plain": [
       "2"
      ]
     },
     "execution_count": 3,
     "metadata": {},
     "output_type": "execute_result"
    }
   ],
   "source": [
    "city3.count('n')"
   ]
  },
  {
   "cell_type": "markdown",
   "id": "7c849fe6",
   "metadata": {},
   "source": [
    " "
   ]
  },
  {
   "cell_type": "markdown",
   "id": "89f61770",
   "metadata": {},
   "source": [
    "In the case of the expression city1 <= city4, it compares the strings \"London\" and \"Sydney\". The comparison is made character by character, and in this case, the first characters being compared are 'L' from \"London\" and 'S' from \"Sydney\".\n",
    "\n",
    "In lexicographical order, the Unicode value of 'L' is less than the Unicode value of 'S'. Therefore, \"London\" <= \"Sydney\" evaluates to True."
   ]
  },
  {
   "cell_type": "code",
   "execution_count": 4,
   "id": "ca74a055",
   "metadata": {},
   "outputs": [
    {
     "data": {
      "text/plain": [
       "True"
      ]
     },
     "execution_count": 4,
     "metadata": {},
     "output_type": "execute_result"
    }
   ],
   "source": [
    "city1 <= city4"
   ]
  },
  {
   "cell_type": "markdown",
   "id": "65ca77ed",
   "metadata": {},
   "source": [
    " "
   ]
  },
  {
   "cell_type": "markdown",
   "id": "66635227",
   "metadata": {},
   "source": [
    "Changes all the characters to uppercase"
   ]
  },
  {
   "cell_type": "code",
   "execution_count": 5,
   "id": "741d3fa2",
   "metadata": {},
   "outputs": [
    {
     "data": {
      "text/plain": [
       "'PARIS'"
      ]
     },
     "execution_count": 5,
     "metadata": {},
     "output_type": "execute_result"
    }
   ],
   "source": [
    "city2.upper()"
   ]
  },
  {
   "cell_type": "markdown",
   "id": "cba5c041",
   "metadata": {},
   "source": [
    " "
   ]
  },
  {
   "cell_type": "markdown",
   "id": "bc4dc74c",
   "metadata": {},
   "source": [
    "Returns the length of the string."
   ]
  },
  {
   "cell_type": "code",
   "execution_count": 6,
   "id": "7b2ba77c",
   "metadata": {},
   "outputs": [
    {
     "data": {
      "text/plain": [
       "6"
      ]
     },
     "execution_count": 6,
     "metadata": {},
     "output_type": "execute_result"
    }
   ],
   "source": [
    "len(city4)"
   ]
  },
  {
   "cell_type": "markdown",
   "id": "7d8e2f90",
   "metadata": {},
   "source": [
    " "
   ]
  },
  {
   "cell_type": "markdown",
   "id": "b7de030c",
   "metadata": {},
   "source": [
    "Changes all the characters to lowercase"
   ]
  },
  {
   "cell_type": "code",
   "execution_count": 7,
   "id": "66f84fef",
   "metadata": {},
   "outputs": [
    {
     "data": {
      "text/plain": [
       "'london'"
      ]
     },
     "execution_count": 7,
     "metadata": {},
     "output_type": "execute_result"
    }
   ],
   "source": [
    "city1.lower()"
   ]
  }
 ],
 "metadata": {
  "kernelspec": {
   "display_name": "Python 3 (ipykernel)",
   "language": "python",
   "name": "python3"
  },
  "language_info": {
   "codemirror_mode": {
    "name": "ipython",
    "version": 3
   },
   "file_extension": ".py",
   "mimetype": "text/x-python",
   "name": "python",
   "nbconvert_exporter": "python",
   "pygments_lexer": "ipython3",
   "version": "3.8.16"
  }
 },
 "nbformat": 4,
 "nbformat_minor": 5
}
