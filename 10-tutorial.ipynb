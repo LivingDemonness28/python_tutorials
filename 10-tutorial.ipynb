{
 "cells": [
  {
   "cell_type": "code",
   "execution_count": 3,
   "id": "ce69988d",
   "metadata": {},
   "outputs": [],
   "source": [
    "def col():\n",
    "    col = str(input(\"Please enter a colour: \"))\n",
    "    col = col.lower()\n",
    "    if(col == \"red\"):\n",
    "        print(\"I like red too\")\n",
    "    else:\n",
    "        print(\"I don't like \" + col + \", I prefer red.\")"
   ]
  },
  {
   "cell_type": "code",
   "execution_count": 4,
   "id": "d99ba899",
   "metadata": {},
   "outputs": [
    {
     "name": "stdout",
     "output_type": "stream",
     "text": [
      "Please enter a colour: RED\n",
      "I like red too\n"
     ]
    }
   ],
   "source": [
    "col()"
   ]
  },
  {
   "cell_type": "code",
   "execution_count": 5,
   "id": "a188e18c",
   "metadata": {},
   "outputs": [
    {
     "name": "stdout",
     "output_type": "stream",
     "text": [
      "Please enter a colour: REd\n",
      "I like red too\n"
     ]
    }
   ],
   "source": [
    "col()"
   ]
  },
  {
   "cell_type": "code",
   "execution_count": 6,
   "id": "0e4672ff",
   "metadata": {},
   "outputs": [
    {
     "name": "stdout",
     "output_type": "stream",
     "text": [
      "Please enter a colour: Red\n",
      "I like red too\n"
     ]
    }
   ],
   "source": [
    "col()"
   ]
  },
  {
   "cell_type": "code",
   "execution_count": 7,
   "id": "a257706a",
   "metadata": {},
   "outputs": [
    {
     "name": "stdout",
     "output_type": "stream",
     "text": [
      "Please enter a colour: reD\n",
      "I like red too\n"
     ]
    }
   ],
   "source": [
    "col()"
   ]
  },
  {
   "cell_type": "code",
   "execution_count": 8,
   "id": "7f11319d",
   "metadata": {
    "scrolled": false
   },
   "outputs": [
    {
     "name": "stdout",
     "output_type": "stream",
     "text": [
      "Please enter a colour: rED\n",
      "I like red too\n"
     ]
    }
   ],
   "source": [
    "col()"
   ]
  },
  {
   "cell_type": "code",
   "execution_count": 9,
   "id": "a7b24318",
   "metadata": {},
   "outputs": [
    {
     "name": "stdout",
     "output_type": "stream",
     "text": [
      "Please enter a colour: purple\n",
      "I don't like purple, I prefer red.\n"
     ]
    }
   ],
   "source": [
    "col()"
   ]
  },
  {
   "cell_type": "code",
   "execution_count": 10,
   "id": "5a3c98a1",
   "metadata": {},
   "outputs": [
    {
     "name": "stdout",
     "output_type": "stream",
     "text": [
      "Please enter a colour: PURPLE\n",
      "I don't like purple, I prefer red.\n"
     ]
    }
   ],
   "source": [
    "col()"
   ]
  }
 ],
 "metadata": {
  "kernelspec": {
   "display_name": "Python 3 (ipykernel)",
   "language": "python",
   "name": "python3"
  },
  "language_info": {
   "codemirror_mode": {
    "name": "ipython",
    "version": 3
   },
   "file_extension": ".py",
   "mimetype": "text/x-python",
   "name": "python",
   "nbconvert_exporter": "python",
   "pygments_lexer": "ipython3",
   "version": "3.8.16"
  }
 },
 "nbformat": 4,
 "nbformat_minor": 5
}
