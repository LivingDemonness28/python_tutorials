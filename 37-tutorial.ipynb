{
 "cells": [
  {
   "cell_type": "code",
   "execution_count": 1,
   "id": "d0f1607a",
   "metadata": {},
   "outputs": [],
   "source": [
    "def insert_string():\n",
    "    str1 = input(\"Please enter a string: \")\n",
    "    mid_str = str(input(\"Please enter a string to add in the middle: \"))\n",
    "    \n",
    "    #length of the first string\n",
    "    str1_len = len(str1)\n",
    "    \n",
    "    if str1_len % 2 != 0:\n",
    "        str1_len = (str1_len + 1) // 2\n",
    "        mod_str = str1[:str1_len] + mid_str + str1[str1_len:]\n",
    "    else:\n",
    "        str1_len = str1_len // 2\n",
    "        mod_str = str1[:str1_len] + mid_str + str1[str1_len:]\n",
    "    \n",
    "    print(mod_str)"
   ]
  },
  {
   "cell_type": "code",
   "execution_count": 2,
   "id": "f71c9dce",
   "metadata": {},
   "outputs": [
    {
     "name": "stdout",
     "output_type": "stream",
     "text": [
      "Please enter a string: LivingDemoness28\n",
      "Please enter a string to add in the middle: choc\n",
      "LivingDechocmoness28\n"
     ]
    }
   ],
   "source": [
    "insert_string()"
   ]
  },
  {
   "cell_type": "code",
   "execution_count": 3,
   "id": "2311a339",
   "metadata": {},
   "outputs": [
    {
     "name": "stdout",
     "output_type": "stream",
     "text": [
      "Please enter a string: strawberry\n",
      "Please enter a string to add in the middle: banana\n",
      "strawbananaberry\n"
     ]
    }
   ],
   "source": [
    "insert_string()"
   ]
  },
  {
   "cell_type": "code",
   "execution_count": 4,
   "id": "c04c432f",
   "metadata": {},
   "outputs": [
    {
     "name": "stdout",
     "output_type": "stream",
     "text": [
      "Please enter a string: straw  berry\n",
      "Please enter a string to add in the middle: banana\n",
      "straw banana berry\n"
     ]
    }
   ],
   "source": [
    "insert_string()"
   ]
  }
 ],
 "metadata": {
  "kernelspec": {
   "display_name": "Python 3 (ipykernel)",
   "language": "python",
   "name": "python3"
  },
  "language_info": {
   "codemirror_mode": {
    "name": "ipython",
    "version": 3
   },
   "file_extension": ".py",
   "mimetype": "text/x-python",
   "name": "python",
   "nbconvert_exporter": "python",
   "pygments_lexer": "ipython3",
   "version": "3.8.16"
  }
 },
 "nbformat": 4,
 "nbformat_minor": 5
}
