{
 "cells": [
  {
   "cell_type": "markdown",
   "id": "85b9f6eb",
   "metadata": {},
   "source": [
    "# Basic Function"
   ]
  },
  {
   "cell_type": "code",
   "execution_count": 1,
   "id": "102913a9",
   "metadata": {},
   "outputs": [],
   "source": [
    "def sports():\n",
    "    sport_list = [\"Soccer\", \"Rugby\"]\n",
    "    \n",
    "    user_sport = input(\"Please input your favourite sport: \").strip().lower().title()\n",
    "    print(\" \")\n",
    "    \n",
    "    sport_list.append(user_sport)\n",
    "    print(sport_list)"
   ]
  },
  {
   "cell_type": "code",
   "execution_count": 2,
   "id": "e8f21e91",
   "metadata": {},
   "outputs": [
    {
     "name": "stdout",
     "output_type": "stream",
     "text": [
      "Please input your favourite sport: basketball\n",
      " \n",
      "['Soccer', 'Rugby', 'Basketball']\n"
     ]
    }
   ],
   "source": [
    "sports()"
   ]
  },
  {
   "cell_type": "code",
   "execution_count": 3,
   "id": "22c0712b",
   "metadata": {},
   "outputs": [
    {
     "name": "stdout",
     "output_type": "stream",
     "text": [
      "Please input your favourite sport: soccer\n",
      " \n",
      "['Soccer', 'Rugby', 'Soccer']\n"
     ]
    }
   ],
   "source": [
    "sports()"
   ]
  },
  {
   "cell_type": "markdown",
   "id": "e7feabb0",
   "metadata": {},
   "source": [
    " "
   ]
  },
  {
   "cell_type": "markdown",
   "id": "a001ceef",
   "metadata": {},
   "source": [
    "# Modified Version 1"
   ]
  },
  {
   "cell_type": "markdown",
   "id": "6bcf71b3",
   "metadata": {},
   "source": [
    "Move sport to the end of the list if it is already in the list."
   ]
  },
  {
   "cell_type": "code",
   "execution_count": 4,
   "id": "f3b0ad93",
   "metadata": {},
   "outputs": [],
   "source": [
    "def sports_1():\n",
    "    sport_list = [\"Soccer\", \"Rugby\"]\n",
    "    \n",
    "    user_sport = input(\"Please input your favourite sport: \").strip().lower().title()\n",
    "    print(\" \")\n",
    "    \n",
    "    if user_sport in sport_list:\n",
    "        #remove the sport\n",
    "        sport_list.remove(user_sport)\n",
    "        #add to the end\n",
    "        sport_list.append(user_sport)\n",
    "    else:\n",
    "        sport_list.append(user_sport)\n",
    "    \n",
    "    print(sport_list)"
   ]
  },
  {
   "cell_type": "code",
   "execution_count": 5,
   "id": "ae073222",
   "metadata": {},
   "outputs": [
    {
     "name": "stdout",
     "output_type": "stream",
     "text": [
      "Please input your favourite sport: basketball\n",
      " \n",
      "['Soccer', 'Rugby', 'Basketball']\n"
     ]
    }
   ],
   "source": [
    "sports_1()"
   ]
  },
  {
   "cell_type": "code",
   "execution_count": 6,
   "id": "b5b826e0",
   "metadata": {},
   "outputs": [
    {
     "name": "stdout",
     "output_type": "stream",
     "text": [
      "Please input your favourite sport: soccer\n",
      " \n",
      "['Rugby', 'Soccer']\n"
     ]
    }
   ],
   "source": [
    "sports_1()"
   ]
  }
 ],
 "metadata": {
  "kernelspec": {
   "display_name": "Python 3 (ipykernel)",
   "language": "python",
   "name": "python3"
  },
  "language_info": {
   "codemirror_mode": {
    "name": "ipython",
    "version": 3
   },
   "file_extension": ".py",
   "mimetype": "text/x-python",
   "name": "python",
   "nbconvert_exporter": "python",
   "pygments_lexer": "ipython3",
   "version": "3.8.16"
  }
 },
 "nbformat": 4,
 "nbformat_minor": 5
}
