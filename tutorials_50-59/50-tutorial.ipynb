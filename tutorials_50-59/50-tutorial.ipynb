{
 "cells": [
  {
   "cell_type": "markdown",
   "id": "825f34aa",
   "metadata": {},
   "source": [
    "# Simplified Version"
   ]
  },
  {
   "cell_type": "code",
   "execution_count": 1,
   "id": "5219b47e",
   "metadata": {},
   "outputs": [],
   "source": [
    "def countries():\n",
    "    #user enters country name\n",
    "    countries = (\"South Africa\", \"Japan\", \"India\", \"China\", \"Sudan\")\n",
    "    print(countries)\n",
    "    print(\" \")\n",
    "    \n",
    "    user_country = input(\"Please enter a country displayed: \").strip().lower().title()\n",
    "    print(\" \")\n",
    "    \n",
    "    index = countries.index(user_country)\n",
    "    print(f\"{user_country} is found at position {index} in the tuple.\")\n",
    "    print(\" \")\n",
    "    \n",
    "    #User enters position number\n",
    "    user_number = int(input(\"Please enter a number: \"))\n",
    "    print(\" \")\n",
    "    \n",
    "    country = countries[user_number]\n",
    "    print(f\"The country at position {user_number} is {country}\")"
   ]
  },
  {
   "cell_type": "code",
   "execution_count": 2,
   "id": "3e2a0b1b",
   "metadata": {},
   "outputs": [
    {
     "name": "stdout",
     "output_type": "stream",
     "text": [
      "('South Africa', 'Japan', 'India', 'China', 'Sudan')\n",
      " \n",
      "Please enter a country displayed: south africa\n",
      " \n",
      "South Africa is found at position 0 in the tuple.\n",
      " \n",
      "Please enter a number: 0\n",
      " \n",
      "The country at position 0 is South Africa\n"
     ]
    }
   ],
   "source": [
    "countries()"
   ]
  },
  {
   "cell_type": "code",
   "execution_count": 3,
   "id": "9909cbb0",
   "metadata": {},
   "outputs": [
    {
     "name": "stdout",
     "output_type": "stream",
     "text": [
      "('South Africa', 'Japan', 'India', 'China', 'Sudan')\n",
      " \n",
      "Please enter a country displayed: jaPan\n",
      " \n",
      "Japan is found at position 1 in the tuple.\n",
      " \n",
      "Please enter a number: 1\n",
      " \n",
      "The country at position 1 is Japan\n"
     ]
    }
   ],
   "source": [
    "countries()"
   ]
  },
  {
   "cell_type": "code",
   "execution_count": 4,
   "id": "763ffed3",
   "metadata": {},
   "outputs": [
    {
     "name": "stdout",
     "output_type": "stream",
     "text": [
      "('South Africa', 'Japan', 'India', 'China', 'Sudan')\n",
      " \n",
      "Please enter a country displayed: INDIA\n",
      " \n",
      "India is found at position 2 in the tuple.\n",
      " \n",
      "Please enter a number: 2\n",
      " \n",
      "The country at position 2 is India\n"
     ]
    }
   ],
   "source": [
    "countries()"
   ]
  },
  {
   "cell_type": "code",
   "execution_count": 5,
   "id": "2a10b930",
   "metadata": {},
   "outputs": [
    {
     "name": "stdout",
     "output_type": "stream",
     "text": [
      "('South Africa', 'Japan', 'India', 'China', 'Sudan')\n",
      " \n",
      "Please enter a country displayed: cHiNa\n",
      " \n",
      "China is found at position 3 in the tuple.\n",
      " \n",
      "Please enter a number: 3\n",
      " \n",
      "The country at position 3 is China\n"
     ]
    }
   ],
   "source": [
    "countries()"
   ]
  },
  {
   "cell_type": "code",
   "execution_count": 6,
   "id": "fa394e1c",
   "metadata": {},
   "outputs": [
    {
     "name": "stdout",
     "output_type": "stream",
     "text": [
      "('South Africa', 'Japan', 'India', 'China', 'Sudan')\n",
      " \n",
      "Please enter a country displayed: SuDaN\n",
      " \n",
      "Sudan is found at position 4 in the tuple.\n",
      " \n",
      "Please enter a number: 4\n",
      " \n",
      "The country at position 4 is Sudan\n"
     ]
    }
   ],
   "source": [
    "countries()"
   ]
  },
  {
   "cell_type": "code",
   "execution_count": 7,
   "id": "4e533003",
   "metadata": {},
   "outputs": [
    {
     "name": "stdout",
     "output_type": "stream",
     "text": [
      "('South Africa', 'Japan', 'India', 'China', 'Sudan')\n",
      " \n",
      "Please enter a country displayed: nigeria\n",
      " \n"
     ]
    },
    {
     "ename": "ValueError",
     "evalue": "tuple.index(x): x not in tuple",
     "output_type": "error",
     "traceback": [
      "\u001b[1;31m---------------------------------------------------------------------------\u001b[0m",
      "\u001b[1;31mValueError\u001b[0m                                Traceback (most recent call last)",
      "Cell \u001b[1;32mIn[7], line 1\u001b[0m\n\u001b[1;32m----> 1\u001b[0m \u001b[43mcountries\u001b[49m\u001b[43m(\u001b[49m\u001b[43m)\u001b[49m\n",
      "Cell \u001b[1;32mIn[1], line 10\u001b[0m, in \u001b[0;36mcountries\u001b[1;34m()\u001b[0m\n\u001b[0;32m      7\u001b[0m user_country \u001b[38;5;241m=\u001b[39m \u001b[38;5;28minput\u001b[39m(\u001b[38;5;124m\"\u001b[39m\u001b[38;5;124mPlease enter a country displayed: \u001b[39m\u001b[38;5;124m\"\u001b[39m)\u001b[38;5;241m.\u001b[39mstrip()\u001b[38;5;241m.\u001b[39mlower()\u001b[38;5;241m.\u001b[39mtitle()\n\u001b[0;32m      8\u001b[0m \u001b[38;5;28mprint\u001b[39m(\u001b[38;5;124m\"\u001b[39m\u001b[38;5;124m \u001b[39m\u001b[38;5;124m\"\u001b[39m)\n\u001b[1;32m---> 10\u001b[0m index \u001b[38;5;241m=\u001b[39m \u001b[43mcountries\u001b[49m\u001b[38;5;241;43m.\u001b[39;49m\u001b[43mindex\u001b[49m\u001b[43m(\u001b[49m\u001b[43muser_country\u001b[49m\u001b[43m)\u001b[49m\n\u001b[0;32m     11\u001b[0m \u001b[38;5;28mprint\u001b[39m(\u001b[38;5;124mf\u001b[39m\u001b[38;5;124m\"\u001b[39m\u001b[38;5;132;01m{\u001b[39;00muser_country\u001b[38;5;132;01m}\u001b[39;00m\u001b[38;5;124m is found at position \u001b[39m\u001b[38;5;132;01m{\u001b[39;00mindex\u001b[38;5;132;01m}\u001b[39;00m\u001b[38;5;124m in the tuple.\u001b[39m\u001b[38;5;124m\"\u001b[39m)\n\u001b[0;32m     12\u001b[0m \u001b[38;5;28mprint\u001b[39m(\u001b[38;5;124m\"\u001b[39m\u001b[38;5;124m \u001b[39m\u001b[38;5;124m\"\u001b[39m)\n",
      "\u001b[1;31mValueError\u001b[0m: tuple.index(x): x not in tuple"
     ]
    }
   ],
   "source": [
    "countries()"
   ]
  },
  {
   "cell_type": "code",
   "execution_count": 8,
   "id": "ffe0c411",
   "metadata": {},
   "outputs": [
    {
     "name": "stdout",
     "output_type": "stream",
     "text": [
      "('South Africa', 'Japan', 'India', 'China', 'Sudan')\n",
      " \n",
      "Please enter a country displayed: china\n",
      " \n",
      "China is found at position 3 in the tuple.\n",
      " \n",
      "Please enter a number: 5\n",
      " \n"
     ]
    },
    {
     "ename": "IndexError",
     "evalue": "tuple index out of range",
     "output_type": "error",
     "traceback": [
      "\u001b[1;31m---------------------------------------------------------------------------\u001b[0m",
      "\u001b[1;31mIndexError\u001b[0m                                Traceback (most recent call last)",
      "Cell \u001b[1;32mIn[8], line 1\u001b[0m\n\u001b[1;32m----> 1\u001b[0m \u001b[43mcountries\u001b[49m\u001b[43m(\u001b[49m\u001b[43m)\u001b[49m\n",
      "Cell \u001b[1;32mIn[1], line 18\u001b[0m, in \u001b[0;36mcountries\u001b[1;34m()\u001b[0m\n\u001b[0;32m     15\u001b[0m user_number \u001b[38;5;241m=\u001b[39m \u001b[38;5;28mint\u001b[39m(\u001b[38;5;28minput\u001b[39m(\u001b[38;5;124m\"\u001b[39m\u001b[38;5;124mPlease enter a number: \u001b[39m\u001b[38;5;124m\"\u001b[39m))\n\u001b[0;32m     16\u001b[0m \u001b[38;5;28mprint\u001b[39m(\u001b[38;5;124m\"\u001b[39m\u001b[38;5;124m \u001b[39m\u001b[38;5;124m\"\u001b[39m)\n\u001b[1;32m---> 18\u001b[0m country \u001b[38;5;241m=\u001b[39m \u001b[43mcountries\u001b[49m\u001b[43m[\u001b[49m\u001b[43muser_number\u001b[49m\u001b[43m]\u001b[49m\n\u001b[0;32m     19\u001b[0m \u001b[38;5;28mprint\u001b[39m(\u001b[38;5;124mf\u001b[39m\u001b[38;5;124m\"\u001b[39m\u001b[38;5;124mThe country at position \u001b[39m\u001b[38;5;132;01m{\u001b[39;00muser_number\u001b[38;5;132;01m}\u001b[39;00m\u001b[38;5;124m is \u001b[39m\u001b[38;5;132;01m{\u001b[39;00mcountry\u001b[38;5;132;01m}\u001b[39;00m\u001b[38;5;124m\"\u001b[39m)\n",
      "\u001b[1;31mIndexError\u001b[0m: tuple index out of range"
     ]
    }
   ],
   "source": [
    "countries()"
   ]
  },
  {
   "cell_type": "markdown",
   "id": "246e0170",
   "metadata": {},
   "source": [
    "  "
   ]
  },
  {
   "cell_type": "markdown",
   "id": "8a828b6b",
   "metadata": {},
   "source": [
    "# Modified Version"
   ]
  },
  {
   "cell_type": "code",
   "execution_count": 9,
   "id": "80f7cb95",
   "metadata": {},
   "outputs": [],
   "source": [
    "def countries_1():\n",
    "    #user enters country name\n",
    "    countries = (\"South Africa\", \"Japan\", \"India\", \"China\", \"Sudan\")\n",
    "    print(countries)\n",
    "    print(\" \")\n",
    "    \n",
    "    user_country = input(\"Please enter a country displayed: \").strip().lower().title()\n",
    "    print(\" \")\n",
    "    \n",
    "    #Enter this loop when a country that is not listed is entered.\n",
    "    while user_country not in countries:\n",
    "        print(\"Invalid input! Try again.\")\n",
    "        print(\" \")\n",
    "        user_country = input(\"Please enter a country display: \").strip().lower().title()\n",
    "        print(\" \")\n",
    "    \n",
    "    index = countries.index(user_country)\n",
    "    print(f\"{user_country} is found at position {index} in the tuple.\")\n",
    "    print(\" \")\n",
    "    \n",
    "    #User enters position number\n",
    "    \n",
    "    end = len(countries) - 1\n",
    "    user_number = -1\n",
    "    \n",
    "    while user_number < 0 or end < user_number:\n",
    "        #prompt user for a number:\n",
    "        num = input(\"Please enter a number: \")\n",
    "        print(\" \")\n",
    "        \n",
    "        try:\n",
    "            #ensures that the value stays strictly an integer\n",
    "            user_number = int(num)\n",
    "        except ValueError:\n",
    "            print(\"Invalid input, please enter an integer\")\n",
    "            print(\" \")\n",
    "            continue\n",
    "        if user_number < 0 or end < user_number:\n",
    "            print(f\"Number must be between and including 0 and {end}\")\n",
    "            print(\" \")\n",
    "    \n",
    "    country = countries[user_number]\n",
    "    print(f\"The country at position {user_number} is {country}\")"
   ]
  },
  {
   "cell_type": "code",
   "execution_count": 10,
   "id": "668b50cd",
   "metadata": {
    "scrolled": false
   },
   "outputs": [
    {
     "name": "stdout",
     "output_type": "stream",
     "text": [
      "('South Africa', 'Japan', 'India', 'China', 'Sudan')\n",
      " \n",
      "Please enter a country displayed: nigeria\n",
      " \n",
      "Invalid input! Try again.\n",
      " \n",
      "Please enter a country display: russia\n",
      " \n",
      "Invalid input! Try again.\n",
      " \n",
      "Please enter a country display: south africa\n",
      " \n",
      "South Africa is found at position 0 in the tuple.\n",
      " \n",
      "Please enter a number: 5\n",
      " \n",
      "Number must be between and including 0 and 4\n",
      " \n",
      "Please enter a number: -8\n",
      " \n",
      "Number must be between and including 0 and 4\n",
      " \n",
      "Please enter a number: 0\n",
      " \n",
      "The country at position 0 is South Africa\n"
     ]
    }
   ],
   "source": [
    "countries_1()"
   ]
  },
  {
   "cell_type": "code",
   "execution_count": 11,
   "id": "4ed10bcd",
   "metadata": {
    "scrolled": false
   },
   "outputs": [
    {
     "name": "stdout",
     "output_type": "stream",
     "text": [
      "('South Africa', 'Japan', 'India', 'China', 'Sudan')\n",
      " \n",
      "Please enter a country displayed: jaPan\n",
      " \n",
      "Japan is found at position 1 in the tuple.\n",
      " \n",
      "Please enter a number: 1\n",
      " \n",
      "The country at position 1 is Japan\n"
     ]
    }
   ],
   "source": [
    "countries_1()"
   ]
  },
  {
   "cell_type": "code",
   "execution_count": 12,
   "id": "7f6acc4a",
   "metadata": {
    "scrolled": false
   },
   "outputs": [
    {
     "name": "stdout",
     "output_type": "stream",
     "text": [
      "('South Africa', 'Japan', 'India', 'China', 'Sudan')\n",
      " \n",
      "Please enter a country displayed: INDIA\n",
      " \n",
      "India is found at position 2 in the tuple.\n",
      " \n",
      "Please enter a number: 2\n",
      " \n",
      "The country at position 2 is India\n"
     ]
    }
   ],
   "source": [
    "countries_1()"
   ]
  },
  {
   "cell_type": "code",
   "execution_count": 13,
   "id": "6b2f23ab",
   "metadata": {
    "scrolled": false
   },
   "outputs": [
    {
     "name": "stdout",
     "output_type": "stream",
     "text": [
      "('South Africa', 'Japan', 'India', 'China', 'Sudan')\n",
      " \n",
      "Please enter a country displayed: cHiNa\n",
      " \n",
      "China is found at position 3 in the tuple.\n",
      " \n",
      "Please enter a number: 3\n",
      " \n",
      "The country at position 3 is China\n"
     ]
    }
   ],
   "source": [
    "countries_1()"
   ]
  },
  {
   "cell_type": "code",
   "execution_count": 14,
   "id": "d258e166",
   "metadata": {
    "scrolled": false
   },
   "outputs": [
    {
     "name": "stdout",
     "output_type": "stream",
     "text": [
      "('South Africa', 'Japan', 'India', 'China', 'Sudan')\n",
      " \n",
      "Please enter a country displayed: SuDaN\n",
      " \n",
      "Sudan is found at position 4 in the tuple.\n",
      " \n",
      "Please enter a number: 4\n",
      " \n",
      "The country at position 4 is Sudan\n"
     ]
    }
   ],
   "source": [
    "countries_1()"
   ]
  }
 ],
 "metadata": {
  "kernelspec": {
   "display_name": "Python 3 (ipykernel)",
   "language": "python",
   "name": "python3"
  },
  "language_info": {
   "codemirror_mode": {
    "name": "ipython",
    "version": 3
   },
   "file_extension": ".py",
   "mimetype": "text/x-python",
   "name": "python",
   "nbconvert_exporter": "python",
   "pygments_lexer": "ipython3",
   "version": "3.8.16"
  }
 },
 "nbformat": 4,
 "nbformat_minor": 5
}
