{
 "cells": [
  {
   "cell_type": "markdown",
   "id": "a827e017",
   "metadata": {},
   "source": [
    "# Simplified Version"
   ]
  },
  {
   "cell_type": "code",
   "execution_count": 1,
   "id": "8e9a6160",
   "metadata": {},
   "outputs": [],
   "source": [
    "def sub():\n",
    "    sub_list = [\"Mathematics\", \"Computer Science\", \"Physics\", \"Biology\", \"History\", \"English\"]\n",
    "    \n",
    "    #print subject list\n",
    "    print(sub_list)\n",
    "    print(\" \")\n",
    "    \n",
    "    #User inputs subject that is not their favourite.\n",
    "    user_sub = input(\"Which of the subjects displayed are your least favourite: \").strip().title()\n",
    "    print(\" \")\n",
    "    \n",
    "    sub_list.remove(user_sub)\n",
    "    print(sub_list)"
   ]
  },
  {
   "cell_type": "code",
   "execution_count": 2,
   "id": "e0a1bc76",
   "metadata": {},
   "outputs": [
    {
     "name": "stdout",
     "output_type": "stream",
     "text": [
      "['Mathematics', 'Computer Science', 'Physics', 'Biology', 'History', 'English']\n",
      " \n",
      "Which of the subjects displayed are your least favourite: physics\n",
      " \n",
      "['Mathematics', 'Computer Science', 'Biology', 'History', 'English']\n"
     ]
    }
   ],
   "source": [
    "sub()"
   ]
  },
  {
   "cell_type": "code",
   "execution_count": 3,
   "id": "9518fd7f",
   "metadata": {},
   "outputs": [
    {
     "name": "stdout",
     "output_type": "stream",
     "text": [
      "['Mathematics', 'Computer Science', 'Physics', 'Biology', 'History', 'English']\n",
      " \n",
      "Which of the subjects displayed are your least favourite: PHYSICS\n",
      " \n",
      "['Mathematics', 'Computer Science', 'Biology', 'History', 'English']\n"
     ]
    }
   ],
   "source": [
    "sub()"
   ]
  },
  {
   "cell_type": "code",
   "execution_count": 4,
   "id": "802d6d33",
   "metadata": {},
   "outputs": [
    {
     "name": "stdout",
     "output_type": "stream",
     "text": [
      "['Mathematics', 'Computer Science', 'Physics', 'Biology', 'History', 'English']\n",
      " \n",
      "Which of the subjects displayed are your least favourite: bio\n",
      " \n"
     ]
    },
    {
     "ename": "ValueError",
     "evalue": "list.remove(x): x not in list",
     "output_type": "error",
     "traceback": [
      "\u001b[1;31m---------------------------------------------------------------------------\u001b[0m",
      "\u001b[1;31mValueError\u001b[0m                                Traceback (most recent call last)",
      "Cell \u001b[1;32mIn[4], line 1\u001b[0m\n\u001b[1;32m----> 1\u001b[0m \u001b[43msub\u001b[49m\u001b[43m(\u001b[49m\u001b[43m)\u001b[49m\n",
      "Cell \u001b[1;32mIn[1], line 12\u001b[0m, in \u001b[0;36msub\u001b[1;34m()\u001b[0m\n\u001b[0;32m      9\u001b[0m user_sub \u001b[38;5;241m=\u001b[39m \u001b[38;5;28minput\u001b[39m(\u001b[38;5;124m\"\u001b[39m\u001b[38;5;124mWhich of the subjects displayed are your least favourite: \u001b[39m\u001b[38;5;124m\"\u001b[39m)\u001b[38;5;241m.\u001b[39mstrip()\u001b[38;5;241m.\u001b[39mtitle()\n\u001b[0;32m     10\u001b[0m \u001b[38;5;28mprint\u001b[39m(\u001b[38;5;124m\"\u001b[39m\u001b[38;5;124m \u001b[39m\u001b[38;5;124m\"\u001b[39m)\n\u001b[1;32m---> 12\u001b[0m \u001b[43msub_list\u001b[49m\u001b[38;5;241;43m.\u001b[39;49m\u001b[43mremove\u001b[49m\u001b[43m(\u001b[49m\u001b[43muser_sub\u001b[49m\u001b[43m)\u001b[49m\n\u001b[0;32m     13\u001b[0m \u001b[38;5;28mprint\u001b[39m(sub_list)\n",
      "\u001b[1;31mValueError\u001b[0m: list.remove(x): x not in list"
     ]
    }
   ],
   "source": [
    "sub()"
   ]
  },
  {
   "cell_type": "markdown",
   "id": "fa39c0c6",
   "metadata": {},
   "source": [
    " "
   ]
  },
  {
   "cell_type": "markdown",
   "id": "6c31c33f",
   "metadata": {},
   "source": [
    "# Modified Version"
   ]
  },
  {
   "cell_type": "code",
   "execution_count": 5,
   "id": "710d8479",
   "metadata": {},
   "outputs": [],
   "source": [
    "def sub_1():\n",
    "    sub_list = [\"Mathematics\", \"Computer Science\", \"Physics\", \"Biology\", \"History\", \"English\"]\n",
    "    \n",
    "    #print subject list\n",
    "    print(sub_list)\n",
    "    print(\" \")\n",
    "    \n",
    "    #User inputs subject that is not their favourite.\n",
    "    user_sub = input(\"Which of the subjects displayed are your least favourite: \").strip().title()\n",
    "    print(\" \")\n",
    "    \n",
    "    while user_sub not in sub_list:\n",
    "        print(\"Invalid input! Try again.\")\n",
    "        print(\" \")\n",
    "        user_sub = input(\"Which of the subjects displayed are your least favourite: \").strip().title()\n",
    "        print(\" \")\n",
    "    \n",
    "    sub_list.remove(user_sub)\n",
    "    print(sub_list)"
   ]
  },
  {
   "cell_type": "code",
   "execution_count": 6,
   "id": "63a37ec8",
   "metadata": {},
   "outputs": [
    {
     "name": "stdout",
     "output_type": "stream",
     "text": [
      "['Mathematics', 'Computer Science', 'Physics', 'Biology', 'History', 'English']\n",
      " \n",
      "Which of the subjects displayed are your least favourite: physics\n",
      " \n",
      "['Mathematics', 'Computer Science', 'Biology', 'History', 'English']\n"
     ]
    }
   ],
   "source": [
    "sub_1()"
   ]
  },
  {
   "cell_type": "code",
   "execution_count": 7,
   "id": "a654ee4f",
   "metadata": {},
   "outputs": [
    {
     "name": "stdout",
     "output_type": "stream",
     "text": [
      "['Mathematics', 'Computer Science', 'Physics', 'Biology', 'History', 'English']\n",
      " \n",
      "Which of the subjects displayed are your least favourite: PHYSICS\n",
      " \n",
      "['Mathematics', 'Computer Science', 'Biology', 'History', 'English']\n"
     ]
    }
   ],
   "source": [
    "sub_1()"
   ]
  },
  {
   "cell_type": "code",
   "execution_count": 8,
   "id": "c71c4f91",
   "metadata": {
    "scrolled": false
   },
   "outputs": [
    {
     "name": "stdout",
     "output_type": "stream",
     "text": [
      "['Mathematics', 'Computer Science', 'Physics', 'Biology', 'History', 'English']\n",
      " \n",
      "Which of the subjects displayed are your least favourite: bio\n",
      " \n",
      "Invalid input! Try again.\n",
      " \n",
      "Which of the subjects displayed are your least favourite: accounting\n",
      " \n",
      "Invalid input! Try again.\n",
      " \n",
      "Which of the subjects displayed are your least favourite: physics\n",
      " \n",
      "['Mathematics', 'Computer Science', 'Biology', 'History', 'English']\n"
     ]
    }
   ],
   "source": [
    "sub_1()"
   ]
  }
 ],
 "metadata": {
  "kernelspec": {
   "display_name": "Python 3 (ipykernel)",
   "language": "python",
   "name": "python3"
  },
  "language_info": {
   "codemirror_mode": {
    "name": "ipython",
    "version": 3
   },
   "file_extension": ".py",
   "mimetype": "text/x-python",
   "name": "python",
   "nbconvert_exporter": "python",
   "pygments_lexer": "ipython3",
   "version": "3.8.16"
  }
 },
 "nbformat": 4,
 "nbformat_minor": 5
}
