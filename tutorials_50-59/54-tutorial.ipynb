{
 "cells": [
  {
   "cell_type": "markdown",
   "id": "25da53ae",
   "metadata": {},
   "source": [
    "# Simplified Version"
   ]
  },
  {
   "cell_type": "code",
   "execution_count": 1,
   "id": "5b3d2526",
   "metadata": {},
   "outputs": [],
   "source": [
    "def colours():\n",
    "    col_list = [\"red\", \"blue\", \"green\", \"yellow\", \"orange\", \"purple\", \"pink\", \"brown\", \"gray\", \"black\"]\n",
    "    user_col = []\n",
    "    \n",
    "    num1 = int(input(\"Enter a number between and  including 0 and 4: \"))\n",
    "    print(\" \")\n",
    "    num2 = int(input(\"Enter a number between and  including 5 and 9: \"))\n",
    "    print(\" \")\n",
    "    \n",
    "    user_col.append(col_list[num1])\n",
    "    user_col.append(col_list[num2])\n",
    "    \n",
    "    print(user_col)"
   ]
  },
  {
   "cell_type": "code",
   "execution_count": 2,
   "id": "028f27fd",
   "metadata": {},
   "outputs": [
    {
     "name": "stdout",
     "output_type": "stream",
     "text": [
      "Enter a number between and  including 0 and 4: 0\n",
      " \n",
      "Enter a number between and  including 5 and 9: 9\n",
      " \n",
      "['red', 'black']\n"
     ]
    }
   ],
   "source": [
    "colours()"
   ]
  },
  {
   "cell_type": "code",
   "execution_count": 3,
   "id": "c2de5137",
   "metadata": {},
   "outputs": [
    {
     "name": "stdout",
     "output_type": "stream",
     "text": [
      "Enter a number between and  including 0 and 4: 2\n",
      " \n",
      "Enter a number between and  including 5 and 9: 7\n",
      " \n",
      "['green', 'brown']\n"
     ]
    }
   ],
   "source": [
    "colours()"
   ]
  },
  {
   "cell_type": "code",
   "execution_count": 4,
   "id": "d2fc4a78",
   "metadata": {},
   "outputs": [
    {
     "name": "stdout",
     "output_type": "stream",
     "text": [
      "Enter a number between and  including 0 and 4: 4\n",
      " \n",
      "Enter a number between and  including 5 and 9: 5\n",
      " \n",
      "['orange', 'purple']\n"
     ]
    }
   ],
   "source": [
    "colours()"
   ]
  },
  {
   "cell_type": "code",
   "execution_count": 5,
   "id": "b9ce084c",
   "metadata": {},
   "outputs": [
    {
     "name": "stdout",
     "output_type": "stream",
     "text": [
      "Enter a number between and  including 0 and 4: -1\n",
      " \n",
      "Enter a number between and  including 5 and 9: 10\n",
      " \n"
     ]
    },
    {
     "ename": "IndexError",
     "evalue": "list index out of range",
     "output_type": "error",
     "traceback": [
      "\u001b[1;31m---------------------------------------------------------------------------\u001b[0m",
      "\u001b[1;31mIndexError\u001b[0m                                Traceback (most recent call last)",
      "Cell \u001b[1;32mIn[5], line 1\u001b[0m\n\u001b[1;32m----> 1\u001b[0m \u001b[43mcolours\u001b[49m\u001b[43m(\u001b[49m\u001b[43m)\u001b[49m\n",
      "Cell \u001b[1;32mIn[1], line 11\u001b[0m, in \u001b[0;36mcolours\u001b[1;34m()\u001b[0m\n\u001b[0;32m      8\u001b[0m \u001b[38;5;28mprint\u001b[39m(\u001b[38;5;124m\"\u001b[39m\u001b[38;5;124m \u001b[39m\u001b[38;5;124m\"\u001b[39m)\n\u001b[0;32m     10\u001b[0m user_col\u001b[38;5;241m.\u001b[39mappend(col_list[num1])\n\u001b[1;32m---> 11\u001b[0m user_col\u001b[38;5;241m.\u001b[39mappend(\u001b[43mcol_list\u001b[49m\u001b[43m[\u001b[49m\u001b[43mnum2\u001b[49m\u001b[43m]\u001b[49m)\n\u001b[0;32m     13\u001b[0m \u001b[38;5;28mprint\u001b[39m(user_col)\n",
      "\u001b[1;31mIndexError\u001b[0m: list index out of range"
     ]
    }
   ],
   "source": [
    "colours()"
   ]
  },
  {
   "cell_type": "markdown",
   "id": "4b43c1f8",
   "metadata": {},
   "source": [
    "# Modified Version"
   ]
  },
  {
   "cell_type": "code",
   "execution_count": 6,
   "id": "3d66cce1",
   "metadata": {},
   "outputs": [],
   "source": [
    "def colours_1():\n",
    "    col_list = [\"red\", \"blue\", \"green\", \"yellow\", \"orange\", \"purple\", \"pink\", \"brown\", \"gray\", \"black\"]\n",
    "    user_col = []\n",
    "    \n",
    "    num1 = -1\n",
    "    \n",
    "    while num1 < 0 or 4 < num1:\n",
    "        num = input(\"Enter a number between and including 0 and 4: \")\n",
    "        print(\" \")\n",
    "        \n",
    "        try:\n",
    "            num1 = int(num)\n",
    "        except ValueError:\n",
    "            print(\"Invalid input, please enter an integer: \")\n",
    "            print(\" \")\n",
    "        if num1 < 0 or 4 < num1:\n",
    "            print(\"Number must be between and  including 0 and 4\")\n",
    "            print(\" \")\n",
    "    \n",
    "    num2 = 10\n",
    "    \n",
    "    while num2 < 5 or 9 < num2:\n",
    "        num = input(\"Enter a number between and including 5 and 9: \")\n",
    "        print(\" \")\n",
    "        \n",
    "        try:\n",
    "            num2 = int(num)\n",
    "        except ValueError:\n",
    "            print(\"Invalid input, please enter an integer: \")\n",
    "            print(\" \")\n",
    "        if num1 < 5 or 9 < num1:\n",
    "            print(\"Number must be between and  including 5 and 9\")\n",
    "            print(\" \")\n",
    "   \n",
    "    user_col.append(col_list[num1])\n",
    "    user_col.append(col_list[num2])\n",
    "    \n",
    "    print(user_col)"
   ]
  },
  {
   "cell_type": "code",
   "execution_count": 7,
   "id": "4a8c7156",
   "metadata": {},
   "outputs": [
    {
     "name": "stdout",
     "output_type": "stream",
     "text": [
      "Enter a number between and including 0 and 4: 0\n",
      " \n",
      "Enter a number between and including 5 and 9: 9\n",
      " \n",
      "Number must be between and  including 5 and 9\n",
      " \n",
      "['red', 'black']\n"
     ]
    }
   ],
   "source": [
    "colours_1()"
   ]
  },
  {
   "cell_type": "code",
   "execution_count": 8,
   "id": "172d5298",
   "metadata": {},
   "outputs": [
    {
     "name": "stdout",
     "output_type": "stream",
     "text": [
      "Enter a number between and including 0 and 4: 2\n",
      " \n",
      "Enter a number between and including 5 and 9: 7\n",
      " \n",
      "Number must be between and  including 5 and 9\n",
      " \n",
      "['green', 'brown']\n"
     ]
    }
   ],
   "source": [
    "colours_1()"
   ]
  },
  {
   "cell_type": "code",
   "execution_count": 9,
   "id": "34f56117",
   "metadata": {},
   "outputs": [
    {
     "name": "stdout",
     "output_type": "stream",
     "text": [
      "Enter a number between and including 0 and 4: 4\n",
      " \n",
      "Enter a number between and including 5 and 9: 5\n",
      " \n",
      "Number must be between and  including 5 and 9\n",
      " \n",
      "['orange', 'purple']\n"
     ]
    }
   ],
   "source": [
    "colours_1()"
   ]
  },
  {
   "cell_type": "code",
   "execution_count": 10,
   "id": "6d36c30d",
   "metadata": {},
   "outputs": [
    {
     "name": "stdout",
     "output_type": "stream",
     "text": [
      "Enter a number between and including 0 and 4: -1\n",
      " \n",
      "Number must be between and  including 0 and 4\n",
      " \n",
      "Enter a number between and including 0 and 4: 4\n",
      " \n",
      "Enter a number between and including 5 and 9: 10\n",
      " \n",
      "Number must be between and  including 5 and 9\n",
      " \n",
      "Enter a number between and including 5 and 9: 5\n",
      " \n",
      "Number must be between and  including 5 and 9\n",
      " \n",
      "['orange', 'purple']\n"
     ]
    }
   ],
   "source": [
    "colours_1()"
   ]
  }
 ],
 "metadata": {
  "kernelspec": {
   "display_name": "Python 3 (ipykernel)",
   "language": "python",
   "name": "python3"
  },
  "language_info": {
   "codemirror_mode": {
    "name": "ipython",
    "version": 3
   },
   "file_extension": ".py",
   "mimetype": "text/x-python",
   "name": "python",
   "nbconvert_exporter": "python",
   "pygments_lexer": "ipython3",
   "version": "3.8.16"
  }
 },
 "nbformat": 4,
 "nbformat_minor": 5
}
