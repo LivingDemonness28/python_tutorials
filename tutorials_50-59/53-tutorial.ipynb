{
 "cells": [
  {
   "cell_type": "code",
   "execution_count": 1,
   "id": "161211bf",
   "metadata": {},
   "outputs": [],
   "source": [
    "def food():\n",
    "    foods_dict = {}\n",
    "    \n",
    "    i = 1\n",
    "    j = 0\n",
    "    \n",
    "    while (i <= 4):\n",
    "        foods = input(f\"Please enter your food ({i}): \").strip().title()\n",
    "        foods_dict[j + 1] = foods\n",
    "        j += 1\n",
    "        i += 1\n",
    "        \n",
    "    print(foods_dict)"
   ]
  },
  {
   "cell_type": "code",
   "execution_count": 2,
   "id": "b8e9b890",
   "metadata": {
    "scrolled": true
   },
   "outputs": [
    {
     "name": "stdout",
     "output_type": "stream",
     "text": [
      "Please enter your food (1): biryani\n",
      "Please enter your food (2): BURGER\n",
      "Please enter your food (3): BrEaD\n",
      "Please enter your food (4): fRiEs\n",
      "{1: 'Biryani', 2: 'Burger', 3: 'Bread', 4: 'Fries'}\n"
     ]
    }
   ],
   "source": [
    "food()"
   ]
  }
 ],
 "metadata": {
  "kernelspec": {
   "display_name": "Python 3 (ipykernel)",
   "language": "python",
   "name": "python3"
  },
  "language_info": {
   "codemirror_mode": {
    "name": "ipython",
    "version": 3
   },
   "file_extension": ".py",
   "mimetype": "text/x-python",
   "name": "python",
   "nbconvert_exporter": "python",
   "pygments_lexer": "ipython3",
   "version": "3.8.16"
  }
 },
 "nbformat": 4,
 "nbformat_minor": 5
}
