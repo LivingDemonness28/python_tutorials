{
 "cells": [
  {
   "cell_type": "markdown",
   "id": "16fc00ee",
   "metadata": {},
   "source": [
    "# Libraries imported"
   ]
  },
  {
   "cell_type": "code",
   "execution_count": 1,
   "id": "b667d9f3",
   "metadata": {},
   "outputs": [],
   "source": [
    "import random"
   ]
  },
  {
   "cell_type": "markdown",
   "id": "2af31c41",
   "metadata": {},
   "source": [
    "# Function"
   ]
  },
  {
   "cell_type": "code",
   "execution_count": 2,
   "id": "466b49ad",
   "metadata": {},
   "outputs": [],
   "source": [
    "def three_digit():\n",
    "    a = random.randint(100, 999)\n",
    "    b = random.randint(100, 999)\n",
    "    c = random.randint(100, 999)\n",
    "    d = random.randint(100, 999)\n",
    "    \n",
    "    while (b == a):\n",
    "        b = random.randint(100, 999)\n",
    "        \n",
    "    while (c == a and c == b):\n",
    "        c = random.randint(100, 999)\n",
    "    \n",
    "    while (d == a and d == b and d == c):\n",
    "        d = random.randint(100, 999)\n",
    "    \n",
    "    three_dig = [a, b, c, d]\n",
    "    \n",
    "    print(\"Here's a list of 4 random three-digit number: \")\n",
    "    print(three_dig[0])\n",
    "    print(three_dig[1])\n",
    "    print(three_dig[2])\n",
    "    print(three_dig[3])\n",
    "    print(\" \")\n",
    "    \n",
    "    i = 0\n",
    "    \n",
    "    while (i < 3):\n",
    "        e = int(input(\"Please enter a three-digit number: \"))\n",
    "        \n",
    "        if any(element == e for element in three_dig):\n",
    "            position = three_dig.index(e)\n",
    "            print(\"{} is at the position {} in the list\".format(e, position))\n",
    "        else:\n",
    "            print(\"This is not in the list\")\n",
    "        print(\" \")\n",
    "        i += 1"
   ]
  },
  {
   "cell_type": "code",
   "execution_count": 3,
   "id": "2201d785",
   "metadata": {},
   "outputs": [
    {
     "name": "stdout",
     "output_type": "stream",
     "text": [
      "Here's a list of 4 random three-digit number: \n",
      "410\n",
      "797\n",
      "418\n",
      "311\n",
      " \n",
      "Please enter a three-digit number: 410\n",
      "410 is at the position 0 in the list\n",
      " \n",
      "Please enter a three-digit number: 311\n",
      "311 is at the position 3 in the list\n",
      " \n",
      "Please enter a three-digit number: 258\n",
      "This is not in the list\n",
      " \n"
     ]
    }
   ],
   "source": [
    "three_digit()"
   ]
  },
  {
   "cell_type": "code",
   "execution_count": 4,
   "id": "fbac9fb5",
   "metadata": {},
   "outputs": [
    {
     "name": "stdout",
     "output_type": "stream",
     "text": [
      "Here's a list of 4 random three-digit number: \n",
      "585\n",
      "674\n",
      "272\n",
      "231\n",
      " \n",
      "Please enter a three-digit number: 231\n",
      "231 is at the position 3 in the list\n",
      " \n",
      "Please enter a three-digit number: 585\n",
      "585 is at the position 0 in the list\n",
      " \n",
      "Please enter a three-digit number: 5858\n",
      "This is not in the list\n",
      " \n"
     ]
    }
   ],
   "source": [
    "three_digit()"
   ]
  },
  {
   "cell_type": "code",
   "execution_count": 5,
   "id": "fa6d7086",
   "metadata": {
    "scrolled": false
   },
   "outputs": [
    {
     "name": "stdout",
     "output_type": "stream",
     "text": [
      "Here's a list of 4 random three-digit number: \n",
      "624\n",
      "178\n",
      "252\n",
      "953\n",
      " \n",
      "Please enter a three-digit number: 624\n",
      "624 is at the position 0 in the list\n",
      " \n",
      "Please enter a three-digit number: 584\n",
      "This is not in the list\n",
      " \n",
      "Please enter a three-digit number: 584.2\n"
     ]
    },
    {
     "ename": "ValueError",
     "evalue": "invalid literal for int() with base 10: '584.2'",
     "output_type": "error",
     "traceback": [
      "\u001b[1;31m---------------------------------------------------------------------------\u001b[0m",
      "\u001b[1;31mValueError\u001b[0m                                Traceback (most recent call last)",
      "Cell \u001b[1;32mIn[5], line 1\u001b[0m\n\u001b[1;32m----> 1\u001b[0m \u001b[43mthree_digit\u001b[49m\u001b[43m(\u001b[49m\u001b[43m)\u001b[49m\n",
      "Cell \u001b[1;32mIn[2], line 28\u001b[0m, in \u001b[0;36mthree_digit\u001b[1;34m()\u001b[0m\n\u001b[0;32m     25\u001b[0m i \u001b[38;5;241m=\u001b[39m \u001b[38;5;241m0\u001b[39m\n\u001b[0;32m     27\u001b[0m \u001b[38;5;28;01mwhile\u001b[39;00m (i \u001b[38;5;241m<\u001b[39m \u001b[38;5;241m3\u001b[39m):\n\u001b[1;32m---> 28\u001b[0m     e \u001b[38;5;241m=\u001b[39m \u001b[38;5;28;43mint\u001b[39;49m\u001b[43m(\u001b[49m\u001b[38;5;28;43minput\u001b[39;49m\u001b[43m(\u001b[49m\u001b[38;5;124;43m\"\u001b[39;49m\u001b[38;5;124;43mPlease enter a three-digit number: \u001b[39;49m\u001b[38;5;124;43m\"\u001b[39;49m\u001b[43m)\u001b[49m\u001b[43m)\u001b[49m\n\u001b[0;32m     30\u001b[0m     \u001b[38;5;28;01mif\u001b[39;00m \u001b[38;5;28many\u001b[39m(element \u001b[38;5;241m==\u001b[39m e \u001b[38;5;28;01mfor\u001b[39;00m element \u001b[38;5;129;01min\u001b[39;00m three_dig):\n\u001b[0;32m     31\u001b[0m         position \u001b[38;5;241m=\u001b[39m three_dig\u001b[38;5;241m.\u001b[39mindex(e)\n",
      "\u001b[1;31mValueError\u001b[0m: invalid literal for int() with base 10: '584.2'"
     ]
    }
   ],
   "source": [
    "three_digit()"
   ]
  },
  {
   "cell_type": "markdown",
   "id": "1246ecb6",
   "metadata": {},
   "source": [
    "# Modified Function"
   ]
  },
  {
   "cell_type": "code",
   "execution_count": 6,
   "id": "ed1c9105",
   "metadata": {},
   "outputs": [],
   "source": [
    "def three_digit_1():\n",
    "    a = random.randint(100, 999)\n",
    "    b = random.randint(100, 999)\n",
    "    \n",
    "    while (b == a):\n",
    "        b = random.randint(100, 999)\n",
    "    \n",
    "    c = random.randint(100, 999)\n",
    "    \n",
    "    while (c == a and c == b):\n",
    "        c = random.randint(100, 999)\n",
    "    \n",
    "    d = random.randint(100, 999)\n",
    "    \n",
    "    while (d == a and d == b and d == c):\n",
    "        d = random.randint(100, 999)\n",
    "    \n",
    "    three_dig = [a, b, c, d]\n",
    "    \n",
    "    print(\"Here's a list of 4 random three-digit number: \")\n",
    "    print(three_dig[0])\n",
    "    print(three_dig[1])\n",
    "    print(three_dig[2])\n",
    "    print(three_dig[3])\n",
    "    print(\" \")\n",
    "    \n",
    "    i = 0\n",
    "    \n",
    "    while (i < 3):\n",
    "        e = 0\n",
    "        \n",
    "        while e < 100 or 999 < e:\n",
    "            f = input(\"Please enter a three-digit number: \")\n",
    "            try:\n",
    "                e = int(f)\n",
    "            except ValueError:\n",
    "                print(\"Invalid input, please enter an integer\")\n",
    "                print(\" \")\n",
    "                continue\n",
    "            if e < 100:\n",
    "                print(\"Number must be 100 or higher\")\n",
    "                print(\" \")\n",
    "            elif 999 < e:\n",
    "                print(\"Number must be 999 or lower\")\n",
    "                print(\" \")\n",
    "                \n",
    "        if any(element == e for element in three_dig):\n",
    "            position = three_dig.index(e)\n",
    "            print(\"{} is at the position {} in the list\".format(e, position))\n",
    "        else:\n",
    "            print(\"This is not in the list\")\n",
    "        print(\" \")\n",
    "        i += 1"
   ]
  },
  {
   "cell_type": "code",
   "execution_count": 7,
   "id": "90394024",
   "metadata": {
    "scrolled": true
   },
   "outputs": [
    {
     "name": "stdout",
     "output_type": "stream",
     "text": [
      "Here's a list of 4 random three-digit number: \n",
      "605\n",
      "267\n",
      "515\n",
      "540\n",
      " \n",
      "Please enter a three-digit number: 605\n",
      "605 is at the position 0 in the list\n",
      " \n",
      "Please enter a three-digit number: 515\n",
      "515 is at the position 2 in the list\n",
      " \n",
      "Please enter a three-digit number: 987\n",
      "This is not in the list\n",
      " \n"
     ]
    }
   ],
   "source": [
    "three_digit_1()"
   ]
  },
  {
   "cell_type": "code",
   "execution_count": 8,
   "id": "feeb9b1d",
   "metadata": {
    "scrolled": false
   },
   "outputs": [
    {
     "name": "stdout",
     "output_type": "stream",
     "text": [
      "Here's a list of 4 random three-digit number: \n",
      "301\n",
      "886\n",
      "298\n",
      "713\n",
      " \n",
      "Please enter a three-digit number: 301\n",
      "301 is at the position 0 in the list\n",
      " \n",
      "Please enter a three-digit number: 298.5\n",
      "Invalid input, please enter an integer\n",
      " \n",
      "Please enter a three-digit number: 298\n",
      "298 is at the position 2 in the list\n",
      " \n",
      "Please enter a three-digit number: 7135\n",
      "Number must be 999 or lower\n",
      " \n",
      "Please enter a three-digit number: 56\n",
      "Number must be 100 or higher\n",
      " \n",
      "Please enter a three-digit number: 587\n",
      "This is not in the list\n",
      " \n"
     ]
    }
   ],
   "source": [
    "three_digit_1()"
   ]
  }
 ],
 "metadata": {
  "kernelspec": {
   "display_name": "Python 3 (ipykernel)",
   "language": "python",
   "name": "python3"
  },
  "language_info": {
   "codemirror_mode": {
    "name": "ipython",
    "version": 3
   },
   "file_extension": ".py",
   "mimetype": "text/x-python",
   "name": "python",
   "nbconvert_exporter": "python",
   "pygments_lexer": "ipython3",
   "version": "3.8.16"
  }
 },
 "nbformat": 4,
 "nbformat_minor": 5
}
