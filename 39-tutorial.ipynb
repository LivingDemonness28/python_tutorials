{
 "cells": [
  {
   "cell_type": "code",
   "execution_count": 1,
   "id": "45585025",
   "metadata": {},
   "outputs": [],
   "source": [
    "def repstr():\n",
    "    oldstr = input(\"Please enter a string: \")\n",
    "    print(\" \")\n",
    "    newstr = input(\"Please enter replacement string: \")\n",
    "    print(\" \")\n",
    "    \n",
    "    oldstr = newstr\n",
    "    \n",
    "    print(\"The replacement string is \" + oldstr)"
   ]
  },
  {
   "cell_type": "code",
   "execution_count": 2,
   "id": "1e05c756",
   "metadata": {},
   "outputs": [
    {
     "name": "stdout",
     "output_type": "stream",
     "text": [
      "Please enter a string: LivingDemonness28\n",
      " \n",
      "Please enter replacement string: Chocolate\n",
      " \n",
      "The replacement string is Chocolate\n"
     ]
    }
   ],
   "source": [
    "repstr()"
   ]
  }
 ],
 "metadata": {
  "kernelspec": {
   "display_name": "Python 3 (ipykernel)",
   "language": "python",
   "name": "python3"
  },
  "language_info": {
   "codemirror_mode": {
    "name": "ipython",
    "version": 3
   },
   "file_extension": ".py",
   "mimetype": "text/x-python",
   "name": "python",
   "nbconvert_exporter": "python",
   "pygments_lexer": "ipython3",
   "version": "3.8.16"
  }
 },
 "nbformat": 4,
 "nbformat_minor": 5
}
