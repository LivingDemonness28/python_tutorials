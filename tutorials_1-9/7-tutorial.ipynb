{
 "cells": [
  {
   "cell_type": "code",
   "execution_count": 5,
   "id": "3d08d184",
   "metadata": {},
   "outputs": [],
   "source": [
    "def asc():\n",
    "    n1 = float(input(\"Please enter a number: \"))\n",
    "    n2 = float(input(\"Please enter a number: \"))\n",
    "    if (n1 > n2):\n",
    "        print(n2, \"and\", n1)\n",
    "    else:\n",
    "        print(n1, \"and\", n2)"
   ]
  },
  {
   "cell_type": "code",
   "execution_count": 6,
   "id": "89f85aa1",
   "metadata": {},
   "outputs": [
    {
     "name": "stdout",
     "output_type": "stream",
     "text": [
      "Please enter a number: 25\n",
      "Please enter a number: 12\n",
      "12.0 and 25.0\n"
     ]
    }
   ],
   "source": [
    "asc()"
   ]
  },
  {
   "cell_type": "code",
   "execution_count": 7,
   "id": "1913e4db",
   "metadata": {},
   "outputs": [
    {
     "name": "stdout",
     "output_type": "stream",
     "text": [
      "Please enter a number: 12.2\n",
      "Please enter a number: 12.1\n",
      "12.1 and 12.2\n"
     ]
    }
   ],
   "source": [
    "asc()"
   ]
  },
  {
   "cell_type": "code",
   "execution_count": 9,
   "id": "5ff83399",
   "metadata": {},
   "outputs": [
    {
     "name": "stdout",
     "output_type": "stream",
     "text": [
      "Please enter a number: 13\n",
      "Please enter a number: 26\n",
      "13.0 and 26.0\n"
     ]
    }
   ],
   "source": [
    "asc()"
   ]
  },
  {
   "cell_type": "code",
   "execution_count": 10,
   "id": "e927e562",
   "metadata": {},
   "outputs": [
    {
     "name": "stdout",
     "output_type": "stream",
     "text": [
      "Please enter a number: 13.1\n",
      "Please enter a number: 13.2\n",
      "13.1 and 13.2\n"
     ]
    }
   ],
   "source": [
    "asc()"
   ]
  }
 ],
 "metadata": {
  "kernelspec": {
   "display_name": "Python 3 (ipykernel)",
   "language": "python",
   "name": "python3"
  },
  "language_info": {
   "codemirror_mode": {
    "name": "ipython",
    "version": 3
   },
   "file_extension": ".py",
   "mimetype": "text/x-python",
   "name": "python",
   "nbconvert_exporter": "python",
   "pygments_lexer": "ipython3",
   "version": "3.8.16"
  }
 },
 "nbformat": 4,
 "nbformat_minor": 5
}
