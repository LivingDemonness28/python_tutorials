{
 "cells": [
  {
   "cell_type": "markdown",
   "id": "289fab00",
   "metadata": {},
   "source": [
    "### <center>Listing 1: Expressions</center>"
   ]
  },
  {
   "cell_type": "code",
   "execution_count": 2,
   "id": "3e0b7347",
   "metadata": {},
   "outputs": [],
   "source": [
    "width = 17\n",
    "height = 12.0"
   ]
  },
  {
   "cell_type": "code",
   "execution_count": 9,
   "id": "1843eb83",
   "metadata": {},
   "outputs": [
    {
     "name": "stdout",
     "output_type": "stream",
     "text": [
      "17\n"
     ]
    }
   ],
   "source": [
    "print(width)"
   ]
  },
  {
   "cell_type": "code",
   "execution_count": 10,
   "id": "e2f225e7",
   "metadata": {},
   "outputs": [
    {
     "data": {
      "text/plain": [
       "int"
      ]
     },
     "execution_count": 10,
     "metadata": {},
     "output_type": "execute_result"
    }
   ],
   "source": [
    "#Type of the width\n",
    "type(width)"
   ]
  },
  {
   "cell_type": "code",
   "execution_count": 11,
   "id": "74851104",
   "metadata": {},
   "outputs": [
    {
     "name": "stdout",
     "output_type": "stream",
     "text": [
      "12.0\n"
     ]
    }
   ],
   "source": [
    "print(height)"
   ]
  },
  {
   "cell_type": "code",
   "execution_count": 12,
   "id": "df935446",
   "metadata": {},
   "outputs": [
    {
     "data": {
      "text/plain": [
       "float"
      ]
     },
     "execution_count": 12,
     "metadata": {},
     "output_type": "execute_result"
    }
   ],
   "source": [
    "#Type of the height\n",
    "type(height)"
   ]
  },
  {
   "cell_type": "markdown",
   "id": "f4e82a6b",
   "metadata": {},
   "source": [
    "### <center>Listing 2: Variable Creation</center>"
   ]
  },
  {
   "cell_type": "code",
   "execution_count": 13,
   "id": "fc0a481e",
   "metadata": {},
   "outputs": [
    {
     "data": {
      "text/plain": [
       "8"
      ]
     },
     "execution_count": 13,
     "metadata": {},
     "output_type": "execute_result"
    }
   ],
   "source": [
    "#Returns how many times 2 goes into 17\n",
    "width//2"
   ]
  },
  {
   "cell_type": "code",
   "execution_count": 14,
   "id": "b36c1ad5",
   "metadata": {},
   "outputs": [
    {
     "data": {
      "text/plain": [
       "8.5"
      ]
     },
     "execution_count": 14,
     "metadata": {},
     "output_type": "execute_result"
    }
   ],
   "source": [
    "#Returns the value of 17 divided by 2\n",
    "width/2.0"
   ]
  },
  {
   "cell_type": "code",
   "execution_count": 15,
   "id": "1b8a4c84",
   "metadata": {},
   "outputs": [
    {
     "data": {
      "text/plain": [
       "4.0"
      ]
     },
     "execution_count": 15,
     "metadata": {},
     "output_type": "execute_result"
    }
   ],
   "source": [
    "#Returns the value of 12.0 divided by 3\n",
    "height/3"
   ]
  },
  {
   "cell_type": "code",
   "execution_count": 16,
   "id": "d94f7787",
   "metadata": {},
   "outputs": [
    {
     "data": {
      "text/plain": [
       "11"
      ]
     },
     "execution_count": 16,
     "metadata": {},
     "output_type": "execute_result"
    }
   ],
   "source": [
    "1 + 2 * 5"
   ]
  }
 ],
 "metadata": {
  "kernelspec": {
   "display_name": "Python 3 (ipykernel)",
   "language": "python",
   "name": "python3"
  },
  "language_info": {
   "codemirror_mode": {
    "name": "ipython",
    "version": 3
   },
   "file_extension": ".py",
   "mimetype": "text/x-python",
   "name": "python",
   "nbconvert_exporter": "python",
   "pygments_lexer": "ipython3",
   "version": "3.8.16"
  }
 },
 "nbformat": 4,
 "nbformat_minor": 5
}
