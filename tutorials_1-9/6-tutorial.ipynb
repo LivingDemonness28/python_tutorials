{
 "cells": [
  {
   "cell_type": "markdown",
   "id": "7df13d91",
   "metadata": {},
   "source": [
    "1. You look at the clock and it is exactly 2pm. You set an alarm to go off in 51 hours. At what time does the alarm go off? (Hint: you could count on your fingers, but this is not what we’re after. If you are tempted to count on your fingers, change the 51 to 5100.)"
   ]
  },
  {
   "cell_type": "code",
   "execution_count": 1,
   "id": "9134ea73",
   "metadata": {},
   "outputs": [
    {
     "name": "stdout",
     "output_type": "stream",
     "text": [
      "17\n"
     ]
    }
   ],
   "source": [
    "print((51%24)+14)"
   ]
  },
  {
   "cell_type": "markdown",
   "id": "90ca2962",
   "metadata": {},
   "source": [
    "2. Write a Python program to solve the general version of the above problem. Ask the user for the time now (in hours), and ask for the number of hours to wait. Your program should output what the time will be on the clock when the alarm goes of"
   ]
  },
  {
   "cell_type": "markdown",
   "id": "a6281cdf",
   "metadata": {},
   "source": [
    "### 24 hour format"
   ]
  },
  {
   "cell_type": "code",
   "execution_count": 11,
   "id": "5517efd5",
   "metadata": {},
   "outputs": [],
   "source": [
    "def alarm_24():\n",
    "    #User inputs the current hour of the time between 0 and 23\n",
    "    hour = int(input(\"Please enter the current hour in 24 hour format: \"))\n",
    "    #User inputs hours to wait\n",
    "    hour1 = int(input(\"Please enter hours to wait: \"))\n",
    "    time = (hour + hour1) % 24\n",
    "    a = f\"{time:02}:00\"\n",
    "    print(\"The alarm goes off at: \" + a)"
   ]
  },
  {
   "cell_type": "code",
   "execution_count": 13,
   "id": "c368bcf1",
   "metadata": {},
   "outputs": [
    {
     "name": "stdout",
     "output_type": "stream",
     "text": [
      "Please enter the current hour in 24 hour format: 23\n",
      "Please enter hours to wait: 1\n",
      "The alarm goes off at: 00:00\n"
     ]
    }
   ],
   "source": [
    "alarm_24()"
   ]
  },
  {
   "cell_type": "markdown",
   "id": "58b4f8cc",
   "metadata": {},
   "source": [
    "### 12 hour format"
   ]
  },
  {
   "cell_type": "code",
   "execution_count": 25,
   "id": "a1e80bf2",
   "metadata": {},
   "outputs": [],
   "source": [
    "def alarm_12():\n",
    "    #User inputs the current hour of the time between 0 and 23\n",
    "    hour = int(input(\"Please enter the current hour in 24 hour format: \"))\n",
    "    #User inputs hours to wait\n",
    "    hour1 = int(input(\"Please enter hours to wait: \"))\n",
    "    time = (hour + hour1) % 24\n",
    "    if(time == 0):\n",
    "        time = 12\n",
    "        am_pm = \"am\"\n",
    "        a = f\"{time:02}:00 {am_pm}\"\n",
    "        print(\"The alarm goes off at: \" + a)\n",
    "    elif(1 <= time < 12):\n",
    "        am_pm = \"am\"\n",
    "        a = f\"{time:02}:00 {am_pm}\"\n",
    "        print(\"The alarm goes off at: \" + a)\n",
    "    elif(time == 12):\n",
    "        am_pm = \"pm\"\n",
    "        a = f\"{time:02}:00 {am_pm}\"\n",
    "        print(\"The alarm goes off at: \" + a)\n",
    "    else:\n",
    "        time = time - 12\n",
    "        am_pm = \"pm\"\n",
    "        a = f\"{time:02}:00 {am_pm}\"\n",
    "        print(\"The alarm goes off at: \" + a)"
   ]
  },
  {
   "cell_type": "code",
   "execution_count": 20,
   "id": "47a1092b",
   "metadata": {},
   "outputs": [
    {
     "name": "stdout",
     "output_type": "stream",
     "text": [
      "Please enter the current hour in 24 hour format: 23\n",
      "Please enter hours to wait: 2\n",
      "The alarm goes off at: 01:00 am\n"
     ]
    }
   ],
   "source": [
    "alarm_12()"
   ]
  },
  {
   "cell_type": "code",
   "execution_count": 23,
   "id": "7715837d",
   "metadata": {},
   "outputs": [
    {
     "name": "stdout",
     "output_type": "stream",
     "text": [
      "Please enter the current hour in 24 hour format: 11\n",
      "Please enter hours to wait: 2\n",
      "The alarm goes off at: 01:00 pm\n"
     ]
    }
   ],
   "source": [
    "alarm_12()"
   ]
  },
  {
   "cell_type": "code",
   "execution_count": 26,
   "id": "3d29d2db",
   "metadata": {},
   "outputs": [
    {
     "name": "stdout",
     "output_type": "stream",
     "text": [
      "Please enter the current hour in 24 hour format: 23\n",
      "Please enter hours to wait: 1\n",
      "The alarm goes off at: 12:00 am\n"
     ]
    }
   ],
   "source": [
    "alarm_12()"
   ]
  },
  {
   "cell_type": "code",
   "execution_count": 28,
   "id": "35e75944",
   "metadata": {},
   "outputs": [
    {
     "name": "stdout",
     "output_type": "stream",
     "text": [
      "Please enter the current hour in 24 hour format: 11\n",
      "Please enter hours to wait: 1\n",
      "The alarm goes off at: 12:00 pm\n"
     ]
    }
   ],
   "source": [
    "alarm_12()"
   ]
  }
 ],
 "metadata": {
  "kernelspec": {
   "display_name": "Python 3 (ipykernel)",
   "language": "python",
   "name": "python3"
  },
  "language_info": {
   "codemirror_mode": {
    "name": "ipython",
    "version": 3
   },
   "file_extension": ".py",
   "mimetype": "text/x-python",
   "name": "python",
   "nbconvert_exporter": "python",
   "pygments_lexer": "ipython3",
   "version": "3.8.16"
  }
 },
 "nbformat": 4,
 "nbformat_minor": 5
}
