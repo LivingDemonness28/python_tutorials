{
 "cells": [
  {
   "cell_type": "code",
   "execution_count": 12,
   "id": "854304f9",
   "metadata": {},
   "outputs": [],
   "source": [
    "def pay():\n",
    "    rate = float(input(\"Please enter your hourly pay: \"))\n",
    "\n",
    "    if (rate > 0):\n",
    "        hour = float(input(\"Please enter your hours: \"))\n",
    "    \n",
    "        if (0 < hour <= 40):\n",
    "            tp = rate * hour\n",
    "            print(\"Your total pay is\", round(tp, 2))\n",
    "        elif (hour > 40):\n",
    "            p = rate * 40\n",
    "            time = hour - 40\n",
    "            p1 = (1.5*rate)*time\n",
    "            tp1 = p + p1\n",
    "            print(\"Your total pay is\", round(tp1, 2))\n",
    "        else:\n",
    "            print(\"Invalid Input\")\n",
    "    else:\n",
    "        print(\"Invalid Input\")"
   ]
  },
  {
   "cell_type": "code",
   "execution_count": 13,
   "id": "ac3db3df",
   "metadata": {},
   "outputs": [
    {
     "name": "stdout",
     "output_type": "stream",
     "text": [
      "Please enter your hourly pay: 4\n",
      "Please enter your hours: 5\n",
      "Your total pay is 20.0\n"
     ]
    }
   ],
   "source": [
    "pay()"
   ]
  },
  {
   "cell_type": "code",
   "execution_count": 14,
   "id": "1dc8c14d",
   "metadata": {},
   "outputs": [
    {
     "name": "stdout",
     "output_type": "stream",
     "text": [
      "Please enter your hourly pay: -5\n",
      "Invalid Input\n"
     ]
    }
   ],
   "source": [
    "pay()"
   ]
  },
  {
   "cell_type": "code",
   "execution_count": 15,
   "id": "735c534d",
   "metadata": {},
   "outputs": [
    {
     "name": "stdout",
     "output_type": "stream",
     "text": [
      "Please enter your hourly pay: 5\n",
      "Please enter your hours: -5\n",
      "Invalid Input\n"
     ]
    }
   ],
   "source": [
    "pay()"
   ]
  },
  {
   "cell_type": "code",
   "execution_count": 17,
   "id": "d1bf6fe1",
   "metadata": {},
   "outputs": [
    {
     "name": "stdout",
     "output_type": "stream",
     "text": [
      "Please enter your hourly pay: 50\n",
      "Please enter your hours: 45\n",
      "Your total pay is 2375.0\n"
     ]
    }
   ],
   "source": [
    "pay()"
   ]
  }
 ],
 "metadata": {
  "kernelspec": {
   "display_name": "Python 3 (ipykernel)",
   "language": "python",
   "name": "python3"
  },
  "language_info": {
   "codemirror_mode": {
    "name": "ipython",
    "version": 3
   },
   "file_extension": ".py",
   "mimetype": "text/x-python",
   "name": "python",
   "nbconvert_exporter": "python",
   "pygments_lexer": "ipython3",
   "version": "3.8.16"
  }
 },
 "nbformat": 4,
 "nbformat_minor": 5
}
