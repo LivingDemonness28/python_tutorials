{
 "cells": [
  {
   "cell_type": "markdown",
   "id": "e6397066",
   "metadata": {},
   "source": [
    "# 1st way to do it"
   ]
  },
  {
   "cell_type": "code",
   "execution_count": 7,
   "id": "146c279b",
   "metadata": {},
   "outputs": [],
   "source": [
    "def tnt(num):\n",
    "    if (10 < num <= 20):\n",
    "        print(\"Thank you\")\n",
    "    else:\n",
    "        print(\"Incorrect answer\")"
   ]
  },
  {
   "cell_type": "code",
   "execution_count": 8,
   "id": "11b95191",
   "metadata": {},
   "outputs": [
    {
     "name": "stdout",
     "output_type": "stream",
     "text": [
      "Incorrect answer\n"
     ]
    }
   ],
   "source": [
    "tnt(10)"
   ]
  },
  {
   "cell_type": "code",
   "execution_count": 9,
   "id": "f54fd60e",
   "metadata": {},
   "outputs": [
    {
     "name": "stdout",
     "output_type": "stream",
     "text": [
      "Thank you\n"
     ]
    }
   ],
   "source": [
    "tnt(15)"
   ]
  },
  {
   "cell_type": "code",
   "execution_count": 10,
   "id": "272e6db1",
   "metadata": {},
   "outputs": [
    {
     "name": "stdout",
     "output_type": "stream",
     "text": [
      "Thank you\n"
     ]
    }
   ],
   "source": [
    "tnt(20)"
   ]
  },
  {
   "cell_type": "code",
   "execution_count": 11,
   "id": "a26a68eb",
   "metadata": {},
   "outputs": [
    {
     "name": "stdout",
     "output_type": "stream",
     "text": [
      "Incorrect answer\n"
     ]
    }
   ],
   "source": [
    "tnt(21)"
   ]
  },
  {
   "cell_type": "markdown",
   "id": "8855e998",
   "metadata": {},
   "source": [
    "# 2nd way to do it"
   ]
  },
  {
   "cell_type": "code",
   "execution_count": 14,
   "id": "a7a9ce9d",
   "metadata": {},
   "outputs": [],
   "source": [
    "def tnt_1():\n",
    "    num = float(input(\"Please enter a number between 10 and 20(Inclusive): \"))\n",
    "    if (10 < num <= 20):\n",
    "        print(\"Thank you\")\n",
    "    else:\n",
    "        print(\"Incorrect answer\")"
   ]
  },
  {
   "cell_type": "code",
   "execution_count": 15,
   "id": "b158acaa",
   "metadata": {},
   "outputs": [
    {
     "name": "stdout",
     "output_type": "stream",
     "text": [
      "Please enter a number between 10 and 20(Inclusive): 10\n",
      "Incorrect answer\n"
     ]
    }
   ],
   "source": [
    "tnt_1()"
   ]
  },
  {
   "cell_type": "code",
   "execution_count": 16,
   "id": "7c21797b",
   "metadata": {},
   "outputs": [
    {
     "name": "stdout",
     "output_type": "stream",
     "text": [
      "Please enter a number between 10 and 20(Inclusive): 15\n",
      "Thank you\n"
     ]
    }
   ],
   "source": [
    "tnt_1()"
   ]
  },
  {
   "cell_type": "code",
   "execution_count": 17,
   "id": "571da4a2",
   "metadata": {},
   "outputs": [
    {
     "name": "stdout",
     "output_type": "stream",
     "text": [
      "Please enter a number between 10 and 20(Inclusive): 20\n",
      "Thank you\n"
     ]
    }
   ],
   "source": [
    "tnt_1()"
   ]
  },
  {
   "cell_type": "code",
   "execution_count": 18,
   "id": "5fcf8ba7",
   "metadata": {},
   "outputs": [
    {
     "name": "stdout",
     "output_type": "stream",
     "text": [
      "Please enter a number between 10 and 20(Inclusive): 21\n",
      "Incorrect answer\n"
     ]
    }
   ],
   "source": [
    "tnt_1()"
   ]
  }
 ],
 "metadata": {
  "kernelspec": {
   "display_name": "Python 3 (ipykernel)",
   "language": "python",
   "name": "python3"
  },
  "language_info": {
   "codemirror_mode": {
    "name": "ipython",
    "version": 3
   },
   "file_extension": ".py",
   "mimetype": "text/x-python",
   "name": "python",
   "nbconvert_exporter": "python",
   "pygments_lexer": "ipython3",
   "version": "3.8.16"
  }
 },
 "nbformat": 4,
 "nbformat_minor": 5
}
