{
 "cells": [
  {
   "cell_type": "markdown",
   "id": "e5419a4a",
   "metadata": {},
   "source": [
    "Take the sentence: All work and no play makes Jack a dull boy. Store each word in a separate variable, then print out the sentence on one line using print."
   ]
  },
  {
   "cell_type": "code",
   "execution_count": 2,
   "id": "63cc0864",
   "metadata": {},
   "outputs": [
    {
     "name": "stdout",
     "output_type": "stream",
     "text": [
      "All work and no play makes Jack a dull boy.\n"
     ]
    }
   ],
   "source": [
    "a = \"All\"\n",
    "b = \"work\"\n",
    "c = \"and\"\n",
    "d = \"no\"\n",
    "e = \"play\"\n",
    "f = \"makes\"\n",
    "g = \"Jack\"\n",
    "h = \"a\"\n",
    "i = \"dull\"\n",
    "j = \"boy.\"\n",
    "print(a + \" \" + b + \" \" + c + \" \" + d + \" \" + e + \" \" + f + \" \" + g + \" \" + h + \" \" + i + \" \" + j)"
   ]
  },
  {
   "cell_type": "markdown",
   "id": "f4210401",
   "metadata": {},
   "source": [
    "Add parenthesis to the expression 6 * 1 - 2 to change its value from 4 to -6"
   ]
  },
  {
   "cell_type": "code",
   "execution_count": 3,
   "id": "8b41e7d9",
   "metadata": {},
   "outputs": [
    {
     "data": {
      "text/plain": [
       "-6"
      ]
     },
     "execution_count": 3,
     "metadata": {},
     "output_type": "execute_result"
    }
   ],
   "source": [
    "6 * (1 - 2)"
   ]
  },
  {
   "cell_type": "markdown",
   "id": "00663ea2",
   "metadata": {},
   "source": [
    "Start the Python interpreter and enter <strong>bruce + 4</strong> at the prompt. Report the error that it gives you. Could you justify the reason for the error message?"
   ]
  },
  {
   "cell_type": "code",
   "execution_count": 4,
   "id": "05802fa6",
   "metadata": {},
   "outputs": [
    {
     "ename": "NameError",
     "evalue": "name 'bruce' is not defined",
     "output_type": "error",
     "traceback": [
      "\u001b[1;31m---------------------------------------------------------------------------\u001b[0m",
      "\u001b[1;31mNameError\u001b[0m                                 Traceback (most recent call last)",
      "Cell \u001b[1;32mIn[4], line 1\u001b[0m\n\u001b[1;32m----> 1\u001b[0m \u001b[43mbruce\u001b[49m \u001b[38;5;241m+\u001b[39m \u001b[38;5;241m4\u001b[39m\n",
      "\u001b[1;31mNameError\u001b[0m: name 'bruce' is not defined"
     ]
    }
   ],
   "source": [
    "bruce + 4"
   ]
  },
  {
   "cell_type": "markdown",
   "id": "466a7c40",
   "metadata": {},
   "source": [
    "<strong>Answer:</strong>\n",
    "<br>\n",
    "This is because Python doesn't know what bruce is or what value it holds, and therefore can't perform the addition operation with it.\n",
    "\n",
    "Bruce is string while 4 is an integer therefore this code can neither be concatenated or added together."
   ]
  },
  {
   "cell_type": "markdown",
   "id": "53696d02",
   "metadata": {},
   "source": [
    "Assign a value to bruce so that bruce + 4 evaluates to 10."
   ]
  },
  {
   "cell_type": "code",
   "execution_count": 6,
   "id": "b9b81c36",
   "metadata": {},
   "outputs": [
    {
     "name": "stdout",
     "output_type": "stream",
     "text": [
      "10\n"
     ]
    }
   ],
   "source": [
    "bruce = 6\n",
    "print(bruce + 4)"
   ]
  }
 ],
 "metadata": {
  "kernelspec": {
   "display_name": "Python 3 (ipykernel)",
   "language": "python",
   "name": "python3"
  },
  "language_info": {
   "codemirror_mode": {
    "name": "ipython",
    "version": 3
   },
   "file_extension": ".py",
   "mimetype": "text/x-python",
   "name": "python",
   "nbconvert_exporter": "python",
   "pygments_lexer": "ipython3",
   "version": "3.8.16"
  }
 },
 "nbformat": 4,
 "nbformat_minor": 5
}
