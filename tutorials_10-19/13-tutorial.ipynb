{
 "cells": [
  {
   "cell_type": "markdown",
   "id": "0d5cb9d0",
   "metadata": {},
   "source": [
    "# 1st way to do it"
   ]
  },
  {
   "cell_type": "code",
   "execution_count": 1,
   "id": "4b1f34d7",
   "metadata": {},
   "outputs": [],
   "source": [
    "def between(num):\n",
    "    if (num < 10):\n",
    "        print(\"Too low\")\n",
    "    elif (10 <= num <= 20):\n",
    "        print(\"Correct\")\n",
    "    else:\n",
    "        print(\"Too high\")"
   ]
  },
  {
   "cell_type": "code",
   "execution_count": 2,
   "id": "a7e71e9e",
   "metadata": {},
   "outputs": [
    {
     "name": "stdout",
     "output_type": "stream",
     "text": [
      "Too low\n"
     ]
    }
   ],
   "source": [
    "between(1)"
   ]
  },
  {
   "cell_type": "code",
   "execution_count": 3,
   "id": "04204ea6",
   "metadata": {},
   "outputs": [
    {
     "name": "stdout",
     "output_type": "stream",
     "text": [
      "Correct\n"
     ]
    }
   ],
   "source": [
    "between(10)"
   ]
  },
  {
   "cell_type": "code",
   "execution_count": 4,
   "id": "5f17e72e",
   "metadata": {},
   "outputs": [
    {
     "name": "stdout",
     "output_type": "stream",
     "text": [
      "Correct\n"
     ]
    }
   ],
   "source": [
    "between(15)"
   ]
  },
  {
   "cell_type": "code",
   "execution_count": 5,
   "id": "fbd5d144",
   "metadata": {},
   "outputs": [
    {
     "name": "stdout",
     "output_type": "stream",
     "text": [
      "Correct\n"
     ]
    }
   ],
   "source": [
    "between(20)"
   ]
  },
  {
   "cell_type": "code",
   "execution_count": 6,
   "id": "9e60f9a5",
   "metadata": {},
   "outputs": [
    {
     "name": "stdout",
     "output_type": "stream",
     "text": [
      "Too high\n"
     ]
    }
   ],
   "source": [
    "between(21)"
   ]
  },
  {
   "cell_type": "code",
   "execution_count": 7,
   "id": "b98aa4a2",
   "metadata": {},
   "outputs": [
    {
     "name": "stdout",
     "output_type": "stream",
     "text": [
      "Too high\n"
     ]
    }
   ],
   "source": [
    "between(20.01)"
   ]
  },
  {
   "cell_type": "markdown",
   "id": "324638b9",
   "metadata": {},
   "source": [
    "# 2nd way to do it"
   ]
  },
  {
   "cell_type": "code",
   "execution_count": 12,
   "id": "6ff786e9",
   "metadata": {},
   "outputs": [],
   "source": [
    "def between_1():\n",
    "    num = float(input(\"Please enter a number: \"))\n",
    "    if (num < 10):\n",
    "        print(\"Too low\")\n",
    "    elif (10 <= num <= 20):\n",
    "        print(\"Correct\")\n",
    "    else:\n",
    "        print(\"Too high\")"
   ]
  },
  {
   "cell_type": "code",
   "execution_count": 13,
   "id": "6e0f23e7",
   "metadata": {},
   "outputs": [
    {
     "name": "stdout",
     "output_type": "stream",
     "text": [
      "Please enter a number: 1\n",
      "Too low\n"
     ]
    }
   ],
   "source": [
    "between_1()"
   ]
  },
  {
   "cell_type": "code",
   "execution_count": 14,
   "id": "e3343779",
   "metadata": {},
   "outputs": [
    {
     "name": "stdout",
     "output_type": "stream",
     "text": [
      "Please enter a number: 9.999999\n",
      "Too low\n"
     ]
    }
   ],
   "source": [
    "between_1()"
   ]
  },
  {
   "cell_type": "code",
   "execution_count": 15,
   "id": "6e330dbe",
   "metadata": {},
   "outputs": [
    {
     "name": "stdout",
     "output_type": "stream",
     "text": [
      "Please enter a number: 10\n",
      "Correct\n"
     ]
    }
   ],
   "source": [
    "between_1()"
   ]
  },
  {
   "cell_type": "code",
   "execution_count": 16,
   "id": "60557902",
   "metadata": {},
   "outputs": [
    {
     "name": "stdout",
     "output_type": "stream",
     "text": [
      "Please enter a number: 15\n",
      "Correct\n"
     ]
    }
   ],
   "source": [
    "between_1()"
   ]
  },
  {
   "cell_type": "code",
   "execution_count": 17,
   "id": "e5f9794a",
   "metadata": {},
   "outputs": [
    {
     "name": "stdout",
     "output_type": "stream",
     "text": [
      "Please enter a number: 20\n",
      "Correct\n"
     ]
    }
   ],
   "source": [
    "between_1()"
   ]
  },
  {
   "cell_type": "code",
   "execution_count": 18,
   "id": "0d868e73",
   "metadata": {},
   "outputs": [
    {
     "name": "stdout",
     "output_type": "stream",
     "text": [
      "Please enter a number: 20.0000001\n",
      "Too high\n"
     ]
    }
   ],
   "source": [
    "between_1()"
   ]
  }
 ],
 "metadata": {
  "kernelspec": {
   "display_name": "Python 3 (ipykernel)",
   "language": "python",
   "name": "python3"
  },
  "language_info": {
   "codemirror_mode": {
    "name": "ipython",
    "version": 3
   },
   "file_extension": ".py",
   "mimetype": "text/x-python",
   "name": "python",
   "nbconvert_exporter": "python",
   "pygments_lexer": "ipython3",
   "version": "3.8.16"
  }
 },
 "nbformat": 4,
 "nbformat_minor": 5
}
