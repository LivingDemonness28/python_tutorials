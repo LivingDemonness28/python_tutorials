{
 "cells": [
  {
   "cell_type": "markdown",
   "id": "42df3486",
   "metadata": {},
   "source": [
    "# While loop"
   ]
  },
  {
   "cell_type": "code",
   "execution_count": 1,
   "id": "e2197562",
   "metadata": {},
   "outputs": [],
   "source": [
    "#Remember you give your function any name,\n",
    "#it doens't have to be 'name'\n",
    "def name():\n",
    "    name = str(input(\"Please enter your name: \"))\n",
    "    \n",
    "    #get the length of the name\n",
    "    length = len(name)\n",
    "    i = 0\n",
    "    \n",
    "    while(i < length):\n",
    "        print(name[i])\n",
    "        i += 1"
   ]
  },
  {
   "cell_type": "code",
   "execution_count": 2,
   "id": "b0fac61d",
   "metadata": {},
   "outputs": [
    {
     "name": "stdout",
     "output_type": "stream",
     "text": [
      "Please enter your name: choc\n",
      "c\n",
      "h\n",
      "o\n",
      "c\n"
     ]
    }
   ],
   "source": [
    "name()"
   ]
  },
  {
   "cell_type": "code",
   "execution_count": 3,
   "id": "02612ea0",
   "metadata": {},
   "outputs": [
    {
     "name": "stdout",
     "output_type": "stream",
     "text": [
      "Please enter your name: LivingDemoness28\n",
      "L\n",
      "i\n",
      "v\n",
      "i\n",
      "n\n",
      "g\n",
      "D\n",
      "e\n",
      "m\n",
      "o\n",
      "n\n",
      "e\n",
      "s\n",
      "s\n",
      "2\n",
      "8\n"
     ]
    }
   ],
   "source": [
    "name()"
   ]
  },
  {
   "cell_type": "markdown",
   "id": "84c4a739",
   "metadata": {},
   "source": [
    "# For loop"
   ]
  },
  {
   "cell_type": "code",
   "execution_count": 4,
   "id": "f83b69b6",
   "metadata": {},
   "outputs": [],
   "source": [
    "def name_1():\n",
    "    name = str(input(\"Please enter your name: \"))\n",
    "    \n",
    "    #get the length of the name\n",
    "    length = len(name)\n",
    "    \n",
    "    for i in range(0, length):\n",
    "        print(name[i])"
   ]
  },
  {
   "cell_type": "code",
   "execution_count": 5,
   "id": "5238b7ad",
   "metadata": {},
   "outputs": [
    {
     "name": "stdout",
     "output_type": "stream",
     "text": [
      "Please enter your name: choc\n",
      "c\n",
      "h\n",
      "o\n",
      "c\n"
     ]
    }
   ],
   "source": [
    "name_1()"
   ]
  },
  {
   "cell_type": "code",
   "execution_count": 6,
   "id": "13c6b884",
   "metadata": {},
   "outputs": [
    {
     "name": "stdout",
     "output_type": "stream",
     "text": [
      "Please enter your name: LivingDemonness28\n",
      "L\n",
      "i\n",
      "v\n",
      "i\n",
      "n\n",
      "g\n",
      "D\n",
      "e\n",
      "m\n",
      "o\n",
      "n\n",
      "n\n",
      "e\n",
      "s\n",
      "s\n",
      "2\n",
      "8\n"
     ]
    }
   ],
   "source": [
    "name_1()"
   ]
  },
  {
   "cell_type": "markdown",
   "id": "b20a66f9",
   "metadata": {},
   "source": [
    "## OR"
   ]
  },
  {
   "cell_type": "code",
   "execution_count": 7,
   "id": "ded943d3",
   "metadata": {},
   "outputs": [],
   "source": [
    "def name_2():\n",
    "    name = str(input(\"Please enter your name: \"))\n",
    "    \n",
    "    #get the length of the name\n",
    "    length = len(name)\n",
    "    \n",
    "    for i in range(length):\n",
    "        print(name[i])"
   ]
  },
  {
   "cell_type": "code",
   "execution_count": 8,
   "id": "c29c3530",
   "metadata": {},
   "outputs": [
    {
     "name": "stdout",
     "output_type": "stream",
     "text": [
      "Please enter your name: choc\n",
      "c\n",
      "h\n",
      "o\n",
      "c\n"
     ]
    }
   ],
   "source": [
    "name_2()"
   ]
  },
  {
   "cell_type": "code",
   "execution_count": 9,
   "id": "1634c885",
   "metadata": {},
   "outputs": [
    {
     "name": "stdout",
     "output_type": "stream",
     "text": [
      "Please enter your name: LivingDemonness28\n",
      "L\n",
      "i\n",
      "v\n",
      "i\n",
      "n\n",
      "g\n",
      "D\n",
      "e\n",
      "m\n",
      "o\n",
      "n\n",
      "n\n",
      "e\n",
      "s\n",
      "s\n",
      "2\n",
      "8\n"
     ]
    }
   ],
   "source": [
    "name_2()"
   ]
  }
 ],
 "metadata": {
  "kernelspec": {
   "display_name": "Python 3 (ipykernel)",
   "language": "python",
   "name": "python3"
  },
  "language_info": {
   "codemirror_mode": {
    "name": "ipython",
    "version": 3
   },
   "file_extension": ".py",
   "mimetype": "text/x-python",
   "name": "python",
   "nbconvert_exporter": "python",
   "pygments_lexer": "ipython3",
   "version": "3.8.16"
  }
 },
 "nbformat": 4,
 "nbformat_minor": 5
}
