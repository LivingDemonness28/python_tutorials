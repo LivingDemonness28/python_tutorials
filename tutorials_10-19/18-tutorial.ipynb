{
 "cells": [
  {
   "cell_type": "markdown",
   "id": "6d15bf32",
   "metadata": {},
   "source": [
    "# Using a while loop"
   ]
  },
  {
   "cell_type": "markdown",
   "id": "34081d41",
   "metadata": {},
   "source": [
    "This is a simple way to the function. If the user enters a float(a decimal number) or a string you'll get an error message"
   ]
  },
  {
   "cell_type": "code",
   "execution_count": 1,
   "id": "a2b1fe28",
   "metadata": {},
   "outputs": [],
   "source": [
    "def name():\n",
    "    name = str(input(\"Please enter your name: \"))\n",
    "    num = int(input(\"Please enter an integer 1 or higher: \"))\n",
    "    \n",
    "    #get the length of the name\n",
    "    length = len(name)\n",
    "    \n",
    "    i = 1\n",
    "    while (i <= num):\n",
    "        i += 1\n",
    "        j = 0\n",
    "        while(j < length):\n",
    "            print(name[j])\n",
    "            j += 1 #This is short for j = j + 1"
   ]
  },
  {
   "cell_type": "markdown",
   "id": "4b2d9525",
   "metadata": {},
   "source": [
    " "
   ]
  },
  {
   "cell_type": "markdown",
   "id": "7468b088",
   "metadata": {},
   "source": [
    "See, it throws a ValueError message because the number has to be an integer."
   ]
  },
  {
   "cell_type": "code",
   "execution_count": 2,
   "id": "0b869ee7",
   "metadata": {
    "scrolled": true
   },
   "outputs": [
    {
     "name": "stdout",
     "output_type": "stream",
     "text": [
      "Please enter your name: choc\n",
      "Please enter an integer 1 or higher: 1.5\n"
     ]
    },
    {
     "ename": "ValueError",
     "evalue": "invalid literal for int() with base 10: '1.5'",
     "output_type": "error",
     "traceback": [
      "\u001b[1;31m---------------------------------------------------------------------------\u001b[0m",
      "\u001b[1;31mValueError\u001b[0m                                Traceback (most recent call last)",
      "Cell \u001b[1;32mIn[2], line 1\u001b[0m\n\u001b[1;32m----> 1\u001b[0m \u001b[43mname\u001b[49m\u001b[43m(\u001b[49m\u001b[43m)\u001b[49m\n",
      "Cell \u001b[1;32mIn[1], line 3\u001b[0m, in \u001b[0;36mname\u001b[1;34m()\u001b[0m\n\u001b[0;32m      1\u001b[0m \u001b[38;5;28;01mdef\u001b[39;00m \u001b[38;5;21mname\u001b[39m():\n\u001b[0;32m      2\u001b[0m     name \u001b[38;5;241m=\u001b[39m \u001b[38;5;28mstr\u001b[39m(\u001b[38;5;28minput\u001b[39m(\u001b[38;5;124m\"\u001b[39m\u001b[38;5;124mPlease enter your name: \u001b[39m\u001b[38;5;124m\"\u001b[39m))\n\u001b[1;32m----> 3\u001b[0m     num \u001b[38;5;241m=\u001b[39m \u001b[38;5;28;43mint\u001b[39;49m\u001b[43m(\u001b[49m\u001b[38;5;28;43minput\u001b[39;49m\u001b[43m(\u001b[49m\u001b[38;5;124;43m\"\u001b[39;49m\u001b[38;5;124;43mPlease enter an integer 1 or higher: \u001b[39;49m\u001b[38;5;124;43m\"\u001b[39;49m\u001b[43m)\u001b[49m\u001b[43m)\u001b[49m\n\u001b[0;32m      5\u001b[0m     \u001b[38;5;66;03m#get the length of the name\u001b[39;00m\n\u001b[0;32m      6\u001b[0m     length \u001b[38;5;241m=\u001b[39m \u001b[38;5;28mlen\u001b[39m(name)\n",
      "\u001b[1;31mValueError\u001b[0m: invalid literal for int() with base 10: '1.5'"
     ]
    }
   ],
   "source": [
    "name()"
   ]
  },
  {
   "cell_type": "code",
   "execution_count": 3,
   "id": "6e8b3166",
   "metadata": {
    "scrolled": false
   },
   "outputs": [
    {
     "name": "stdout",
     "output_type": "stream",
     "text": [
      "Please enter your name: LivingDemonness28\n",
      "Please enter an integer 1 or higher: 2\n",
      "L\n",
      "i\n",
      "v\n",
      "i\n",
      "n\n",
      "g\n",
      "D\n",
      "e\n",
      "m\n",
      "o\n",
      "n\n",
      "n\n",
      "e\n",
      "s\n",
      "s\n",
      "2\n",
      "8\n",
      "L\n",
      "i\n",
      "v\n",
      "i\n",
      "n\n",
      "g\n",
      "D\n",
      "e\n",
      "m\n",
      "o\n",
      "n\n",
      "n\n",
      "e\n",
      "s\n",
      "s\n",
      "2\n",
      "8\n"
     ]
    }
   ],
   "source": [
    "name()"
   ]
  },
  {
   "cell_type": "markdown",
   "id": "fa680dd8",
   "metadata": {},
   "source": [
    " "
   ]
  },
  {
   "cell_type": "markdown",
   "id": "4911b50c",
   "metadata": {},
   "source": [
    "The name_loop function will prompt a user to enter an integer only for the number"
   ]
  },
  {
   "cell_type": "code",
   "execution_count": 4,
   "id": "59dae8c1",
   "metadata": {},
   "outputs": [],
   "source": [
    "def name_loop():\n",
    "    name = str(input(\"Please enter your name: \"))\n",
    "    #you don't need add this empty string.\n",
    "    #it's just there to create space\n",
    "    print(' ')\n",
    "            \n",
    "    #initialize the variable\n",
    "    num = 0\n",
    "    \n",
    "    #Use the while loop to prompt user to enter a number if\n",
    "    #a string is entered, if a float is entered or if integer is less than 1 prompt\n",
    "    #user to enter a number 1 or higher\n",
    "    #break loop only when 1 or higher is entered\n",
    "    while num < 1:\n",
    "        #prompt user for an integer\n",
    "        integer = input(\"Please enter an integer 1 or higher: \")\n",
    "        try:\n",
    "            #ensures that the value stays strictly an integer\n",
    "            num = int(integer)\n",
    "        except ValueError:\n",
    "            print(\"Invalid input, please enter an integer\")\n",
    "            print(' ')\n",
    "            continue\n",
    "        if num < 1:\n",
    "            print(\"Number must be 1 or higher\")\n",
    "            print(' ')\n",
    "\n",
    "    #get the length of the name\n",
    "    length = len(name)\n",
    "    \n",
    "    i = 1\n",
    "    while (i <= num):\n",
    "        i += 1\n",
    "        j = 0\n",
    "        while(j < length):\n",
    "            print(name[j])\n",
    "            j += 1"
   ]
  },
  {
   "cell_type": "code",
   "execution_count": 6,
   "id": "d2f9682b",
   "metadata": {},
   "outputs": [
    {
     "name": "stdout",
     "output_type": "stream",
     "text": [
      "Please enter your name: choc\n",
      " \n",
      "Please enter an integer 1 or higher: 2.5\n",
      "Invalid input, please enter an integer\n",
      " \n",
      "Please enter an integer 1 or higher: d\n",
      "Invalid input, please enter an integer\n",
      " \n",
      "Please enter an integer 1 or higher: 2\n",
      "c\n",
      "h\n",
      "o\n",
      "c\n",
      "c\n",
      "h\n",
      "o\n",
      "c\n"
     ]
    }
   ],
   "source": [
    "name_loop()"
   ]
  },
  {
   "cell_type": "code",
   "execution_count": 7,
   "id": "8b268b08",
   "metadata": {
    "scrolled": false
   },
   "outputs": [
    {
     "name": "stdout",
     "output_type": "stream",
     "text": [
      "Please enter your name: LivingDemonness28\n",
      " \n",
      "Please enter an integer 1 or higher: 2\n",
      "L\n",
      "i\n",
      "v\n",
      "i\n",
      "n\n",
      "g\n",
      "D\n",
      "e\n",
      "m\n",
      "o\n",
      "n\n",
      "n\n",
      "e\n",
      "s\n",
      "s\n",
      "2\n",
      "8\n",
      "L\n",
      "i\n",
      "v\n",
      "i\n",
      "n\n",
      "g\n",
      "D\n",
      "e\n",
      "m\n",
      "o\n",
      "n\n",
      "n\n",
      "e\n",
      "s\n",
      "s\n",
      "2\n",
      "8\n"
     ]
    }
   ],
   "source": [
    "name_loop()"
   ]
  },
  {
   "cell_type": "markdown",
   "id": "e50cf3f4",
   "metadata": {},
   "source": [
    "# Using a for loop"
   ]
  },
  {
   "cell_type": "markdown",
   "id": "aa3aa039",
   "metadata": {},
   "source": [
    "### The simple version"
   ]
  },
  {
   "cell_type": "code",
   "execution_count": 8,
   "id": "786b3279",
   "metadata": {},
   "outputs": [],
   "source": [
    "def name_1():\n",
    "    name = str(input(\"Please enter your name: \"))\n",
    "    num = int(input(\"Please enter an integer 1 or higher: \"))\n",
    "    \n",
    "    #get the length of the name\n",
    "    length = len(name)\n",
    "    \n",
    "    #Create a range of numbers from 1 to num, range function \n",
    "    #does not include the last number which is num here\n",
    "    for i in range(0, num):\n",
    "        for j in range(0, length):\n",
    "            print(name[j])"
   ]
  },
  {
   "cell_type": "code",
   "execution_count": 9,
   "id": "1140a67f",
   "metadata": {},
   "outputs": [
    {
     "name": "stdout",
     "output_type": "stream",
     "text": [
      "Please enter your name: choc\n",
      "Please enter an integer 1 or higher: 2\n",
      "c\n",
      "h\n",
      "o\n",
      "c\n",
      "c\n",
      "h\n",
      "o\n",
      "c\n"
     ]
    }
   ],
   "source": [
    "name_1()"
   ]
  },
  {
   "cell_type": "code",
   "execution_count": 11,
   "id": "0e27d3dc",
   "metadata": {},
   "outputs": [
    {
     "name": "stdout",
     "output_type": "stream",
     "text": [
      "Please enter your name: choc\n",
      "Please enter an integer 1 or higher: 1\n",
      "c\n",
      "h\n",
      "o\n",
      "c\n"
     ]
    }
   ],
   "source": [
    "name_1()"
   ]
  },
  {
   "cell_type": "code",
   "execution_count": 10,
   "id": "30c0c595",
   "metadata": {},
   "outputs": [
    {
     "name": "stdout",
     "output_type": "stream",
     "text": [
      "Please enter your name: LivingDemonness28\n",
      "Please enter an integer 1 or higher: 2\n",
      "L\n",
      "i\n",
      "v\n",
      "i\n",
      "n\n",
      "g\n",
      "D\n",
      "e\n",
      "m\n",
      "o\n",
      "n\n",
      "n\n",
      "e\n",
      "s\n",
      "s\n",
      "2\n",
      "8\n",
      "L\n",
      "i\n",
      "v\n",
      "i\n",
      "n\n",
      "g\n",
      "D\n",
      "e\n",
      "m\n",
      "o\n",
      "n\n",
      "n\n",
      "e\n",
      "s\n",
      "s\n",
      "2\n",
      "8\n"
     ]
    }
   ],
   "source": [
    "name_1()"
   ]
  },
  {
   "cell_type": "code",
   "execution_count": 12,
   "id": "c9ea71d7",
   "metadata": {
    "scrolled": true
   },
   "outputs": [
    {
     "name": "stdout",
     "output_type": "stream",
     "text": [
      "Please enter your name: LivingDemonness28\n",
      "Please enter an integer 1 or higher: 1\n",
      "L\n",
      "i\n",
      "v\n",
      "i\n",
      "n\n",
      "g\n",
      "D\n",
      "e\n",
      "m\n",
      "o\n",
      "n\n",
      "n\n",
      "e\n",
      "s\n",
      "s\n",
      "2\n",
      "8\n"
     ]
    }
   ],
   "source": [
    "name_1()"
   ]
  },
  {
   "cell_type": "markdown",
   "id": "675b2779",
   "metadata": {},
   "source": [
    "### The num on loop till an integer is entered version"
   ]
  },
  {
   "cell_type": "code",
   "execution_count": 14,
   "id": "3b340c50",
   "metadata": {},
   "outputs": [],
   "source": [
    "def name_loop_1():\n",
    "    name = str(input(\"Please enter your name: \"))\n",
    "    #you don't need add this empty string.\n",
    "    #it's just there to create space\n",
    "    print(' ')\n",
    "            \n",
    "    #initialize the variable\n",
    "    num = 0\n",
    "    \n",
    "    #Use the while loop to prompt user to enter a number if\n",
    "    #a string is entered, if a float is entered or if integer is less than 1 prompt\n",
    "    #user to enter a number 1 or higher\n",
    "    #break loop only when 1 or higher is entered\n",
    "    while num < 1:\n",
    "        #prompt user for an integer\n",
    "        integer = input(\"Please enter an integer 1 or higher: \")\n",
    "        try:\n",
    "            #ensures that the value stays strictly an integer\n",
    "            num = int(integer)\n",
    "        except ValueError:\n",
    "            print(\"Invalid input, please enter an integer\")\n",
    "            print(' ')\n",
    "            continue\n",
    "        if num < 1:\n",
    "            print(\"Number must be 1 or higher\")\n",
    "            print(' ')\n",
    "    \n",
    "    #get the length of the name\n",
    "    length = len(name)\n",
    "    \n",
    "    #Create a range of numbers from 1 to num, range function \n",
    "    #does not include the last number which is 4 here\n",
    "    for i in range(0, num):\n",
    "        for j in range(0, length):\n",
    "            print(name[j])"
   ]
  },
  {
   "cell_type": "code",
   "execution_count": 15,
   "id": "bc069bc1",
   "metadata": {
    "scrolled": true
   },
   "outputs": [
    {
     "name": "stdout",
     "output_type": "stream",
     "text": [
      "Please enter your name: choc\n",
      " \n",
      "Please enter an integer 1 or higher: 2.5\n",
      "Invalid input, please enter an integer\n",
      " \n",
      "Please enter an integer 1 or higher: d\n",
      "Invalid input, please enter an integer\n",
      " \n",
      "Please enter an integer 1 or higher: 2\n",
      "c\n",
      "h\n",
      "o\n",
      "c\n",
      "c\n",
      "h\n",
      "o\n",
      "c\n"
     ]
    }
   ],
   "source": [
    "name_loop_1()"
   ]
  },
  {
   "cell_type": "code",
   "execution_count": 16,
   "id": "902e704f",
   "metadata": {
    "scrolled": false
   },
   "outputs": [
    {
     "name": "stdout",
     "output_type": "stream",
     "text": [
      "Please enter your name: LivingDemonness28\n",
      " \n",
      "Please enter an integer 1 or higher: 2\n",
      "L\n",
      "i\n",
      "v\n",
      "i\n",
      "n\n",
      "g\n",
      "D\n",
      "e\n",
      "m\n",
      "o\n",
      "n\n",
      "n\n",
      "e\n",
      "s\n",
      "s\n",
      "2\n",
      "8\n",
      "L\n",
      "i\n",
      "v\n",
      "i\n",
      "n\n",
      "g\n",
      "D\n",
      "e\n",
      "m\n",
      "o\n",
      "n\n",
      "n\n",
      "e\n",
      "s\n",
      "s\n",
      "2\n",
      "8\n"
     ]
    }
   ],
   "source": [
    "name_loop_1()"
   ]
  },
  {
   "cell_type": "markdown",
   "id": "358bab66",
   "metadata": {},
   "source": [
    "# Or you do it like this using a for loop"
   ]
  },
  {
   "cell_type": "markdown",
   "id": "02d0193e",
   "metadata": {},
   "source": [
    "### The simple version"
   ]
  },
  {
   "cell_type": "code",
   "execution_count": 17,
   "id": "5d74dc36",
   "metadata": {},
   "outputs": [],
   "source": [
    "def name_2():\n",
    "    name = input(\"Please enter your name: \")\n",
    "    num = int(input(\"Please enter an integer 1 or higher: \"))\n",
    "    \n",
    "    #get the length of the name\n",
    "    length = len(name)\n",
    "    \n",
    "    for i in range(num):\n",
    "        for j in range(length):\n",
    "            print(name[j])"
   ]
  },
  {
   "cell_type": "code",
   "execution_count": 18,
   "id": "19788bb0",
   "metadata": {},
   "outputs": [
    {
     "name": "stdout",
     "output_type": "stream",
     "text": [
      "Please enter your name: choc\n",
      "Please enter an integer 1 or higher: 2\n",
      "c\n",
      "h\n",
      "o\n",
      "c\n",
      "c\n",
      "h\n",
      "o\n",
      "c\n"
     ]
    }
   ],
   "source": [
    "name_2()"
   ]
  },
  {
   "cell_type": "code",
   "execution_count": 19,
   "id": "425e9d80",
   "metadata": {},
   "outputs": [
    {
     "name": "stdout",
     "output_type": "stream",
     "text": [
      "Please enter your name: LivingDemonness28\n",
      "Please enter an integer 1 or higher: 2\n",
      "L\n",
      "i\n",
      "v\n",
      "i\n",
      "n\n",
      "g\n",
      "D\n",
      "e\n",
      "m\n",
      "o\n",
      "n\n",
      "n\n",
      "e\n",
      "s\n",
      "s\n",
      "2\n",
      "8\n",
      "L\n",
      "i\n",
      "v\n",
      "i\n",
      "n\n",
      "g\n",
      "D\n",
      "e\n",
      "m\n",
      "o\n",
      "n\n",
      "n\n",
      "e\n",
      "s\n",
      "s\n",
      "2\n",
      "8\n"
     ]
    }
   ],
   "source": [
    "name_2()"
   ]
  },
  {
   "cell_type": "markdown",
   "id": "2e124ec1",
   "metadata": {},
   "source": [
    "### The num on loop till an integer is entered version"
   ]
  },
  {
   "cell_type": "code",
   "execution_count": 20,
   "id": "6b4d938b",
   "metadata": {},
   "outputs": [],
   "source": [
    "def name_loop_2():\n",
    "    name = str(input(\"Please enter your name: \"))\n",
    "    #you don't need add this empty string.\n",
    "    #it's just there to create space\n",
    "    print(' ')\n",
    "            \n",
    "    #initialize the variable\n",
    "    num = 0\n",
    "    \n",
    "    #Use the while loop to prompt user to enter a number if\n",
    "    #a string is entered, if a float is entered or if integer is less than 1 prompt\n",
    "    #user to enter a number 1 or higher\n",
    "    #break loop only when 1 or higher is entered\n",
    "    while num < 1:\n",
    "        #prompt user for an integer\n",
    "        integer = input(\"Please enter an integer 1 or higher: \")\n",
    "        try:\n",
    "            #ensures that the value stays strictly an integer\n",
    "            num = int(integer)\n",
    "        except ValueError:\n",
    "            print(\"Invalid input, please enter an integer\")\n",
    "            print(' ')\n",
    "            continue\n",
    "        if num < 1:\n",
    "            print(\"Number must be 1 or higher\")\n",
    "            print(' ')\n",
    "            \n",
    "    #get the length of the name\n",
    "    length = len(name)\n",
    "    \n",
    "    for i in range(num):\n",
    "        for j in range(length):\n",
    "            print(name[j])"
   ]
  },
  {
   "cell_type": "code",
   "execution_count": 22,
   "id": "8fdcec69",
   "metadata": {},
   "outputs": [
    {
     "name": "stdout",
     "output_type": "stream",
     "text": [
      "Please enter your name: choc\n",
      " \n",
      "Please enter an integer 1 or higher: 2.5\n",
      "Invalid input, please enter an integer\n",
      " \n",
      "Please enter an integer 1 or higher: d\n",
      "Invalid input, please enter an integer\n",
      " \n",
      "Please enter an integer 1 or higher: 2\n",
      "c\n",
      "h\n",
      "o\n",
      "c\n",
      "c\n",
      "h\n",
      "o\n",
      "c\n"
     ]
    }
   ],
   "source": [
    "name_loop_2()"
   ]
  },
  {
   "cell_type": "code",
   "execution_count": 22,
   "id": "cf814b8d",
   "metadata": {},
   "outputs": [
    {
     "name": "stdout",
     "output_type": "stream",
     "text": [
      "Please enter your name: choc\n",
      " \n",
      "Please enter an integer 1 or higher: 5\n",
      "choc\n",
      "choc\n",
      "choc\n",
      "choc\n",
      "choc\n"
     ]
    }
   ],
   "source": [
    "name_loop_2()"
   ]
  },
  {
   "cell_type": "code",
   "execution_count": 23,
   "id": "decae55e",
   "metadata": {},
   "outputs": [
    {
     "name": "stdout",
     "output_type": "stream",
     "text": [
      "Please enter your name: LivingDemonness28\n",
      " \n",
      "Please enter an integer 1 or higher: 2\n",
      "L\n",
      "i\n",
      "v\n",
      "i\n",
      "n\n",
      "g\n",
      "D\n",
      "e\n",
      "m\n",
      "o\n",
      "n\n",
      "n\n",
      "e\n",
      "s\n",
      "s\n",
      "2\n",
      "8\n",
      "L\n",
      "i\n",
      "v\n",
      "i\n",
      "n\n",
      "g\n",
      "D\n",
      "e\n",
      "m\n",
      "o\n",
      "n\n",
      "n\n",
      "e\n",
      "s\n",
      "s\n",
      "2\n",
      "8\n"
     ]
    }
   ],
   "source": [
    "name_loop_2()"
   ]
  }
 ],
 "metadata": {
  "kernelspec": {
   "display_name": "Python 3 (ipykernel)",
   "language": "python",
   "name": "python3"
  },
  "language_info": {
   "codemirror_mode": {
    "name": "ipython",
    "version": 3
   },
   "file_extension": ".py",
   "mimetype": "text/x-python",
   "name": "python",
   "nbconvert_exporter": "python",
   "pygments_lexer": "ipython3",
   "version": "3.8.16"
  }
 },
 "nbformat": 4,
 "nbformat_minor": 5
}
