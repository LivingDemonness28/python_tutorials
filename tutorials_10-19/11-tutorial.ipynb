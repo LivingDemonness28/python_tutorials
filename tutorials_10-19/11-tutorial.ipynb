{
 "cells": [
  {
   "cell_type": "code",
   "execution_count": 4,
   "id": "dcda06be",
   "metadata": {},
   "outputs": [],
   "source": [
    "def rain():\n",
    "    rain = \"\"\n",
    "    while rain not in [\"y\", \"n\"]:\n",
    "        rain = str(input(\"Is it raining (y/n): \")).strip().lower()\n",
    "    if(rain == \"y\"):\n",
    "        wind = \"\"\n",
    "        while wind not in [\"y\", \"n\"]:\n",
    "            wind = str(input(\"Is it windy(y/n): \")).strip().lower()\n",
    "        if(wind == \"y\"):\n",
    "            print(\"It is too windy for an umbrella\")\n",
    "        else:\n",
    "            print(\"Take an umbrella\")\n",
    "    else:\n",
    "        print(\"Enjoy your day\")"
   ]
  },
  {
   "cell_type": "code",
   "execution_count": 5,
   "id": "634d84ed",
   "metadata": {},
   "outputs": [
    {
     "name": "stdout",
     "output_type": "stream",
     "text": [
      "Is it raining (y/n): y\n",
      "Is it windy(y/n): y\n",
      "It is too windy for an umbrella\n"
     ]
    }
   ],
   "source": [
    "rain()"
   ]
  },
  {
   "cell_type": "code",
   "execution_count": 6,
   "id": "984faa7a",
   "metadata": {},
   "outputs": [
    {
     "name": "stdout",
     "output_type": "stream",
     "text": [
      "Is it raining (y/n): y\n",
      "Is it windy(y/n): n\n",
      "Take an umbrella\n"
     ]
    }
   ],
   "source": [
    "rain()"
   ]
  },
  {
   "cell_type": "code",
   "execution_count": 7,
   "id": "aa97b1d0",
   "metadata": {},
   "outputs": [
    {
     "name": "stdout",
     "output_type": "stream",
     "text": [
      "Is it raining (y/n): m\n",
      "Is it raining (y/n): n\n",
      "Enjoy your day\n"
     ]
    }
   ],
   "source": [
    "rain()"
   ]
  },
  {
   "cell_type": "code",
   "execution_count": 8,
   "id": "4fb8944b",
   "metadata": {},
   "outputs": [
    {
     "name": "stdout",
     "output_type": "stream",
     "text": [
      "Is it raining (y/n): n\n",
      "Enjoy your day\n"
     ]
    }
   ],
   "source": [
    "rain()"
   ]
  }
 ],
 "metadata": {
  "kernelspec": {
   "display_name": "Python 3 (ipykernel)",
   "language": "python",
   "name": "python3"
  },
  "language_info": {
   "codemirror_mode": {
    "name": "ipython",
    "version": 3
   },
   "file_extension": ".py",
   "mimetype": "text/x-python",
   "name": "python",
   "nbconvert_exporter": "python",
   "pygments_lexer": "ipython3",
   "version": "3.8.16"
  }
 },
 "nbformat": 4,
 "nbformat_minor": 5
}
